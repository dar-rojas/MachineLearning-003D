{
 "cells": [
  {
   "cell_type": "markdown",
   "metadata": {},
   "source": [
    "## 🟠**FASE V: unsupervised models**🟠"
   ]
  },
  {
   "cell_type": "markdown",
   "metadata": {},
   "source": [
    "### 🔶K-Means--MODELS "
   ]
  },
  {
   "cell_type": "code",
   "execution_count": 1,
   "metadata": {},
   "outputs": [],
   "source": [
    "# Librerías básicas\n",
    "\n",
    "import numpy as np\n",
    "\n",
    "import matplotlib.pyplot as plt\n",
    "import matplotlib.cm as cm\n",
    "import seaborn as sns\n",
    "\n",
    "import warnings #Advertencias\n",
    "warnings.filterwarnings('ignore')\n",
    "\n",
    "import cupy, cudf, cuml\n",
    "from cuml.cluster import KMeans\n",
    "\n",
    "monopoly = cudf.read_parquet('../monopoly_cleaned_parquet')"
   ]
  },
  {
   "cell_type": "code",
   "execution_count": 3,
   "metadata": {},
   "outputs": [
    {
     "data": {
      "text/plain": [
       "(51121, 66)"
      ]
     },
     "execution_count": 3,
     "metadata": {},
     "output_type": "execute_result"
    }
   ],
   "source": [
    "monopoly.shape"
   ]
  },
  {
   "cell_type": "code",
   "execution_count": 4,
   "metadata": {},
   "outputs": [
    {
     "data": {
      "text/html": [
       "<div>\n",
       "<style scoped>\n",
       "    .dataframe tbody tr th:only-of-type {\n",
       "        vertical-align: middle;\n",
       "    }\n",
       "\n",
       "    .dataframe tbody tr th {\n",
       "        vertical-align: top;\n",
       "    }\n",
       "\n",
       "    .dataframe thead th {\n",
       "        text-align: right;\n",
       "    }\n",
       "</style>\n",
       "<table border=\"1\" class=\"dataframe\">\n",
       "  <thead>\n",
       "    <tr style=\"text-align: right;\">\n",
       "      <th></th>\n",
       "      <th>Subsegmento</th>\n",
       "      <th>Sexo</th>\n",
       "      <th>Region</th>\n",
       "      <th>Edad</th>\n",
       "      <th>Renta</th>\n",
       "      <th>Antiguedad</th>\n",
       "      <th>Internauta</th>\n",
       "      <th>Adicional</th>\n",
       "      <th>Dualidad</th>\n",
       "      <th>Monoproducto</th>\n",
       "      <th>...</th>\n",
       "      <th>ColL2AC_avg</th>\n",
       "      <th>ColL2CC_avg</th>\n",
       "      <th>ColMx_avg</th>\n",
       "      <th>PagoNac_avg</th>\n",
       "      <th>PagoInt_avg</th>\n",
       "      <th>EeccNac_avg</th>\n",
       "      <th>EeccInt_avg</th>\n",
       "      <th>UsoL1_avg</th>\n",
       "      <th>UsoL2_avg</th>\n",
       "      <th>UsoLI_avg</th>\n",
       "    </tr>\n",
       "  </thead>\n",
       "  <tbody>\n",
       "    <tr>\n",
       "      <th>9035</th>\n",
       "      <td>160.0</td>\n",
       "      <td>0.0</td>\n",
       "      <td>13.0</td>\n",
       "      <td>42.0</td>\n",
       "      <td>595067.0</td>\n",
       "      <td>17.0</td>\n",
       "      <td>1.0</td>\n",
       "      <td>0.0</td>\n",
       "      <td>1.0</td>\n",
       "      <td>0.0</td>\n",
       "      <td>...</td>\n",
       "      <td>0.0</td>\n",
       "      <td>2962.583333</td>\n",
       "      <td>0.0</td>\n",
       "      <td>4021.583333</td>\n",
       "      <td>0.0</td>\n",
       "      <td>11714.833333</td>\n",
       "      <td>0.0</td>\n",
       "      <td>11723.166667</td>\n",
       "      <td>8951.916667</td>\n",
       "      <td>0.0</td>\n",
       "    </tr>\n",
       "    <tr>\n",
       "      <th>31631</th>\n",
       "      <td>220.0</td>\n",
       "      <td>1.0</td>\n",
       "      <td>13.0</td>\n",
       "      <td>25.0</td>\n",
       "      <td>739137.4</td>\n",
       "      <td>30.0</td>\n",
       "      <td>1.0</td>\n",
       "      <td>0.0</td>\n",
       "      <td>1.0</td>\n",
       "      <td>0.0</td>\n",
       "      <td>...</td>\n",
       "      <td>0.0</td>\n",
       "      <td>30207.666667</td>\n",
       "      <td>0.0</td>\n",
       "      <td>30768.583333</td>\n",
       "      <td>0.0</td>\n",
       "      <td>28351.250000</td>\n",
       "      <td>0.0</td>\n",
       "      <td>24927.416667</td>\n",
       "      <td>32706.750000</td>\n",
       "      <td>0.0</td>\n",
       "    </tr>\n",
       "    <tr>\n",
       "      <th>18877</th>\n",
       "      <td>170.0</td>\n",
       "      <td>0.0</td>\n",
       "      <td>13.0</td>\n",
       "      <td>33.0</td>\n",
       "      <td>916201.0</td>\n",
       "      <td>8.0</td>\n",
       "      <td>1.0</td>\n",
       "      <td>0.0</td>\n",
       "      <td>1.0</td>\n",
       "      <td>0.0</td>\n",
       "      <td>...</td>\n",
       "      <td>0.0</td>\n",
       "      <td>0.000000</td>\n",
       "      <td>0.0</td>\n",
       "      <td>31416.666667</td>\n",
       "      <td>0.0</td>\n",
       "      <td>75086.583333</td>\n",
       "      <td>0.0</td>\n",
       "      <td>76143.833333</td>\n",
       "      <td>12127.416667</td>\n",
       "      <td>0.0</td>\n",
       "    </tr>\n",
       "    <tr>\n",
       "      <th>29082</th>\n",
       "      <td>220.0</td>\n",
       "      <td>0.0</td>\n",
       "      <td>13.0</td>\n",
       "      <td>28.0</td>\n",
       "      <td>229544.4</td>\n",
       "      <td>13.0</td>\n",
       "      <td>1.0</td>\n",
       "      <td>0.0</td>\n",
       "      <td>0.0</td>\n",
       "      <td>0.0</td>\n",
       "      <td>...</td>\n",
       "      <td>0.0</td>\n",
       "      <td>97727.916667</td>\n",
       "      <td>0.0</td>\n",
       "      <td>22691.333333</td>\n",
       "      <td>0.0</td>\n",
       "      <td>31618.000000</td>\n",
       "      <td>0.0</td>\n",
       "      <td>37393.770833</td>\n",
       "      <td>90454.083333</td>\n",
       "      <td>0.0</td>\n",
       "    </tr>\n",
       "    <tr>\n",
       "      <th>26830</th>\n",
       "      <td>160.0</td>\n",
       "      <td>1.0</td>\n",
       "      <td>13.0</td>\n",
       "      <td>29.0</td>\n",
       "      <td>440749.0</td>\n",
       "      <td>21.0</td>\n",
       "      <td>1.0</td>\n",
       "      <td>0.0</td>\n",
       "      <td>0.0</td>\n",
       "      <td>0.0</td>\n",
       "      <td>...</td>\n",
       "      <td>0.0</td>\n",
       "      <td>24964.083333</td>\n",
       "      <td>0.0</td>\n",
       "      <td>34199.250000</td>\n",
       "      <td>0.0</td>\n",
       "      <td>26039.166667</td>\n",
       "      <td>0.0</td>\n",
       "      <td>349.166667</td>\n",
       "      <td>53281.500000</td>\n",
       "      <td>0.0</td>\n",
       "    </tr>\n",
       "    <tr>\n",
       "      <th>27819</th>\n",
       "      <td>201.0</td>\n",
       "      <td>0.0</td>\n",
       "      <td>13.0</td>\n",
       "      <td>33.0</td>\n",
       "      <td>1112865.0</td>\n",
       "      <td>107.0</td>\n",
       "      <td>0.0</td>\n",
       "      <td>1.0</td>\n",
       "      <td>1.0</td>\n",
       "      <td>0.0</td>\n",
       "      <td>...</td>\n",
       "      <td>0.0</td>\n",
       "      <td>132872.083333</td>\n",
       "      <td>0.0</td>\n",
       "      <td>100211.750000</td>\n",
       "      <td>0.0</td>\n",
       "      <td>392570.500000</td>\n",
       "      <td>0.0</td>\n",
       "      <td>303642.886667</td>\n",
       "      <td>148066.916667</td>\n",
       "      <td>0.0</td>\n",
       "    </tr>\n",
       "    <tr>\n",
       "      <th>4805</th>\n",
       "      <td>210.0</td>\n",
       "      <td>0.0</td>\n",
       "      <td>8.0</td>\n",
       "      <td>29.0</td>\n",
       "      <td>846159.0</td>\n",
       "      <td>9.0</td>\n",
       "      <td>1.0</td>\n",
       "      <td>0.0</td>\n",
       "      <td>1.0</td>\n",
       "      <td>0.0</td>\n",
       "      <td>...</td>\n",
       "      <td>0.0</td>\n",
       "      <td>31794.583333</td>\n",
       "      <td>0.0</td>\n",
       "      <td>49716.416667</td>\n",
       "      <td>0.0</td>\n",
       "      <td>117912.666667</td>\n",
       "      <td>0.0</td>\n",
       "      <td>141734.583333</td>\n",
       "      <td>65967.666667</td>\n",
       "      <td>0.0</td>\n",
       "    </tr>\n",
       "    <tr>\n",
       "      <th>15889</th>\n",
       "      <td>160.0</td>\n",
       "      <td>1.0</td>\n",
       "      <td>13.0</td>\n",
       "      <td>33.0</td>\n",
       "      <td>550400.0</td>\n",
       "      <td>66.0</td>\n",
       "      <td>1.0</td>\n",
       "      <td>0.0</td>\n",
       "      <td>0.0</td>\n",
       "      <td>0.0</td>\n",
       "      <td>...</td>\n",
       "      <td>0.0</td>\n",
       "      <td>4495.583333</td>\n",
       "      <td>0.0</td>\n",
       "      <td>27489.333333</td>\n",
       "      <td>0.0</td>\n",
       "      <td>29436.166667</td>\n",
       "      <td>0.0</td>\n",
       "      <td>26908.250000</td>\n",
       "      <td>15918.750000</td>\n",
       "      <td>0.0</td>\n",
       "    </tr>\n",
       "    <tr>\n",
       "      <th>11006</th>\n",
       "      <td>220.0</td>\n",
       "      <td>0.0</td>\n",
       "      <td>5.0</td>\n",
       "      <td>27.0</td>\n",
       "      <td>331667.0</td>\n",
       "      <td>21.0</td>\n",
       "      <td>0.0</td>\n",
       "      <td>0.0</td>\n",
       "      <td>0.0</td>\n",
       "      <td>0.0</td>\n",
       "      <td>...</td>\n",
       "      <td>0.0</td>\n",
       "      <td>0.000000</td>\n",
       "      <td>0.0</td>\n",
       "      <td>4083.333333</td>\n",
       "      <td>0.0</td>\n",
       "      <td>78034.250000</td>\n",
       "      <td>0.0</td>\n",
       "      <td>80331.250000</td>\n",
       "      <td>17983.666667</td>\n",
       "      <td>0.0</td>\n",
       "    </tr>\n",
       "    <tr>\n",
       "      <th>20465</th>\n",
       "      <td>170.0</td>\n",
       "      <td>1.0</td>\n",
       "      <td>13.0</td>\n",
       "      <td>31.0</td>\n",
       "      <td>751651.8</td>\n",
       "      <td>55.0</td>\n",
       "      <td>1.0</td>\n",
       "      <td>0.0</td>\n",
       "      <td>1.0</td>\n",
       "      <td>0.0</td>\n",
       "      <td>...</td>\n",
       "      <td>0.0</td>\n",
       "      <td>0.000000</td>\n",
       "      <td>0.0</td>\n",
       "      <td>240134.750000</td>\n",
       "      <td>0.0</td>\n",
       "      <td>234964.500000</td>\n",
       "      <td>0.0</td>\n",
       "      <td>53685.833333</td>\n",
       "      <td>40104.333333</td>\n",
       "      <td>0.0</td>\n",
       "    </tr>\n",
       "  </tbody>\n",
       "</table>\n",
       "<p>10 rows × 66 columns</p>\n",
       "</div>"
      ],
      "text/plain": [
       "       Subsegmento  Sexo  Region  Edad      Renta  Antiguedad  Internauta  \\\n",
       "9035         160.0   0.0    13.0  42.0   595067.0        17.0         1.0   \n",
       "31631        220.0   1.0    13.0  25.0   739137.4        30.0         1.0   \n",
       "18877        170.0   0.0    13.0  33.0   916201.0         8.0         1.0   \n",
       "29082        220.0   0.0    13.0  28.0   229544.4        13.0         1.0   \n",
       "26830        160.0   1.0    13.0  29.0   440749.0        21.0         1.0   \n",
       "27819        201.0   0.0    13.0  33.0  1112865.0       107.0         0.0   \n",
       "4805         210.0   0.0     8.0  29.0   846159.0         9.0         1.0   \n",
       "15889        160.0   1.0    13.0  33.0   550400.0        66.0         1.0   \n",
       "11006        220.0   0.0     5.0  27.0   331667.0        21.0         0.0   \n",
       "20465        170.0   1.0    13.0  31.0   751651.8        55.0         1.0   \n",
       "\n",
       "       Adicional  Dualidad  Monoproducto  ...  ColL2AC_avg    ColL2CC_avg  \\\n",
       "9035         0.0       1.0           0.0  ...          0.0    2962.583333   \n",
       "31631        0.0       1.0           0.0  ...          0.0   30207.666667   \n",
       "18877        0.0       1.0           0.0  ...          0.0       0.000000   \n",
       "29082        0.0       0.0           0.0  ...          0.0   97727.916667   \n",
       "26830        0.0       0.0           0.0  ...          0.0   24964.083333   \n",
       "27819        1.0       1.0           0.0  ...          0.0  132872.083333   \n",
       "4805         0.0       1.0           0.0  ...          0.0   31794.583333   \n",
       "15889        0.0       0.0           0.0  ...          0.0    4495.583333   \n",
       "11006        0.0       0.0           0.0  ...          0.0       0.000000   \n",
       "20465        0.0       1.0           0.0  ...          0.0       0.000000   \n",
       "\n",
       "       ColMx_avg    PagoNac_avg  PagoInt_avg    EeccNac_avg  EeccInt_avg  \\\n",
       "9035         0.0    4021.583333          0.0   11714.833333          0.0   \n",
       "31631        0.0   30768.583333          0.0   28351.250000          0.0   \n",
       "18877        0.0   31416.666667          0.0   75086.583333          0.0   \n",
       "29082        0.0   22691.333333          0.0   31618.000000          0.0   \n",
       "26830        0.0   34199.250000          0.0   26039.166667          0.0   \n",
       "27819        0.0  100211.750000          0.0  392570.500000          0.0   \n",
       "4805         0.0   49716.416667          0.0  117912.666667          0.0   \n",
       "15889        0.0   27489.333333          0.0   29436.166667          0.0   \n",
       "11006        0.0    4083.333333          0.0   78034.250000          0.0   \n",
       "20465        0.0  240134.750000          0.0  234964.500000          0.0   \n",
       "\n",
       "           UsoL1_avg      UsoL2_avg  UsoLI_avg  \n",
       "9035    11723.166667    8951.916667        0.0  \n",
       "31631   24927.416667   32706.750000        0.0  \n",
       "18877   76143.833333   12127.416667        0.0  \n",
       "29082   37393.770833   90454.083333        0.0  \n",
       "26830     349.166667   53281.500000        0.0  \n",
       "27819  303642.886667  148066.916667        0.0  \n",
       "4805   141734.583333   65967.666667        0.0  \n",
       "15889   26908.250000   15918.750000        0.0  \n",
       "11006   80331.250000   17983.666667        0.0  \n",
       "20465   53685.833333   40104.333333        0.0  \n",
       "\n",
       "[10 rows x 66 columns]"
      ]
     },
     "execution_count": 4,
     "metadata": {},
     "output_type": "execute_result"
    }
   ],
   "source": [
    "monopoly.sample(10)"
   ]
  },
  {
   "cell_type": "code",
   "execution_count": 5,
   "metadata": {},
   "outputs": [
    {
     "name": "stdout",
     "output_type": "stream",
     "text": [
      "<class 'cudf.core.dataframe.DataFrame'>\n",
      "RangeIndex: 51121 entries, 0 to 51120\n",
      "Data columns (total 66 columns):\n",
      " #   Column          Non-Null Count  Dtype\n",
      "---  ------          --------------  -----\n",
      " 0   Subsegmento     51121 non-null  float64\n",
      " 1   Sexo            51121 non-null  float64\n",
      " 2   Region          51121 non-null  float64\n",
      " 3   Edad            51121 non-null  float64\n",
      " 4   Renta           51121 non-null  float64\n",
      " 5   Antiguedad      51121 non-null  float64\n",
      " 6   Internauta      51121 non-null  float64\n",
      " 7   Adicional       51121 non-null  float64\n",
      " 8   Dualidad        51121 non-null  float64\n",
      " 9   Monoproducto    51121 non-null  float64\n",
      " 10  Ctacte          51121 non-null  float64\n",
      " 11  Consumo         51121 non-null  float64\n",
      " 12  Hipotecario     51121 non-null  float64\n",
      " 13  Debito          51121 non-null  float64\n",
      " 14  CambioPin       51121 non-null  float64\n",
      " 15  Cuentas         51121 non-null  float64\n",
      " 16  TC              51121 non-null  float64\n",
      " 17  CUPO_L1         51121 non-null  float64\n",
      " 18  CUPO_L2         51121 non-null  float64\n",
      " 19  CUPO_MX         51121 non-null  float64\n",
      " 20  target          51121 non-null  float64\n",
      " 21  FlgAct_sum      51121 non-null  float64\n",
      " 22  FlgActCN_sum    51121 non-null  float64\n",
      " 23  FlgActCI_sum    51121 non-null  float64\n",
      " 24  FlgActAN_sum    51121 non-null  float64\n",
      " 25  FlgActAI_sum    51121 non-null  float64\n",
      " 26  FlgActPAT_sum   51121 non-null  float64\n",
      " 27  FlgActCCPC_sum  51121 non-null  float64\n",
      " 28  FlgActCCOT_sum  51121 non-null  float64\n",
      " 29  FlgActCOL_sum   51121 non-null  float64\n",
      " 30  Fac_avg         51121 non-null  float64\n",
      " 31  Txs_avg         51121 non-null  float64\n",
      " 32  FacCN_avg       51121 non-null  float64\n",
      " 33  TxsCN_avg       51121 non-null  float64\n",
      " 34  FacCI_avg       51121 non-null  float64\n",
      " 35  TxsCI_avg       51121 non-null  float64\n",
      " 36  FacAN_avg       51121 non-null  float64\n",
      " 37  TxsAN_avg       51121 non-null  float64\n",
      " 38  FacAI_avg       51121 non-null  float64\n",
      " 39  TxsAI_avg       51121 non-null  float64\n",
      " 40  FacPAT_avg      51121 non-null  float64\n",
      " 41  TxsPAT_avg      51121 non-null  float64\n",
      " 42  FacCCPC_avg     51121 non-null  float64\n",
      " 43  TxsCCPC_avg     51121 non-null  float64\n",
      " 44  FacCCOT_avg     51121 non-null  float64\n",
      " 45  TxsCCOT_avg     51121 non-null  float64\n",
      " 46  FacCOL_avg      51121 non-null  float64\n",
      " 47  TxsCOL_avg      51121 non-null  float64\n",
      " 48  FacDebCom_avg   51121 non-null  float64\n",
      " 49  TxsDebCom_avg   51121 non-null  float64\n",
      " 50  FacDebAtm_avg   51121 non-null  float64\n",
      " 51  TxsDebAtm_avg   51121 non-null  float64\n",
      " 52  Col_avg         51121 non-null  float64\n",
      " 53  ColL1T0_avg     51121 non-null  float64\n",
      " 54  ColL1TE_avg     51121 non-null  float64\n",
      " 55  ColL2T0_avg     51121 non-null  float64\n",
      " 56  ColL2AC_avg     51121 non-null  float64\n",
      " 57  ColL2CC_avg     51121 non-null  float64\n",
      " 58  ColMx_avg       51121 non-null  float64\n",
      " 59  PagoNac_avg     51121 non-null  float64\n",
      " 60  PagoInt_avg     51121 non-null  float64\n",
      " 61  EeccNac_avg     51121 non-null  float64\n",
      " 62  EeccInt_avg     51121 non-null  float64\n",
      " 63  UsoL1_avg       51121 non-null  float64\n",
      " 64  UsoL2_avg       51121 non-null  float64\n",
      " 65  UsoLI_avg       51121 non-null  float64\n",
      "dtypes: float64(66)\n",
      "memory usage: 25.7 MB\n"
     ]
    }
   ],
   "source": [
    "monopoly.info()"
   ]
  },
  {
   "cell_type": "code",
   "execution_count": 6,
   "metadata": {},
   "outputs": [
    {
     "data": {
      "text/html": [
       "<div>\n",
       "<style scoped>\n",
       "    .dataframe tbody tr th:only-of-type {\n",
       "        vertical-align: middle;\n",
       "    }\n",
       "\n",
       "    .dataframe tbody tr th {\n",
       "        vertical-align: top;\n",
       "    }\n",
       "\n",
       "    .dataframe thead th {\n",
       "        text-align: right;\n",
       "    }\n",
       "</style>\n",
       "<table border=\"1\" class=\"dataframe\">\n",
       "  <thead>\n",
       "    <tr style=\"text-align: right;\">\n",
       "      <th></th>\n",
       "      <th>Subsegmento</th>\n",
       "      <th>Sexo</th>\n",
       "      <th>Region</th>\n",
       "      <th>Edad</th>\n",
       "      <th>Renta</th>\n",
       "      <th>Antiguedad</th>\n",
       "      <th>Internauta</th>\n",
       "      <th>Adicional</th>\n",
       "      <th>Dualidad</th>\n",
       "      <th>Monoproducto</th>\n",
       "      <th>...</th>\n",
       "      <th>ColL2AC_avg</th>\n",
       "      <th>ColL2CC_avg</th>\n",
       "      <th>ColMx_avg</th>\n",
       "      <th>PagoNac_avg</th>\n",
       "      <th>PagoInt_avg</th>\n",
       "      <th>EeccNac_avg</th>\n",
       "      <th>EeccInt_avg</th>\n",
       "      <th>UsoL1_avg</th>\n",
       "      <th>UsoL2_avg</th>\n",
       "      <th>UsoLI_avg</th>\n",
       "    </tr>\n",
       "  </thead>\n",
       "  <tbody>\n",
       "    <tr>\n",
       "      <th>count</th>\n",
       "      <td>51121.000000</td>\n",
       "      <td>51121.000000</td>\n",
       "      <td>51121.000000</td>\n",
       "      <td>51121.000000</td>\n",
       "      <td>5.112100e+04</td>\n",
       "      <td>51121.000000</td>\n",
       "      <td>51121.000000</td>\n",
       "      <td>51121.000000</td>\n",
       "      <td>51121.000000</td>\n",
       "      <td>51121.000000</td>\n",
       "      <td>...</td>\n",
       "      <td>5.112100e+04</td>\n",
       "      <td>5.112100e+04</td>\n",
       "      <td>5.112100e+04</td>\n",
       "      <td>5.112100e+04</td>\n",
       "      <td>5.112100e+04</td>\n",
       "      <td>5.112100e+04</td>\n",
       "      <td>51121.000000</td>\n",
       "      <td>5.112100e+04</td>\n",
       "      <td>5.112100e+04</td>\n",
       "      <td>51121.000000</td>\n",
       "    </tr>\n",
       "    <tr>\n",
       "      <th>mean</th>\n",
       "      <td>182.025371</td>\n",
       "      <td>0.463860</td>\n",
       "      <td>10.830442</td>\n",
       "      <td>38.702764</td>\n",
       "      <td>6.257289e+05</td>\n",
       "      <td>38.895679</td>\n",
       "      <td>0.684239</td>\n",
       "      <td>0.256177</td>\n",
       "      <td>0.381331</td>\n",
       "      <td>0.063144</td>\n",
       "      <td>...</td>\n",
       "      <td>6.559378e+04</td>\n",
       "      <td>3.482511e+04</td>\n",
       "      <td>4.971514e+03</td>\n",
       "      <td>6.812084e+04</td>\n",
       "      <td>1.546024e+03</td>\n",
       "      <td>1.642770e+05</td>\n",
       "      <td>8.506627</td>\n",
       "      <td>1.595651e+05</td>\n",
       "      <td>1.255390e+05</td>\n",
       "      <td>9.778757</td>\n",
       "    </tr>\n",
       "    <tr>\n",
       "      <th>std</th>\n",
       "      <td>29.277083</td>\n",
       "      <td>0.498697</td>\n",
       "      <td>3.391714</td>\n",
       "      <td>13.301448</td>\n",
       "      <td>3.788618e+05</td>\n",
       "      <td>35.672050</td>\n",
       "      <td>0.464823</td>\n",
       "      <td>0.436525</td>\n",
       "      <td>0.485718</td>\n",
       "      <td>0.243225</td>\n",
       "      <td>...</td>\n",
       "      <td>3.665019e+05</td>\n",
       "      <td>7.552822e+04</td>\n",
       "      <td>2.240616e+04</td>\n",
       "      <td>7.027812e+04</td>\n",
       "      <td>2.165500e+04</td>\n",
       "      <td>2.361944e+05</td>\n",
       "      <td>39.537695</td>\n",
       "      <td>2.382086e+05</td>\n",
       "      <td>3.672443e+05</td>\n",
       "      <td>44.785131</td>\n",
       "    </tr>\n",
       "    <tr>\n",
       "      <th>min</th>\n",
       "      <td>151.000000</td>\n",
       "      <td>0.000000</td>\n",
       "      <td>1.000000</td>\n",
       "      <td>19.000000</td>\n",
       "      <td>1.000000e+00</td>\n",
       "      <td>6.000000</td>\n",
       "      <td>0.000000</td>\n",
       "      <td>0.000000</td>\n",
       "      <td>0.000000</td>\n",
       "      <td>0.000000</td>\n",
       "      <td>...</td>\n",
       "      <td>0.000000e+00</td>\n",
       "      <td>0.000000e+00</td>\n",
       "      <td>0.000000e+00</td>\n",
       "      <td>0.000000e+00</td>\n",
       "      <td>0.000000e+00</td>\n",
       "      <td>0.000000e+00</td>\n",
       "      <td>0.000000</td>\n",
       "      <td>0.000000e+00</td>\n",
       "      <td>0.000000e+00</td>\n",
       "      <td>0.000000</td>\n",
       "    </tr>\n",
       "    <tr>\n",
       "      <th>25%</th>\n",
       "      <td>160.000000</td>\n",
       "      <td>0.000000</td>\n",
       "      <td>9.000000</td>\n",
       "      <td>28.000000</td>\n",
       "      <td>4.018830e+05</td>\n",
       "      <td>14.000000</td>\n",
       "      <td>0.000000</td>\n",
       "      <td>0.000000</td>\n",
       "      <td>0.000000</td>\n",
       "      <td>0.000000</td>\n",
       "      <td>...</td>\n",
       "      <td>0.000000e+00</td>\n",
       "      <td>0.000000e+00</td>\n",
       "      <td>0.000000e+00</td>\n",
       "      <td>2.332767e+04</td>\n",
       "      <td>0.000000e+00</td>\n",
       "      <td>3.755217e+04</td>\n",
       "      <td>0.000000</td>\n",
       "      <td>3.012405e+04</td>\n",
       "      <td>1.751592e+04</td>\n",
       "      <td>0.000000</td>\n",
       "    </tr>\n",
       "    <tr>\n",
       "      <th>50%</th>\n",
       "      <td>170.000000</td>\n",
       "      <td>0.000000</td>\n",
       "      <td>13.000000</td>\n",
       "      <td>35.000000</td>\n",
       "      <td>5.426460e+05</td>\n",
       "      <td>25.000000</td>\n",
       "      <td>1.000000</td>\n",
       "      <td>0.000000</td>\n",
       "      <td>0.000000</td>\n",
       "      <td>0.000000</td>\n",
       "      <td>...</td>\n",
       "      <td>0.000000e+00</td>\n",
       "      <td>1.131692e+04</td>\n",
       "      <td>0.000000e+00</td>\n",
       "      <td>4.633333e+04</td>\n",
       "      <td>0.000000e+00</td>\n",
       "      <td>8.218217e+04</td>\n",
       "      <td>0.000000</td>\n",
       "      <td>7.540517e+04</td>\n",
       "      <td>4.061592e+04</td>\n",
       "      <td>0.000000</td>\n",
       "    </tr>\n",
       "    <tr>\n",
       "      <th>75%</th>\n",
       "      <td>210.000000</td>\n",
       "      <td>1.000000</td>\n",
       "      <td>13.000000</td>\n",
       "      <td>46.000000</td>\n",
       "      <td>7.719990e+05</td>\n",
       "      <td>54.000000</td>\n",
       "      <td>1.000000</td>\n",
       "      <td>1.000000</td>\n",
       "      <td>1.000000</td>\n",
       "      <td>0.000000</td>\n",
       "      <td>...</td>\n",
       "      <td>0.000000e+00</td>\n",
       "      <td>3.519608e+04</td>\n",
       "      <td>0.000000e+00</td>\n",
       "      <td>8.956925e+04</td>\n",
       "      <td>0.000000e+00</td>\n",
       "      <td>1.890342e+05</td>\n",
       "      <td>0.000000</td>\n",
       "      <td>1.874436e+05</td>\n",
       "      <td>8.959917e+04</td>\n",
       "      <td>0.000000</td>\n",
       "    </tr>\n",
       "    <tr>\n",
       "      <th>max</th>\n",
       "      <td>959.000000</td>\n",
       "      <td>1.000000</td>\n",
       "      <td>13.000000</td>\n",
       "      <td>104.000000</td>\n",
       "      <td>1.308933e+07</td>\n",
       "      <td>324.000000</td>\n",
       "      <td>1.000000</td>\n",
       "      <td>1.000000</td>\n",
       "      <td>1.000000</td>\n",
       "      <td>1.000000</td>\n",
       "      <td>...</td>\n",
       "      <td>1.119908e+07</td>\n",
       "      <td>2.272662e+06</td>\n",
       "      <td>1.022059e+06</td>\n",
       "      <td>1.251179e+06</td>\n",
       "      <td>1.959872e+06</td>\n",
       "      <td>4.469079e+06</td>\n",
       "      <td>1537.324167</td>\n",
       "      <td>4.478759e+06</td>\n",
       "      <td>1.104869e+07</td>\n",
       "      <td>1866.196667</td>\n",
       "    </tr>\n",
       "  </tbody>\n",
       "</table>\n",
       "<p>8 rows × 66 columns</p>\n",
       "</div>"
      ],
      "text/plain": [
       "        Subsegmento          Sexo        Region          Edad         Renta  \\\n",
       "count  51121.000000  51121.000000  51121.000000  51121.000000  5.112100e+04   \n",
       "mean     182.025371      0.463860     10.830442     38.702764  6.257289e+05   \n",
       "std       29.277083      0.498697      3.391714     13.301448  3.788618e+05   \n",
       "min      151.000000      0.000000      1.000000     19.000000  1.000000e+00   \n",
       "25%      160.000000      0.000000      9.000000     28.000000  4.018830e+05   \n",
       "50%      170.000000      0.000000     13.000000     35.000000  5.426460e+05   \n",
       "75%      210.000000      1.000000     13.000000     46.000000  7.719990e+05   \n",
       "max      959.000000      1.000000     13.000000    104.000000  1.308933e+07   \n",
       "\n",
       "         Antiguedad    Internauta     Adicional      Dualidad  Monoproducto  \\\n",
       "count  51121.000000  51121.000000  51121.000000  51121.000000  51121.000000   \n",
       "mean      38.895679      0.684239      0.256177      0.381331      0.063144   \n",
       "std       35.672050      0.464823      0.436525      0.485718      0.243225   \n",
       "min        6.000000      0.000000      0.000000      0.000000      0.000000   \n",
       "25%       14.000000      0.000000      0.000000      0.000000      0.000000   \n",
       "50%       25.000000      1.000000      0.000000      0.000000      0.000000   \n",
       "75%       54.000000      1.000000      1.000000      1.000000      0.000000   \n",
       "max      324.000000      1.000000      1.000000      1.000000      1.000000   \n",
       "\n",
       "       ...   ColL2AC_avg   ColL2CC_avg     ColMx_avg   PagoNac_avg  \\\n",
       "count  ...  5.112100e+04  5.112100e+04  5.112100e+04  5.112100e+04   \n",
       "mean   ...  6.559378e+04  3.482511e+04  4.971514e+03  6.812084e+04   \n",
       "std    ...  3.665019e+05  7.552822e+04  2.240616e+04  7.027812e+04   \n",
       "min    ...  0.000000e+00  0.000000e+00  0.000000e+00  0.000000e+00   \n",
       "25%    ...  0.000000e+00  0.000000e+00  0.000000e+00  2.332767e+04   \n",
       "50%    ...  0.000000e+00  1.131692e+04  0.000000e+00  4.633333e+04   \n",
       "75%    ...  0.000000e+00  3.519608e+04  0.000000e+00  8.956925e+04   \n",
       "max    ...  1.119908e+07  2.272662e+06  1.022059e+06  1.251179e+06   \n",
       "\n",
       "        PagoInt_avg   EeccNac_avg   EeccInt_avg     UsoL1_avg     UsoL2_avg  \\\n",
       "count  5.112100e+04  5.112100e+04  51121.000000  5.112100e+04  5.112100e+04   \n",
       "mean   1.546024e+03  1.642770e+05      8.506627  1.595651e+05  1.255390e+05   \n",
       "std    2.165500e+04  2.361944e+05     39.537695  2.382086e+05  3.672443e+05   \n",
       "min    0.000000e+00  0.000000e+00      0.000000  0.000000e+00  0.000000e+00   \n",
       "25%    0.000000e+00  3.755217e+04      0.000000  3.012405e+04  1.751592e+04   \n",
       "50%    0.000000e+00  8.218217e+04      0.000000  7.540517e+04  4.061592e+04   \n",
       "75%    0.000000e+00  1.890342e+05      0.000000  1.874436e+05  8.959917e+04   \n",
       "max    1.959872e+06  4.469079e+06   1537.324167  4.478759e+06  1.104869e+07   \n",
       "\n",
       "          UsoLI_avg  \n",
       "count  51121.000000  \n",
       "mean       9.778757  \n",
       "std       44.785131  \n",
       "min        0.000000  \n",
       "25%        0.000000  \n",
       "50%        0.000000  \n",
       "75%        0.000000  \n",
       "max     1866.196667  \n",
       "\n",
       "[8 rows x 66 columns]"
      ]
     },
     "execution_count": 6,
     "metadata": {},
     "output_type": "execute_result"
    }
   ],
   "source": [
    "monopoly.describe()"
   ]
  },
  {
   "cell_type": "code",
   "execution_count": 7,
   "metadata": {},
   "outputs": [
    {
     "name": "stdout",
     "output_type": "stream",
     "text": [
      "['Subsegmento', 'Sexo', 'Region', 'Edad', 'Renta', 'Antiguedad', 'Internauta', 'Adicional', 'Dualidad', 'Monoproducto', 'Ctacte', 'Consumo', 'Hipotecario', 'Debito', 'CambioPin', 'Cuentas', 'TC', 'CUPO_L1', 'CUPO_L2', 'CUPO_MX', 'target', 'FlgAct_sum', 'FlgActCN_sum', 'FlgActCI_sum', 'FlgActAN_sum', 'FlgActAI_sum', 'FlgActPAT_sum', 'FlgActCCPC_sum', 'FlgActCCOT_sum', 'FlgActCOL_sum', 'Fac_avg', 'Txs_avg', 'FacCN_avg', 'TxsCN_avg', 'FacCI_avg', 'TxsCI_avg', 'FacAN_avg', 'TxsAN_avg', 'FacAI_avg', 'TxsAI_avg', 'FacPAT_avg', 'TxsPAT_avg', 'FacCCPC_avg', 'TxsCCPC_avg', 'FacCCOT_avg', 'TxsCCOT_avg', 'FacCOL_avg', 'TxsCOL_avg', 'FacDebCom_avg', 'TxsDebCom_avg', 'FacDebAtm_avg', 'TxsDebAtm_avg', 'Col_avg', 'ColL1T0_avg', 'ColL1TE_avg', 'ColL2T0_avg', 'ColL2AC_avg', 'ColL2CC_avg', 'ColMx_avg', 'PagoNac_avg', 'PagoInt_avg', 'EeccNac_avg', 'EeccInt_avg', 'UsoL1_avg', 'UsoL2_avg', 'UsoLI_avg']\n"
     ]
    }
   ],
   "source": [
    "print(monopoly.columns.tolist())"
   ]
  },
  {
   "cell_type": "markdown",
   "metadata": {},
   "source": [
    "Lista de variables en el dataset"
   ]
  },
  {
   "cell_type": "code",
   "execution_count": 8,
   "metadata": {},
   "outputs": [
    {
     "data": {
      "image/png": "[encoded data removed]",
      "text/plain": [
       "<Figure size 432x288 with 1 Axes>"
      ]
     },
     "metadata": {
      "needs_background": "light"
     },
     "output_type": "display_data"
    }
   ],
   "source": [
    "from kneed import KneeLocator\n",
    "\n",
    "# Calcular la inercia para diferentes números de clusters\n",
    "inercia = []\n",
    "for i in range(1, 15):  # Rango de clusters\n",
    "    modelo = KMeans(n_clusters=i, random_state=0)\n",
    "    modelo.fit(monopoly)\n",
    "    inercia.append(modelo.inertia_)\n",
    "\n",
    "# Utilizar la biblioteca kneed para encontrar el \"codo\" de forma automática\n",
    "kl = KneeLocator(range(1, 15), inercia, curve='convex', direction='decreasing')\n",
    "codo_idx = kl.elbow\n",
    "\n",
    "# Graficar la inercia\n",
    "plt.plot(range(1, 15), inercia, marker='o')\n",
    "plt.title('Inercia V/S Nº de clusters (Método del codo)')\n",
    "plt.xlabel('Nº de clusters')\n",
    "plt.ylabel('Inercia')\n",
    "\n",
    "# Añadir ubicacion del codo\n",
    "plt.annotate('', xy=(codo_idx, inercia[codo_idx-1]),\n",
    "             xytext=(codo_idx - 3, inercia[codo_idx-1] + 500),\n",
    "             arrowprops=dict(facecolor='red', edgecolor='red', shrink=0.05))\n",
    "\n",
    "plt.show()"
   ]
  },
  {
   "cell_type": "markdown",
   "metadata": {},
   "source": [
    "Se busca el número óptimo de clousters graficando la inercia como función del número de clusters y luego utilizando el método del codo. Esto resulta en la elección de 4 clusters como el número óptimo."
   ]
  },
  {
   "cell_type": "markdown",
   "metadata": {},
   "source": [
    "#### ➡️MODEL 1 | **K-Means**"
   ]
  },
  {
   "cell_type": "markdown",
   "metadata": {},
   "source": [
    "1️⃣ - `Definición de variables:`"
   ]
  },
  {
   "cell_type": "code",
   "execution_count": 29,
   "metadata": {},
   "outputs": [],
   "source": [
    "\n",
    "X = monopoly[['FacDebCom_avg','Fac_avg']].values"
   ]
  },
  {
   "cell_type": "markdown",
   "metadata": {},
   "source": [
    "Se selecciona como variables $X$ FacDebCom (promedio anual de montos facturados en compras con TD), Fac_avg (promedio anual de montos facturados en compras con TC)"
   ]
  },
  {
   "cell_type": "markdown",
   "metadata": {},
   "source": [
    "2️⃣ - `Modelo:`"
   ]
  },
  {
   "cell_type": "code",
   "execution_count": 30,
   "metadata": {},
   "outputs": [],
   "source": [
    "KModel_1 = KMeans(n_clusters= 4, random_state=0)"
   ]
  },
  {
   "cell_type": "markdown",
   "metadata": {},
   "source": [
    "Se genera el modelo con 4 clusters."
   ]
  },
  {
   "cell_type": "markdown",
   "metadata": {},
   "source": [
    "3️⃣ - `Predicción:`"
   ]
  },
  {
   "cell_type": "code",
   "execution_count": 31,
   "metadata": {},
   "outputs": [],
   "source": [
    "Y_hat = KModel_1.fit_predict(X)"
   ]
  },
  {
   "cell_type": "markdown",
   "metadata": {},
   "source": [
    "Se ajusta el modelo a $X$ y genera la predicción $\\hat{Y}$"
   ]
  },
  {
   "cell_type": "code",
   "execution_count": 32,
   "metadata": {},
   "outputs": [
    {
     "data": {
      "image/png": "[encoded data removed]",
      "text/plain": [
       "<Figure size 432x288 with 1 Axes>"
      ]
     },
     "metadata": {
      "needs_background": "light"
     },
     "output_type": "display_data"
    }
   ],
   "source": [
    "# Visualiza los clusters\n",
    "scatter = plt.scatter(X[:, 0].get(), X[:, 1].get(), c=Y_hat.get(), cmap='viridis', s=100)\n",
    "plt.xlabel('Edad')\n",
    "plt.ylabel('Renta anual (k$)')\n",
    "plt.title('Segmentación de clientes')\n",
    "\n",
    "# Leyenda\n",
    "plt.legend(*scatter.legend_elements(), title=\"Clusters\")\n",
    "\n",
    "#Mostrar grafico\n",
    "plt.show()"
   ]
  },
  {
   "cell_type": "markdown",
   "metadata": {},
   "source": [
    "Se genera un gráfico de distribución en el que se segmentan los clusters a partir de la renta, por lo que tenemos cuatro grupos divididos por renta."
   ]
  },
  {
   "cell_type": "markdown",
   "metadata": {},
   "source": [
    "4️⃣ - `Evaluación:`"
   ]
  },
  {
   "cell_type": "code",
   "execution_count": 33,
   "metadata": {},
   "outputs": [
    {
     "name": "stdout",
     "output_type": "stream",
     "text": [
      "Silhouette Score: 0.563300591963585\n"
     ]
    }
   ],
   "source": [
    "from sklearn.metrics import silhouette_score\n",
    "kmSS_1 = silhouette_score(X.get(), Y_hat.get())\n",
    "\n",
    "print(\"Silhouette Score:\",kmSS_1)"
   ]
  },
  {
   "cell_type": "markdown",
   "metadata": {},
   "source": [
    "Se mide el promedio de coeficiente de silueta de todas las muestras. Esto nos indica que tan definidos estan los grupos (menor superposición entre clusters). En este caso el valor es de aproximadamente 0.55, por lo que no es un modelo muy optimo considerando un mínimo posible de 0 y máximo de 1."
   ]
  },
  {
   "cell_type": "markdown",
   "metadata": {},
   "source": [
    "#### ➡️MODEL 2 | **K-Means**"
   ]
  },
  {
   "cell_type": "markdown",
   "metadata": {},
   "source": [
    "1️⃣ - `Definición de variables:`"
   ]
  },
  {
   "cell_type": "code",
   "execution_count": 34,
   "metadata": {},
   "outputs": [],
   "source": [
    "from cuml.preprocessing import StandardScaler\n",
    "\n",
    "X = monopoly[['FacDebCom_avg','Fac_avg']].values\n",
    "X = StandardScaler().fit_transform(X)"
   ]
  },
  {
   "cell_type": "markdown",
   "metadata": {},
   "source": [
    "Se selecciona como variables $X$ FacDebCom (promedio anual de montos facturados en compras con TD), Fac_avg (promedio anual de montos facturados en compras con TC). luego se normalizan."
   ]
  },
  {
   "cell_type": "markdown",
   "metadata": {},
   "source": [
    "2️⃣ - `Modelo:`"
   ]
  },
  {
   "cell_type": "code",
   "execution_count": 35,
   "metadata": {},
   "outputs": [],
   "source": [
    "KModel_2 = KMeans(n_clusters= 3, random_state=0, tol=0.5)"
   ]
  },
  {
   "cell_type": "markdown",
   "metadata": {},
   "source": [
    "Se genera un segundo modelo con 4 clusters"
   ]
  },
  {
   "cell_type": "markdown",
   "metadata": {},
   "source": [
    "3️⃣ - `Predicción:`"
   ]
  },
  {
   "cell_type": "code",
   "execution_count": 36,
   "metadata": {},
   "outputs": [],
   "source": [
    "Y_hat = KModel_2.fit_predict(X)"
   ]
  },
  {
   "cell_type": "markdown",
   "metadata": {},
   "source": [
    "Se ajusta el modelo a $X$ y se hace una predicción $\\hat{Y}$"
   ]
  },
  {
   "cell_type": "code",
   "execution_count": 37,
   "metadata": {},
   "outputs": [
    {
     "data": {
      "image/png": "[encoded data removed]",
      "text/plain": [
       "<Figure size 432x288 with 1 Axes>"
      ]
     },
     "metadata": {
      "needs_background": "light"
     },
     "output_type": "display_data"
    }
   ],
   "source": [
    "# Visualiza los clusters\n",
    "scatter = plt.scatter(X[:, 0].get(), X[:, 1].get(), c=Y_hat.get(), cmap='viridis', s=100)\n",
    "plt.xlabel('Promedio compras TD')\n",
    "plt.ylabel('Promedio compras TC')\n",
    "plt.title('Segmentación de clientes')\n",
    "\n",
    "# Leyenda\n",
    "plt.legend(*scatter.legend_elements(), title=\"Clusters\")\n",
    "\n",
    "#Mostrar grafico\n",
    "plt.show()"
   ]
  },
  {
   "cell_type": "markdown",
   "metadata": {},
   "source": [
    "Se grafica la dispersión de Cupo_c1 por edad, similar al modelo anterior, se dividen los clusters por el valor del eje $y$"
   ]
  },
  {
   "cell_type": "markdown",
   "metadata": {},
   "source": [
    "4️⃣ - `Evaluación:`"
   ]
  },
  {
   "cell_type": "code",
   "execution_count": 38,
   "metadata": {},
   "outputs": [
    {
     "name": "stdout",
     "output_type": "stream",
     "text": [
      "Silhouette Score: 0.6197361314334143\n"
     ]
    }
   ],
   "source": [
    "from sklearn.metrics import silhouette_score\n",
    "kmSS_2 = silhouette_score(X.get(), Y_hat.get())\n",
    "\n",
    "print(\"Silhouette Score:\",kmSS_2)"
   ]
  },
  {
   "cell_type": "markdown",
   "metadata": {},
   "source": [
    "Se mide el promedio de coeficiente de silueta de todas las muestras. El valor es un poco mayor al modelo 1, pero sigen siendo clusters poco definidos."
   ]
  },
  {
   "cell_type": "markdown",
   "metadata": {},
   "source": [
    "#### ➡️MODEL 3 | **K-Means**"
   ]
  },
  {
   "cell_type": "markdown",
   "metadata": {},
   "source": [
    "1️⃣ - `Definición de variables:`"
   ]
  },
  {
   "cell_type": "code",
   "execution_count": 39,
   "metadata": {},
   "outputs": [],
   "source": [
    "from cuml.preprocessing import StandardScaler\n",
    "\n",
    "X = monopoly[['FacDebCom_avg','Fac_avg']].values\n",
    "X = StandardScaler().fit_transform(X)"
   ]
  },
  {
   "cell_type": "markdown",
   "metadata": {},
   "source": [
    "Se selecciona como variables $X$ FacDebCom (promedio anual de montos facturados en compras con TD), Fac_avg (promedio anual de montos facturados en compras con TC). luego se normalizan."
   ]
  },
  {
   "cell_type": "markdown",
   "metadata": {},
   "source": [
    "2️⃣ - `Modelo:`"
   ]
  },
  {
   "cell_type": "code",
   "execution_count": 40,
   "metadata": {},
   "outputs": [
    {
     "name": "stdout",
     "output_type": "stream",
     "text": [
      "Mejores hiperparámetros encontrados:\n",
      "Número de clústeres (n_clusters): 3\n",
      "Maximum number of iterations for each run (max_iter): 100\n",
      "Tolerance (tol): 1e-05\n"
     ]
    }
   ],
   "source": [
    "from cuml.model_selection import GridSearchCV\n",
    "from cuml.cluster import KMeans\n",
    "from sklearn.metrics import silhouette_score\n",
    "# Define el espacio de búsqueda de hiperparámetros, incluyendo otros hiperparámetros además de n_clusters e init\n",
    "param_grid = {\n",
    "    'n_clusters': [3, 4, 5],\n",
    "    'max_iter': [100, 200, 300, 400],\n",
    "    'tol': [0.00001, 0.001, 0.1, 0.5, 1]\n",
    "}\n",
    "\n",
    "# Crea un modelo K-Means\n",
    "modelo = KMeans()\n",
    "\n",
    "# Realiza una búsqueda en cuadrícula con validación cruzada\n",
    "grid_search = GridSearchCV(modelo, param_grid, cv=5, scoring=silhouette_score, n_jobs=1)\n",
    "grid_search.fit(X)\n",
    "\n",
    "# Obtiene los mejores hiperparámetros\n",
    "best_params = grid_search.best_params_\n",
    "\n",
    "best_n_clusters = grid_search.best_params_['n_clusters']\n",
    "best_max_iter = grid_search.best_params_['max_iter']\n",
    "best_tol = grid_search.best_params_['tol']\n",
    "\n",
    "# Imprime los mejores hiperparámetros\n",
    "print(\"Mejores hiperparámetros encontrados:\")\n",
    "print(f\"Número de clústeres (n_clusters): {best_n_clusters}\")\n",
    "print(f'Maximum number of iterations for each run (max_iter): {best_max_iter}')\n",
    "print(f'Tolerance (tol): {best_tol}')"
   ]
  },
  {
   "cell_type": "code",
   "execution_count": 41,
   "metadata": {},
   "outputs": [],
   "source": [
    "KModel_3 = KMeans(**best_params, random_state=0)"
   ]
  },
  {
   "cell_type": "markdown",
   "metadata": {},
   "source": [
    "Se genera un tercer modelo con 4 clusters."
   ]
  },
  {
   "cell_type": "markdown",
   "metadata": {},
   "source": [
    "3️⃣ - `Predicción:`"
   ]
  },
  {
   "cell_type": "code",
   "execution_count": 42,
   "metadata": {},
   "outputs": [],
   "source": [
    "Y_hat = KModel_3.fit_predict(X)"
   ]
  },
  {
   "cell_type": "markdown",
   "metadata": {},
   "source": [
    "Se ajusta el modelo a $X$ y se hace una predicción $\\hat{Y}$"
   ]
  },
  {
   "cell_type": "code",
   "execution_count": 43,
   "metadata": {},
   "outputs": [
    {
     "data": {
      "image/png": "[encoded data removed]",
      "text/plain": [
       "<Figure size 432x288 with 1 Axes>"
      ]
     },
     "metadata": {
      "needs_background": "light"
     },
     "output_type": "display_data"
    }
   ],
   "source": [
    "# Visualiza los clusters\n",
    "scatter = plt.scatter(X[:, 0].get(), X[:, 1].get(), c=Y_hat.get(), cmap='viridis', s=100)\n",
    "plt.xlabel('Promedio compras TD')\n",
    "plt.ylabel('Promedio compras TC')\n",
    "plt.title('Segmentación de clientes')\n",
    "\n",
    "# Leyenda\n",
    "plt.legend(*scatter.legend_elements(), title=\"Clusters\")\n",
    "\n",
    "#Mostrar grafico\n",
    "plt.show()"
   ]
  },
  {
   "cell_type": "markdown",
   "metadata": {},
   "source": [
    "Al igual que en los modelos anteriores se genera una segmentación a partir de una sola variable."
   ]
  },
  {
   "cell_type": "markdown",
   "metadata": {},
   "source": [
    "4️⃣ - `Evaluación:`"
   ]
  },
  {
   "cell_type": "code",
   "execution_count": 44,
   "metadata": {},
   "outputs": [
    {
     "name": "stdout",
     "output_type": "stream",
     "text": [
      "Silhouette Score: 0.5924410536458458\n"
     ]
    }
   ],
   "source": [
    "kmSS_3 = silhouette_score(X.get(), Y_hat.get())\n",
    "\n",
    "print(\"Silhouette Score:\",kmSS_3)"
   ]
  },
  {
   "cell_type": "markdown",
   "metadata": {},
   "source": [
    "Se mide el promedio de coeficiente de silueta de todas las muestras. El coeficiente es muy similar al anterior, siendo mayor en el modelo 2 con una diferecia de aproximadamente $4*10^{-7}$"
   ]
  },
  {
   "cell_type": "markdown",
   "metadata": {},
   "source": [
    "#### ➡️MODEL 4 | **K-Means**"
   ]
  },
  {
   "cell_type": "markdown",
   "metadata": {},
   "source": [
    "1️⃣ - `Definición de variables:`"
   ]
  },
  {
   "cell_type": "code",
   "execution_count": 101,
   "metadata": {},
   "outputs": [],
   "source": [
    "from cuml.preprocessing import StandardScaler\n",
    "\n",
    "X = monopoly[['FacCN_avg', 'FacPAT_avg']].values\n",
    "X = StandardScaler().fit_transform(X)"
   ]
  },
  {
   "cell_type": "markdown",
   "metadata": {},
   "source": [
    "Se define $X$ a partir de FacCN_avg y FacPAT_avg."
   ]
  },
  {
   "cell_type": "markdown",
   "metadata": {},
   "source": [
    "2️⃣ - `Modelo:`"
   ]
  },
  {
   "cell_type": "code",
   "execution_count": 102,
   "metadata": {},
   "outputs": [],
   "source": [
    "from cuml.cluster import KMeans\n",
    "KModel_4 = KMeans(n_clusters= 4, random_state=0)\n",
    "Y_hat = KModel_4.fit_predict(X)"
   ]
  },
  {
   "cell_type": "markdown",
   "metadata": {},
   "source": [
    "Se crea un pipeline con normalización usando standard scaler y nuevo modelo con 4 clusters"
   ]
  },
  {
   "cell_type": "markdown",
   "metadata": {},
   "source": [
    "3️⃣ - `Predicción:`"
   ]
  },
  {
   "cell_type": "markdown",
   "metadata": {},
   "source": [
    "Se ajusta el modelo a $X$ y se hace una predicción $\\hat{Y}$"
   ]
  },
  {
   "cell_type": "code",
   "execution_count": 103,
   "metadata": {},
   "outputs": [
    {
     "data": {
      "image/png": "[encoded data removed]",
      "text/plain": [
       "<Figure size 432x288 with 1 Axes>"
      ]
     },
     "metadata": {
      "needs_background": "light"
     },
     "output_type": "display_data"
    }
   ],
   "source": [
    "# Visualiza los clusters\n",
    "scatter = plt.scatter(X[:, 0].get(), X[:, 1].get(), c=Y_hat.get(), cmap='viridis', s=100)\n",
    "plt.xlabel('Prom. Monto facturado en compras nacionales TC')\n",
    "plt.ylabel('Prom. Monto facturado pagos automaticos')\n",
    "plt.title('Segmentación de clientes')\n",
    "\n",
    "# Leyenda\n",
    "plt.legend(*scatter.legend_elements(), title=\"Clusters\")\n",
    "\n",
    "#Mostrar grafico\n",
    "plt.show()"
   ]
  },
  {
   "cell_type": "markdown",
   "metadata": {},
   "source": [
    "Se distingen 4 clusters, el cluster número 1 son principalmente clientes con alto gasto en pagos automáticos y bajo gasto en compras nacionales con TC. El cluster 0 tiene clientes con un gasto medio con pagos automáticos. El cluster 2 tiene clientes con bajo gasto en pagos automático y compras nacionales con TC, por último están los clienes con bajo gasto en pagos automáticos y alto y mediano gasto en copras nacionales con TC."
   ]
  },
  {
   "cell_type": "markdown",
   "metadata": {},
   "source": [
    "4️⃣ - `Evaluación:`"
   ]
  },
  {
   "cell_type": "code",
   "execution_count": 104,
   "metadata": {},
   "outputs": [
    {
     "name": "stdout",
     "output_type": "stream",
     "text": [
      "Silhouette Score: 0.6725334379217525\n"
     ]
    }
   ],
   "source": [
    "from sklearn.metrics import silhouette_score\n",
    "\n",
    "kmSS_4 = silhouette_score(X.get(), Y_hat.get())\n",
    "\n",
    "print(\"Silhouette Score:\",kmSS_4)"
   ]
  },
  {
   "cell_type": "markdown",
   "metadata": {},
   "source": [
    "Se obtiene un modelo mejor que los anteriores, con menos superposición entre clusters."
   ]
  },
  {
   "cell_type": "markdown",
   "metadata": {},
   "source": [
    "#### ➡️MODEL 5 | **K-Means**"
   ]
  },
  {
   "cell_type": "markdown",
   "metadata": {},
   "source": [
    "1️⃣ - `Def hiperparametros:`"
   ]
  },
  {
   "cell_type": "code",
   "execution_count": 24,
   "metadata": {},
   "outputs": [
    {
     "name": "stdout",
     "output_type": "stream",
     "text": [
      "Mejores hiperparámetros encontrados:\n",
      "Número de clústeres (n_clusters): 3\n",
      "Maximum number of iterations for each run (max_iter): 100\n",
      "Tolerance (tol): 0.0001\n"
     ]
    }
   ],
   "source": [
    "from cuml.model_selection import GridSearchCV\n",
    "# Define el espacio de búsqueda de hiperparámetros, incluyendo otros hiperparámetros además de n_clusters e init\n",
    "param_grid = {\n",
    "    'n_clusters': [3, 4, 5, 6],\n",
    "    'max_iter': [100, 200, 300],\n",
    "    'tol': [1e-4, 1e-3, 1e-2, 1, 5]\n",
    "}\n",
    "\n",
    "# Crea un modelo K-Means\n",
    "modelo = KMeans()\n",
    "\n",
    "# Realiza una búsqueda en cuadrícula con validación cruzada\n",
    "grid_search = GridSearchCV(modelo, param_grid, cv=5, scoring=silhouette_score, n_jobs=1)\n",
    "grid_search.fit(X)\n",
    "\n",
    "# Obtiene los mejores hiperparámetros\n",
    "best_params = grid_search.best_params_\n",
    "\n",
    "best_n_clusters = grid_search.best_params_['n_clusters']\n",
    "best_max_iter = grid_search.best_params_['max_iter']\n",
    "best_tol = grid_search.best_params_['tol']\n",
    "\n",
    "# Imprime los mejores hiperparámetros\n",
    "print(\"Mejores hiperparámetros encontrados:\")\n",
    "print(f\"Número de clústeres (n_clusters): {best_n_clusters}\")\n",
    "print(f'Maximum number of iterations for each run (max_iter): {best_max_iter}')\n",
    "print(f'Tolerance (tol): {best_tol}')"
   ]
  },
  {
   "cell_type": "markdown",
   "metadata": {},
   "source": [
    "Se realiza una búsqueda de hiperparámetros utilizando Silhuette score como medida para puntuar los modelos."
   ]
  },
  {
   "cell_type": "markdown",
   "metadata": {},
   "source": [
    "2️⃣ - `Modelo:`"
   ]
  },
  {
   "cell_type": "code",
   "execution_count": 25,
   "metadata": {},
   "outputs": [],
   "source": [
    "# Crea un modelo con los mejores hiperparámetros\n",
    "KModel_5 = KMeans(**best_params, random_state=0)"
   ]
  },
  {
   "cell_type": "markdown",
   "metadata": {},
   "source": [
    "Se genera un quinto modelo con los hiperparámetros resultantes de la busqueda."
   ]
  },
  {
   "cell_type": "markdown",
   "metadata": {},
   "source": [
    "3️⃣ - `Predicción:`"
   ]
  },
  {
   "cell_type": "code",
   "execution_count": 26,
   "metadata": {},
   "outputs": [],
   "source": [
    "Y_hat = KModel_5.fit_predict(X)"
   ]
  },
  {
   "cell_type": "markdown",
   "metadata": {},
   "source": [
    "Se ajusta el modelo a $X$ y se hace una predicción $\\hat{Y}$"
   ]
  },
  {
   "cell_type": "code",
   "execution_count": 27,
   "metadata": {},
   "outputs": [
    {
     "data": {
      "image/png": "[encoded data removed]",
      "text/plain": [
       "<Figure size 432x288 with 1 Axes>"
      ]
     },
     "metadata": {
      "needs_background": "light"
     },
     "output_type": "display_data"
    }
   ],
   "source": [
    "# Visualiza los clusters\n",
    "scatter = plt.scatter(X[:, 0].get(), X[:, 1].get(), c=Y_hat.get(), cmap='viridis', s=100)\n",
    "plt.xlabel('Prom. Monto facturado en compras nacionales TC')\n",
    "plt.ylabel('Prom. Monto facturado pagos automaticos')\n",
    "plt.title('Segmentación de clientes')\n",
    "\n",
    "# Leyenda\n",
    "plt.legend(*scatter.legend_elements(), title=\"Clusters\")\n",
    "\n",
    "#Mostrar grafico\n",
    "plt.show()"
   ]
  },
  {
   "cell_type": "markdown",
   "metadata": {},
   "source": [
    "Se genera un gráfico de dispersión colorizado para mostrar los clusters. Se los clusters se segmentan a partir del valor del promedio de monto facturado por pagos automáticos, por lo que el modeno no es muy útil para la segmentación de clientes."
   ]
  },
  {
   "cell_type": "markdown",
   "metadata": {},
   "source": [
    "4️⃣ - `Evaluación:`"
   ]
  },
  {
   "cell_type": "code",
   "execution_count": 28,
   "metadata": {},
   "outputs": [
    {
     "name": "stdout",
     "output_type": "stream",
     "text": [
      "Silhouette Score: 0.7354332270184939\n"
     ]
    }
   ],
   "source": [
    "kmSS_5 = silhouette_score(X.get(), Y_hat.get())\n",
    "\n",
    "print(\"Silhouette Score:\", kmSS_5)"
   ]
  },
  {
   "cell_type": "markdown",
   "metadata": {},
   "source": [
    "Se obtiene un Silhuette Score aproiximado de 0.73, es el mejor puntaje de los modelos de kmeans en este punto, pero carece de utilidad al segmentar solo considenrando el valor de promedio de monto facturado por pagos automáticos."
   ]
  },
  {
   "cell_type": "markdown",
   "metadata": {},
   "source": [
    "#### ✅Winner MODEL | **K-Means**"
   ]
  },
  {
   "cell_type": "code",
   "execution_count": 105,
   "metadata": {},
   "outputs": [
    {
     "name": "stdout",
     "output_type": "stream",
     "text": [
      "     Modelo  Silhouette Score\n",
      "0  Modelo 1          0.563301\n",
      "1  Modelo 2          0.619736\n",
      "2  Modelo 3          0.592441\n",
      "3  Modelo 4          0.672533\n",
      "4  Modelo 5          0.735433\n"
     ]
    }
   ],
   "source": [
    "# Almacenando los resultados en una lista\n",
    "scores = [kmSS_1, kmSS_2, kmSS_3, kmSS_4, kmSS_5]\n",
    "\n",
    "# Creando el DataFrame con los resultados\n",
    "tabla = cudf.DataFrame({'Modelo': ['Modelo 1', 'Modelo 2', 'Modelo 3', 'Modelo 4', 'Modelo 5'],\n",
    "                      'Silhouette Score': scores})\n",
    "\n",
    "print(tabla)"
   ]
  },
  {
   "cell_type": "markdown",
   "metadata": {},
   "source": [
    "Comparando el promedio del coeficiente de silueta de los samples de cada modelo, destaca el modelo 5 como el modelo con clusters más definidos, para este modelo se utilizó busqueda de hiperparámetros y las variables Edad y Cupo_MX"
   ]
  },
  {
   "cell_type": "code",
   "execution_count": 106,
   "metadata": {},
   "outputs": [
    {
     "data": {
      "text/plain": [
       "['Kmeans_M4.pkl']"
      ]
     },
     "execution_count": 106,
     "metadata": {},
     "output_type": "execute_result"
    }
   ],
   "source": [
    "import joblib\n",
    "\n",
    "joblib.dump({KModel_4}, 'Kmeans_M4.pkl')"
   ]
  },
  {
   "cell_type": "markdown",
   "metadata": {},
   "source": [
    "Se guarda el modelo serializado."
   ]
  }
 ],
 "metadata": {
  "kernelspec": {
   "display_name": "Python 3",
   "language": "python",
   "name": "python3"
  },
  "language_info": {
   "codemirror_mode": {
    "name": "ipython",
    "version": 3
   },
   "file_extension": ".py",
   "mimetype": "text/x-python",
   "name": "python",
   "nbconvert_exporter": "python",
   "pygments_lexer": "ipython3",
   "version": "3.10.12"
  }
 },
 "nbformat": 4,
 "nbformat_minor": 2
}

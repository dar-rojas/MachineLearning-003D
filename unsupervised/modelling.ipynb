{
 "cells": [
  {
   "cell_type": "markdown",
   "metadata": {},
   "source": [
    "# **FASE IV: MODELADO (NO-SUPERVISADO)**"
   ]
  },
  {
   "cell_type": "code",
   "execution_count": 1,
   "metadata": {},
   "outputs": [],
   "source": [
    "# Librerías básicas\n",
    "\n",
    "import numpy as np\n",
    "import pandas as pd\n",
    "\n",
    "import matplotlib.pyplot as plt\n",
    "import matplotlib.cm as cm\n",
    "# import seaborn as sns\n",
    "\n",
    "import warnings #Advertencias\n",
    "warnings.filterwarnings('ignore')\n",
    "\n",
    "monopoly = pd.read_parquet('../monopoly_cleaned_parquet')"
   ]
  },
  {
   "cell_type": "code",
   "execution_count": 1,
   "metadata": {},
   "outputs": [],
   "source": [
    "# Librerías básicas\n",
    "\n",
    "import numpy as np\n",
    "import pandas as pd\n",
    "\n",
    "import matplotlib.pyplot as plt\n",
    "import matplotlib.cm as cm\n",
    "# import seaborn as sns\n",
    "\n",
    "import warnings #Advertencias\n",
    "warnings.filterwarnings('ignore')\n",
    "\n",
    "import cudf\n",
    "\n",
    "monopoly = cudf.read_parquet('../monopoly_cleaned_parquet')"
   ]
  },
  {
   "cell_type": "markdown",
   "metadata": {},
   "source": [
    "## **CLUSTERING JERÁRQUICO**"
   ]
  },
  {
   "cell_type": "code",
   "execution_count": 7,
   "metadata": {},
   "outputs": [
    {
     "name": "stdout",
     "output_type": "stream",
     "text": [
      "<class 'cudf.core.dataframe.DataFrame'>\n",
      "RangeIndex: 51121 entries, 0 to 51120\n",
      "Data columns (total 66 columns):\n",
      " #   Column          Non-Null Count  Dtype\n",
      "---  ------          --------------  -----\n",
      " 0   Subsegmento     51121 non-null  float64\n",
      " 1   Sexo            51121 non-null  float64\n",
      " 2   Region          51121 non-null  float64\n",
      " 3   Edad            51121 non-null  float64\n",
      " 4   Renta           51121 non-null  float64\n",
      " 5   Antiguedad      51121 non-null  float64\n",
      " 6   Internauta      51121 non-null  float64\n",
      " 7   Adicional       51121 non-null  float64\n",
      " 8   Dualidad        51121 non-null  float64\n",
      " 9   Monoproducto    51121 non-null  float64\n",
      " 10  Ctacte          51121 non-null  float64\n",
      " 11  Consumo         51121 non-null  float64\n",
      " 12  Hipotecario     51121 non-null  float64\n",
      " 13  Debito          51121 non-null  float64\n",
      " 14  CambioPin       51121 non-null  float64\n",
      " 15  Cuentas         51121 non-null  float64\n",
      " 16  TC              51121 non-null  float64\n",
      " 17  CUPO_L1         51121 non-null  float64\n",
      " 18  CUPO_L2         51121 non-null  float64\n",
      " 19  CUPO_MX         51121 non-null  float64\n",
      " 20  target          51121 non-null  float64\n",
      " 21  FlgAct_sum      51121 non-null  float64\n",
      " 22  FlgActCN_sum    51121 non-null  float64\n",
      " 23  FlgActCI_sum    51121 non-null  float64\n",
      " 24  FlgActAN_sum    51121 non-null  float64\n",
      " 25  FlgActAI_sum    51121 non-null  float64\n",
      " 26  FlgActPAT_sum   51121 non-null  float64\n",
      " 27  FlgActCCPC_sum  51121 non-null  float64\n",
      " 28  FlgActCCOT_sum  51121 non-null  float64\n",
      " 29  FlgActCOL_sum   51121 non-null  float64\n",
      " 30  Fac_avg         51121 non-null  float64\n",
      " 31  Txs_avg         51121 non-null  float64\n",
      " 32  FacCN_avg       51121 non-null  float64\n",
      " 33  TxsCN_avg       51121 non-null  float64\n",
      " 34  FacCI_avg       51121 non-null  float64\n",
      " 35  TxsCI_avg       51121 non-null  float64\n",
      " 36  FacAN_avg       51121 non-null  float64\n",
      " 37  TxsAN_avg       51121 non-null  float64\n",
      " 38  FacAI_avg       51121 non-null  float64\n",
      " 39  TxsAI_avg       51121 non-null  float64\n",
      " 40  FacPAT_avg      51121 non-null  float64\n",
      " 41  TxsPAT_avg      51121 non-null  float64\n",
      " 42  FacCCPC_avg     51121 non-null  float64\n",
      " 43  TxsCCPC_avg     51121 non-null  float64\n",
      " 44  FacCCOT_avg     51121 non-null  float64\n",
      " 45  TxsCCOT_avg     51121 non-null  float64\n",
      " 46  FacCOL_avg      51121 non-null  float64\n",
      " 47  TxsCOL_avg      51121 non-null  float64\n",
      " 48  FacDebCom_avg   51121 non-null  float64\n",
      " 49  TxsDebCom_avg   51121 non-null  float64\n",
      " 50  FacDebAtm_avg   51121 non-null  float64\n",
      " 51  TxsDebAtm_avg   51121 non-null  float64\n",
      " 52  Col_avg         51121 non-null  float64\n",
      " 53  ColL1T0_avg     51121 non-null  float64\n",
      " 54  ColL1TE_avg     51121 non-null  float64\n",
      " 55  ColL2T0_avg     51121 non-null  float64\n",
      " 56  ColL2AC_avg     51121 non-null  float64\n",
      " 57  ColL2CC_avg     51121 non-null  float64\n",
      " 58  ColMx_avg       51121 non-null  float64\n",
      " 59  PagoNac_avg     51121 non-null  float64\n",
      " 60  PagoInt_avg     51121 non-null  float64\n",
      " 61  EeccNac_avg     51121 non-null  float64\n",
      " 62  EeccInt_avg     51121 non-null  float64\n",
      " 63  UsoL1_avg       51121 non-null  float64\n",
      " 64  UsoL2_avg       51121 non-null  float64\n",
      " 65  UsoLI_avg       51121 non-null  float64\n",
      "dtypes: float64(66)\n",
      "memory usage: 25.7 MB\n"
     ]
    }
   ],
   "source": [
    "monopoly.info()"
   ]
  },
  {
   "cell_type": "code",
   "execution_count": 2,
   "metadata": {},
   "outputs": [],
   "source": [
    "#'Edad' y 'target'\n",
    "X = monopoly.iloc[:, [3,20]].values"
   ]
  },
  {
   "cell_type": "code",
   "execution_count": 4,
   "metadata": {},
   "outputs": [],
   "source": [
    "from scipy.cluster.hierarchy import linkage\n",
    "\n",
    "# Matriz de enlace\n",
    "linkage_matrix = linkage(X, method='ward')\n",
    "# Especifica la distancia a utlizar en cada paso del método"
   ]
  }
 ],
 "metadata": {
  "kernelspec": {
   "display_name": "rapids-23.12",
   "language": "python",
   "name": "python3"
  },
  "language_info": {
   "codemirror_mode": {
    "name": "ipython",
    "version": 3
   },
   "file_extension": ".py",
   "mimetype": "text/x-python",
   "name": "python",
   "nbconvert_exporter": "python",
   "pygments_lexer": "ipython3",
   "version": "3.10.13"
  }
 },
 "nbformat": 4,
 "nbformat_minor": 2
}

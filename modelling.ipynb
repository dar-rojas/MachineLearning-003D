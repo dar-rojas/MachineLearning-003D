{
 "cells": [
  {
   "cell_type": "markdown",
   "metadata": {},
   "source": [
    "## **FASE IV: MODELADO**"
   ]
  },
  {
   "cell_type": "markdown",
   "metadata": {},
   "source": [
    "### **KNN (K-Nearest Neighbors, Regresión)**"
   ]
  },
  {
   "cell_type": "code",
   "execution_count": 16,
   "metadata": {},
   "outputs": [],
   "source": [
    "# Librerías de SciKit para procesamiento con CPU\n",
    "\n",
    "import pandas as pd\n",
    "from sklearn.model_selection import train_test_split\n",
    "\n",
    "# Carga de parquet preprocesado\n",
    "path = 'monopoly_cleaned_parquet'\n",
    "monopoly = pd.read_parquet(path)\n",
    "\n",
    "import warnings\n",
    "warnings.filterwarnings('ignore')"
   ]
  },
  {
   "cell_type": "code",
   "execution_count": 17,
   "metadata": {},
   "outputs": [
    {
     "data": {
      "text/html": [
       "<div>\n",
       "<style scoped>\n",
       "    .dataframe tbody tr th:only-of-type {\n",
       "        vertical-align: middle;\n",
       "    }\n",
       "\n",
       "    .dataframe tbody tr th {\n",
       "        vertical-align: top;\n",
       "    }\n",
       "\n",
       "    .dataframe thead th {\n",
       "        text-align: right;\n",
       "    }\n",
       "</style>\n",
       "<table border=\"1\" class=\"dataframe\">\n",
       "  <thead>\n",
       "    <tr style=\"text-align: right;\">\n",
       "      <th></th>\n",
       "      <th>Subsegmento</th>\n",
       "      <th>Sexo</th>\n",
       "      <th>Region</th>\n",
       "      <th>Edad</th>\n",
       "      <th>Antiguedad</th>\n",
       "      <th>Internauta</th>\n",
       "      <th>Adicional</th>\n",
       "      <th>Dualidad</th>\n",
       "      <th>Monoproducto</th>\n",
       "      <th>Ctacte</th>\n",
       "      <th>...</th>\n",
       "      <th>ColL2AC_avg</th>\n",
       "      <th>ColL2CC_avg</th>\n",
       "      <th>ColMx_avg</th>\n",
       "      <th>PagoNac_avg</th>\n",
       "      <th>PagoInt_avg</th>\n",
       "      <th>EeccNac_avg</th>\n",
       "      <th>EeccInt_avg</th>\n",
       "      <th>UsoL1_avg</th>\n",
       "      <th>UsoL2_avg</th>\n",
       "      <th>UsoLI_avg</th>\n",
       "    </tr>\n",
       "  </thead>\n",
       "  <tbody>\n",
       "    <tr>\n",
       "      <th>0</th>\n",
       "      <td>160.0</td>\n",
       "      <td>1.0</td>\n",
       "      <td>13.0</td>\n",
       "      <td>43.0</td>\n",
       "      <td>130.0</td>\n",
       "      <td>1.0</td>\n",
       "      <td>1.0</td>\n",
       "      <td>0.0</td>\n",
       "      <td>0.0</td>\n",
       "      <td>1.0</td>\n",
       "      <td>...</td>\n",
       "      <td>0.0</td>\n",
       "      <td>34699.666667</td>\n",
       "      <td>0.0000</td>\n",
       "      <td>29333.333333</td>\n",
       "      <td>0.0</td>\n",
       "      <td>908079.416667</td>\n",
       "      <td>0.000000</td>\n",
       "      <td>913045.583333</td>\n",
       "      <td>53874.250000</td>\n",
       "      <td>0.000000</td>\n",
       "    </tr>\n",
       "    <tr>\n",
       "      <th>1</th>\n",
       "      <td>160.0</td>\n",
       "      <td>0.0</td>\n",
       "      <td>13.0</td>\n",
       "      <td>46.0</td>\n",
       "      <td>69.0</td>\n",
       "      <td>1.0</td>\n",
       "      <td>0.0</td>\n",
       "      <td>0.0</td>\n",
       "      <td>0.0</td>\n",
       "      <td>1.0</td>\n",
       "      <td>...</td>\n",
       "      <td>0.0</td>\n",
       "      <td>17597.250000</td>\n",
       "      <td>45699.2125</td>\n",
       "      <td>167416.666667</td>\n",
       "      <td>0.0</td>\n",
       "      <td>460136.500000</td>\n",
       "      <td>58.904167</td>\n",
       "      <td>428734.833333</td>\n",
       "      <td>119963.916667</td>\n",
       "      <td>84.508333</td>\n",
       "    </tr>\n",
       "    <tr>\n",
       "      <th>2</th>\n",
       "      <td>170.0</td>\n",
       "      <td>0.0</td>\n",
       "      <td>13.0</td>\n",
       "      <td>45.0</td>\n",
       "      <td>24.0</td>\n",
       "      <td>1.0</td>\n",
       "      <td>1.0</td>\n",
       "      <td>0.0</td>\n",
       "      <td>0.0</td>\n",
       "      <td>1.0</td>\n",
       "      <td>...</td>\n",
       "      <td>0.0</td>\n",
       "      <td>0.000000</td>\n",
       "      <td>0.0000</td>\n",
       "      <td>68325.750000</td>\n",
       "      <td>0.0</td>\n",
       "      <td>8510.750000</td>\n",
       "      <td>0.000000</td>\n",
       "      <td>25294.500000</td>\n",
       "      <td>0.000000</td>\n",
       "      <td>0.000000</td>\n",
       "    </tr>\n",
       "    <tr>\n",
       "      <th>3</th>\n",
       "      <td>151.0</td>\n",
       "      <td>0.0</td>\n",
       "      <td>13.0</td>\n",
       "      <td>46.0</td>\n",
       "      <td>134.0</td>\n",
       "      <td>0.0</td>\n",
       "      <td>1.0</td>\n",
       "      <td>0.0</td>\n",
       "      <td>1.0</td>\n",
       "      <td>0.0</td>\n",
       "      <td>...</td>\n",
       "      <td>0.0</td>\n",
       "      <td>2706.500000</td>\n",
       "      <td>0.0000</td>\n",
       "      <td>57083.333333</td>\n",
       "      <td>0.0</td>\n",
       "      <td>341916.833333</td>\n",
       "      <td>0.000000</td>\n",
       "      <td>344417.500000</td>\n",
       "      <td>31825.250000</td>\n",
       "      <td>0.000000</td>\n",
       "    </tr>\n",
       "    <tr>\n",
       "      <th>4</th>\n",
       "      <td>170.0</td>\n",
       "      <td>0.0</td>\n",
       "      <td>13.0</td>\n",
       "      <td>46.0</td>\n",
       "      <td>116.0</td>\n",
       "      <td>0.0</td>\n",
       "      <td>1.0</td>\n",
       "      <td>1.0</td>\n",
       "      <td>0.0</td>\n",
       "      <td>1.0</td>\n",
       "      <td>...</td>\n",
       "      <td>0.0</td>\n",
       "      <td>6227.666667</td>\n",
       "      <td>0.0000</td>\n",
       "      <td>291317.166667</td>\n",
       "      <td>0.0</td>\n",
       "      <td>291684.500000</td>\n",
       "      <td>0.000000</td>\n",
       "      <td>83849.250000</td>\n",
       "      <td>402597.666667</td>\n",
       "      <td>0.000000</td>\n",
       "    </tr>\n",
       "  </tbody>\n",
       "</table>\n",
       "<p>5 rows × 65 columns</p>\n",
       "</div>"
      ],
      "text/plain": [
       "   Subsegmento  Sexo  Region  Edad  Antiguedad  Internauta  Adicional  \\\n",
       "0        160.0   1.0    13.0  43.0       130.0         1.0        1.0   \n",
       "1        160.0   0.0    13.0  46.0        69.0         1.0        0.0   \n",
       "2        170.0   0.0    13.0  45.0        24.0         1.0        1.0   \n",
       "3        151.0   0.0    13.0  46.0       134.0         0.0        1.0   \n",
       "4        170.0   0.0    13.0  46.0       116.0         0.0        1.0   \n",
       "\n",
       "   Dualidad  Monoproducto  Ctacte  ...  ColL2AC_avg   ColL2CC_avg   ColMx_avg  \\\n",
       "0       0.0           0.0     1.0  ...          0.0  34699.666667      0.0000   \n",
       "1       0.0           0.0     1.0  ...          0.0  17597.250000  45699.2125   \n",
       "2       0.0           0.0     1.0  ...          0.0      0.000000      0.0000   \n",
       "3       0.0           1.0     0.0  ...          0.0   2706.500000      0.0000   \n",
       "4       1.0           0.0     1.0  ...          0.0   6227.666667      0.0000   \n",
       "\n",
       "     PagoNac_avg  PagoInt_avg    EeccNac_avg  EeccInt_avg      UsoL1_avg  \\\n",
       "0   29333.333333          0.0  908079.416667     0.000000  913045.583333   \n",
       "1  167416.666667          0.0  460136.500000    58.904167  428734.833333   \n",
       "2   68325.750000          0.0    8510.750000     0.000000   25294.500000   \n",
       "3   57083.333333          0.0  341916.833333     0.000000  344417.500000   \n",
       "4  291317.166667          0.0  291684.500000     0.000000   83849.250000   \n",
       "\n",
       "       UsoL2_avg  UsoLI_avg  \n",
       "0   53874.250000   0.000000  \n",
       "1  119963.916667  84.508333  \n",
       "2       0.000000   0.000000  \n",
       "3   31825.250000   0.000000  \n",
       "4  402597.666667   0.000000  \n",
       "\n",
       "[5 rows x 65 columns]"
      ]
     },
     "execution_count": 17,
     "metadata": {},
     "output_type": "execute_result"
    }
   ],
   "source": [
    "# Asignar variables objetivo\n",
    "X = pd.DataFrame(monopoly.drop(columns=['Renta']))\n",
    "X.head()"
   ]
  },
  {
   "cell_type": "code",
   "execution_count": 18,
   "metadata": {},
   "outputs": [
    {
     "data": {
      "text/html": [
       "<div>\n",
       "<style scoped>\n",
       "    .dataframe tbody tr th:only-of-type {\n",
       "        vertical-align: middle;\n",
       "    }\n",
       "\n",
       "    .dataframe tbody tr th {\n",
       "        vertical-align: top;\n",
       "    }\n",
       "\n",
       "    .dataframe thead th {\n",
       "        text-align: right;\n",
       "    }\n",
       "</style>\n",
       "<table border=\"1\" class=\"dataframe\">\n",
       "  <thead>\n",
       "    <tr style=\"text-align: right;\">\n",
       "      <th></th>\n",
       "      <th>Renta</th>\n",
       "    </tr>\n",
       "  </thead>\n",
       "  <tbody>\n",
       "    <tr>\n",
       "      <th>0</th>\n",
       "      <td>601932.8</td>\n",
       "    </tr>\n",
       "    <tr>\n",
       "      <th>1</th>\n",
       "      <td>143640.0</td>\n",
       "    </tr>\n",
       "    <tr>\n",
       "      <th>2</th>\n",
       "      <td>929106.0</td>\n",
       "    </tr>\n",
       "    <tr>\n",
       "      <th>3</th>\n",
       "      <td>172447.0</td>\n",
       "    </tr>\n",
       "    <tr>\n",
       "      <th>4</th>\n",
       "      <td>805250.0</td>\n",
       "    </tr>\n",
       "  </tbody>\n",
       "</table>\n",
       "</div>"
      ],
      "text/plain": [
       "      Renta\n",
       "0  601932.8\n",
       "1  143640.0\n",
       "2  929106.0\n",
       "3  172447.0\n",
       "4  805250.0"
      ]
     },
     "execution_count": 18,
     "metadata": {},
     "output_type": "execute_result"
    }
   ],
   "source": [
    "y = pd.DataFrame(monopoly['Renta'])\n",
    "y.head()"
   ]
  },
  {
   "cell_type": "markdown",
   "metadata": {},
   "source": [
    "----"
   ]
  },
  {
   "cell_type": "code",
   "execution_count": 33,
   "metadata": {},
   "outputs": [],
   "source": [
    "# Librerías de Nvidia para procesamiento con GPU\n",
    "import cudf\n",
    "\n",
    "# Carga de parquet preprocesado\n",
    "path = 'monopoly_cleaned_parquet'\n",
    "monopoly = cudf.read_parquet(path)\n",
    "\n",
    "import warnings\n",
    "warnings.filterwarnings('ignore')"
   ]
  },
  {
   "cell_type": "code",
   "execution_count": 34,
   "metadata": {},
   "outputs": [
    {
     "data": {
      "text/html": [
       "<div>\n",
       "<style scoped>\n",
       "    .dataframe tbody tr th:only-of-type {\n",
       "        vertical-align: middle;\n",
       "    }\n",
       "\n",
       "    .dataframe tbody tr th {\n",
       "        vertical-align: top;\n",
       "    }\n",
       "\n",
       "    .dataframe thead th {\n",
       "        text-align: right;\n",
       "    }\n",
       "</style>\n",
       "<table border=\"1\" class=\"dataframe\">\n",
       "  <thead>\n",
       "    <tr style=\"text-align: right;\">\n",
       "      <th></th>\n",
       "      <th>Subsegmento</th>\n",
       "      <th>Sexo</th>\n",
       "      <th>Region</th>\n",
       "      <th>Edad</th>\n",
       "      <th>Renta</th>\n",
       "      <th>Antiguedad</th>\n",
       "      <th>Internauta</th>\n",
       "      <th>Adicional</th>\n",
       "      <th>Dualidad</th>\n",
       "      <th>Monoproducto</th>\n",
       "      <th>...</th>\n",
       "      <th>ColL2AC_avg</th>\n",
       "      <th>ColL2CC_avg</th>\n",
       "      <th>ColMx_avg</th>\n",
       "      <th>PagoNac_avg</th>\n",
       "      <th>PagoInt_avg</th>\n",
       "      <th>EeccNac_avg</th>\n",
       "      <th>EeccInt_avg</th>\n",
       "      <th>UsoL1_avg</th>\n",
       "      <th>UsoL2_avg</th>\n",
       "      <th>UsoLI_avg</th>\n",
       "    </tr>\n",
       "  </thead>\n",
       "  <tbody>\n",
       "    <tr>\n",
       "      <th>0</th>\n",
       "      <td>160.0</td>\n",
       "      <td>1.0</td>\n",
       "      <td>13.0</td>\n",
       "      <td>43.0</td>\n",
       "      <td>601932.8</td>\n",
       "      <td>130.0</td>\n",
       "      <td>1.0</td>\n",
       "      <td>1.0</td>\n",
       "      <td>0.0</td>\n",
       "      <td>0.0</td>\n",
       "      <td>...</td>\n",
       "      <td>0.0</td>\n",
       "      <td>34699.666667</td>\n",
       "      <td>0.0000</td>\n",
       "      <td>29333.333333</td>\n",
       "      <td>0.0</td>\n",
       "      <td>908079.416667</td>\n",
       "      <td>0.000000</td>\n",
       "      <td>913045.583333</td>\n",
       "      <td>53874.250000</td>\n",
       "      <td>0.000000</td>\n",
       "    </tr>\n",
       "    <tr>\n",
       "      <th>1</th>\n",
       "      <td>160.0</td>\n",
       "      <td>0.0</td>\n",
       "      <td>13.0</td>\n",
       "      <td>46.0</td>\n",
       "      <td>143640.0</td>\n",
       "      <td>69.0</td>\n",
       "      <td>1.0</td>\n",
       "      <td>0.0</td>\n",
       "      <td>0.0</td>\n",
       "      <td>0.0</td>\n",
       "      <td>...</td>\n",
       "      <td>0.0</td>\n",
       "      <td>17597.250000</td>\n",
       "      <td>45699.2125</td>\n",
       "      <td>167416.666667</td>\n",
       "      <td>0.0</td>\n",
       "      <td>460136.500000</td>\n",
       "      <td>58.904167</td>\n",
       "      <td>428734.833333</td>\n",
       "      <td>119963.916667</td>\n",
       "      <td>84.508333</td>\n",
       "    </tr>\n",
       "    <tr>\n",
       "      <th>2</th>\n",
       "      <td>170.0</td>\n",
       "      <td>0.0</td>\n",
       "      <td>13.0</td>\n",
       "      <td>45.0</td>\n",
       "      <td>929106.0</td>\n",
       "      <td>24.0</td>\n",
       "      <td>1.0</td>\n",
       "      <td>1.0</td>\n",
       "      <td>0.0</td>\n",
       "      <td>0.0</td>\n",
       "      <td>...</td>\n",
       "      <td>0.0</td>\n",
       "      <td>0.000000</td>\n",
       "      <td>0.0000</td>\n",
       "      <td>68325.750000</td>\n",
       "      <td>0.0</td>\n",
       "      <td>8510.750000</td>\n",
       "      <td>0.000000</td>\n",
       "      <td>25294.500000</td>\n",
       "      <td>0.000000</td>\n",
       "      <td>0.000000</td>\n",
       "    </tr>\n",
       "    <tr>\n",
       "      <th>3</th>\n",
       "      <td>151.0</td>\n",
       "      <td>0.0</td>\n",
       "      <td>13.0</td>\n",
       "      <td>46.0</td>\n",
       "      <td>172447.0</td>\n",
       "      <td>134.0</td>\n",
       "      <td>0.0</td>\n",
       "      <td>1.0</td>\n",
       "      <td>0.0</td>\n",
       "      <td>1.0</td>\n",
       "      <td>...</td>\n",
       "      <td>0.0</td>\n",
       "      <td>2706.500000</td>\n",
       "      <td>0.0000</td>\n",
       "      <td>57083.333333</td>\n",
       "      <td>0.0</td>\n",
       "      <td>341916.833333</td>\n",
       "      <td>0.000000</td>\n",
       "      <td>344417.500000</td>\n",
       "      <td>31825.250000</td>\n",
       "      <td>0.000000</td>\n",
       "    </tr>\n",
       "    <tr>\n",
       "      <th>4</th>\n",
       "      <td>170.0</td>\n",
       "      <td>0.0</td>\n",
       "      <td>13.0</td>\n",
       "      <td>46.0</td>\n",
       "      <td>805250.0</td>\n",
       "      <td>116.0</td>\n",
       "      <td>0.0</td>\n",
       "      <td>1.0</td>\n",
       "      <td>1.0</td>\n",
       "      <td>0.0</td>\n",
       "      <td>...</td>\n",
       "      <td>0.0</td>\n",
       "      <td>6227.666667</td>\n",
       "      <td>0.0000</td>\n",
       "      <td>291317.166667</td>\n",
       "      <td>0.0</td>\n",
       "      <td>291684.500000</td>\n",
       "      <td>0.000000</td>\n",
       "      <td>83849.250000</td>\n",
       "      <td>402597.666667</td>\n",
       "      <td>0.000000</td>\n",
       "    </tr>\n",
       "  </tbody>\n",
       "</table>\n",
       "<p>5 rows × 66 columns</p>\n",
       "</div>"
      ],
      "text/plain": [
       "   Subsegmento  Sexo  Region  Edad     Renta  Antiguedad  Internauta  \\\n",
       "0        160.0   1.0    13.0  43.0  601932.8       130.0         1.0   \n",
       "1        160.0   0.0    13.0  46.0  143640.0        69.0         1.0   \n",
       "2        170.0   0.0    13.0  45.0  929106.0        24.0         1.0   \n",
       "3        151.0   0.0    13.0  46.0  172447.0       134.0         0.0   \n",
       "4        170.0   0.0    13.0  46.0  805250.0       116.0         0.0   \n",
       "\n",
       "   Adicional  Dualidad  Monoproducto  ...  ColL2AC_avg   ColL2CC_avg  \\\n",
       "0        1.0       0.0           0.0  ...          0.0  34699.666667   \n",
       "1        0.0       0.0           0.0  ...          0.0  17597.250000   \n",
       "2        1.0       0.0           0.0  ...          0.0      0.000000   \n",
       "3        1.0       0.0           1.0  ...          0.0   2706.500000   \n",
       "4        1.0       1.0           0.0  ...          0.0   6227.666667   \n",
       "\n",
       "    ColMx_avg    PagoNac_avg  PagoInt_avg    EeccNac_avg  EeccInt_avg  \\\n",
       "0      0.0000   29333.333333          0.0  908079.416667     0.000000   \n",
       "1  45699.2125  167416.666667          0.0  460136.500000    58.904167   \n",
       "2      0.0000   68325.750000          0.0    8510.750000     0.000000   \n",
       "3      0.0000   57083.333333          0.0  341916.833333     0.000000   \n",
       "4      0.0000  291317.166667          0.0  291684.500000     0.000000   \n",
       "\n",
       "       UsoL1_avg      UsoL2_avg  UsoLI_avg  \n",
       "0  913045.583333   53874.250000   0.000000  \n",
       "1  428734.833333  119963.916667  84.508333  \n",
       "2   25294.500000       0.000000   0.000000  \n",
       "3  344417.500000   31825.250000   0.000000  \n",
       "4   83849.250000  402597.666667   0.000000  \n",
       "\n",
       "[5 rows x 66 columns]"
      ]
     },
     "execution_count": 34,
     "metadata": {},
     "output_type": "execute_result"
    }
   ],
   "source": [
    "monopoly.head()"
   ]
  },
  {
   "cell_type": "code",
   "execution_count": 35,
   "metadata": {},
   "outputs": [
    {
     "data": {
      "text/html": [
       "<div>\n",
       "<style scoped>\n",
       "    .dataframe tbody tr th:only-of-type {\n",
       "        vertical-align: middle;\n",
       "    }\n",
       "\n",
       "    .dataframe tbody tr th {\n",
       "        vertical-align: top;\n",
       "    }\n",
       "\n",
       "    .dataframe thead th {\n",
       "        text-align: right;\n",
       "    }\n",
       "</style>\n",
       "<table border=\"1\" class=\"dataframe\">\n",
       "  <thead>\n",
       "    <tr style=\"text-align: right;\">\n",
       "      <th></th>\n",
       "      <th>Subsegmento</th>\n",
       "      <th>Sexo</th>\n",
       "      <th>Region</th>\n",
       "      <th>Edad</th>\n",
       "      <th>Antiguedad</th>\n",
       "      <th>Internauta</th>\n",
       "      <th>Adicional</th>\n",
       "      <th>Dualidad</th>\n",
       "      <th>Monoproducto</th>\n",
       "      <th>Ctacte</th>\n",
       "      <th>...</th>\n",
       "      <th>ColL2AC_avg</th>\n",
       "      <th>ColL2CC_avg</th>\n",
       "      <th>ColMx_avg</th>\n",
       "      <th>PagoNac_avg</th>\n",
       "      <th>PagoInt_avg</th>\n",
       "      <th>EeccNac_avg</th>\n",
       "      <th>EeccInt_avg</th>\n",
       "      <th>UsoL1_avg</th>\n",
       "      <th>UsoL2_avg</th>\n",
       "      <th>UsoLI_avg</th>\n",
       "    </tr>\n",
       "  </thead>\n",
       "  <tbody>\n",
       "    <tr>\n",
       "      <th>0</th>\n",
       "      <td>160.0</td>\n",
       "      <td>1.0</td>\n",
       "      <td>13.0</td>\n",
       "      <td>43.0</td>\n",
       "      <td>130.0</td>\n",
       "      <td>1.0</td>\n",
       "      <td>1.0</td>\n",
       "      <td>0.0</td>\n",
       "      <td>0.0</td>\n",
       "      <td>1.0</td>\n",
       "      <td>...</td>\n",
       "      <td>0.0</td>\n",
       "      <td>34699.666667</td>\n",
       "      <td>0.0000</td>\n",
       "      <td>29333.333333</td>\n",
       "      <td>0.0</td>\n",
       "      <td>908079.416667</td>\n",
       "      <td>0.000000</td>\n",
       "      <td>913045.583333</td>\n",
       "      <td>53874.250000</td>\n",
       "      <td>0.000000</td>\n",
       "    </tr>\n",
       "    <tr>\n",
       "      <th>1</th>\n",
       "      <td>160.0</td>\n",
       "      <td>0.0</td>\n",
       "      <td>13.0</td>\n",
       "      <td>46.0</td>\n",
       "      <td>69.0</td>\n",
       "      <td>1.0</td>\n",
       "      <td>0.0</td>\n",
       "      <td>0.0</td>\n",
       "      <td>0.0</td>\n",
       "      <td>1.0</td>\n",
       "      <td>...</td>\n",
       "      <td>0.0</td>\n",
       "      <td>17597.250000</td>\n",
       "      <td>45699.2125</td>\n",
       "      <td>167416.666667</td>\n",
       "      <td>0.0</td>\n",
       "      <td>460136.500000</td>\n",
       "      <td>58.904167</td>\n",
       "      <td>428734.833333</td>\n",
       "      <td>119963.916667</td>\n",
       "      <td>84.508333</td>\n",
       "    </tr>\n",
       "    <tr>\n",
       "      <th>2</th>\n",
       "      <td>170.0</td>\n",
       "      <td>0.0</td>\n",
       "      <td>13.0</td>\n",
       "      <td>45.0</td>\n",
       "      <td>24.0</td>\n",
       "      <td>1.0</td>\n",
       "      <td>1.0</td>\n",
       "      <td>0.0</td>\n",
       "      <td>0.0</td>\n",
       "      <td>1.0</td>\n",
       "      <td>...</td>\n",
       "      <td>0.0</td>\n",
       "      <td>0.000000</td>\n",
       "      <td>0.0000</td>\n",
       "      <td>68325.750000</td>\n",
       "      <td>0.0</td>\n",
       "      <td>8510.750000</td>\n",
       "      <td>0.000000</td>\n",
       "      <td>25294.500000</td>\n",
       "      <td>0.000000</td>\n",
       "      <td>0.000000</td>\n",
       "    </tr>\n",
       "    <tr>\n",
       "      <th>3</th>\n",
       "      <td>151.0</td>\n",
       "      <td>0.0</td>\n",
       "      <td>13.0</td>\n",
       "      <td>46.0</td>\n",
       "      <td>134.0</td>\n",
       "      <td>0.0</td>\n",
       "      <td>1.0</td>\n",
       "      <td>0.0</td>\n",
       "      <td>1.0</td>\n",
       "      <td>0.0</td>\n",
       "      <td>...</td>\n",
       "      <td>0.0</td>\n",
       "      <td>2706.500000</td>\n",
       "      <td>0.0000</td>\n",
       "      <td>57083.333333</td>\n",
       "      <td>0.0</td>\n",
       "      <td>341916.833333</td>\n",
       "      <td>0.000000</td>\n",
       "      <td>344417.500000</td>\n",
       "      <td>31825.250000</td>\n",
       "      <td>0.000000</td>\n",
       "    </tr>\n",
       "    <tr>\n",
       "      <th>4</th>\n",
       "      <td>170.0</td>\n",
       "      <td>0.0</td>\n",
       "      <td>13.0</td>\n",
       "      <td>46.0</td>\n",
       "      <td>116.0</td>\n",
       "      <td>0.0</td>\n",
       "      <td>1.0</td>\n",
       "      <td>1.0</td>\n",
       "      <td>0.0</td>\n",
       "      <td>1.0</td>\n",
       "      <td>...</td>\n",
       "      <td>0.0</td>\n",
       "      <td>6227.666667</td>\n",
       "      <td>0.0000</td>\n",
       "      <td>291317.166667</td>\n",
       "      <td>0.0</td>\n",
       "      <td>291684.500000</td>\n",
       "      <td>0.000000</td>\n",
       "      <td>83849.250000</td>\n",
       "      <td>402597.666667</td>\n",
       "      <td>0.000000</td>\n",
       "    </tr>\n",
       "  </tbody>\n",
       "</table>\n",
       "<p>5 rows × 65 columns</p>\n",
       "</div>"
      ],
      "text/plain": [
       "   Subsegmento  Sexo  Region  Edad  Antiguedad  Internauta  Adicional  \\\n",
       "0        160.0   1.0    13.0  43.0       130.0         1.0        1.0   \n",
       "1        160.0   0.0    13.0  46.0        69.0         1.0        0.0   \n",
       "2        170.0   0.0    13.0  45.0        24.0         1.0        1.0   \n",
       "3        151.0   0.0    13.0  46.0       134.0         0.0        1.0   \n",
       "4        170.0   0.0    13.0  46.0       116.0         0.0        1.0   \n",
       "\n",
       "   Dualidad  Monoproducto  Ctacte  ...  ColL2AC_avg   ColL2CC_avg   ColMx_avg  \\\n",
       "0       0.0           0.0     1.0  ...          0.0  34699.666667      0.0000   \n",
       "1       0.0           0.0     1.0  ...          0.0  17597.250000  45699.2125   \n",
       "2       0.0           0.0     1.0  ...          0.0      0.000000      0.0000   \n",
       "3       0.0           1.0     0.0  ...          0.0   2706.500000      0.0000   \n",
       "4       1.0           0.0     1.0  ...          0.0   6227.666667      0.0000   \n",
       "\n",
       "     PagoNac_avg  PagoInt_avg    EeccNac_avg  EeccInt_avg      UsoL1_avg  \\\n",
       "0   29333.333333          0.0  908079.416667     0.000000  913045.583333   \n",
       "1  167416.666667          0.0  460136.500000    58.904167  428734.833333   \n",
       "2   68325.750000          0.0    8510.750000     0.000000   25294.500000   \n",
       "3   57083.333333          0.0  341916.833333     0.000000  344417.500000   \n",
       "4  291317.166667          0.0  291684.500000     0.000000   83849.250000   \n",
       "\n",
       "       UsoL2_avg  UsoLI_avg  \n",
       "0   53874.250000   0.000000  \n",
       "1  119963.916667  84.508333  \n",
       "2       0.000000   0.000000  \n",
       "3   31825.250000   0.000000  \n",
       "4  402597.666667   0.000000  \n",
       "\n",
       "[5 rows x 65 columns]"
      ]
     },
     "execution_count": 35,
     "metadata": {},
     "output_type": "execute_result"
    }
   ],
   "source": [
    "# Asignar variables objetivo\n",
    "X = monopoly.drop(columns=['Renta'])\n",
    "X.head()"
   ]
  },
  {
   "cell_type": "code",
   "execution_count": 36,
   "metadata": {},
   "outputs": [
    {
     "data": {
      "text/plain": [
       "0    601932.8\n",
       "1    143640.0\n",
       "2    929106.0\n",
       "3    172447.0\n",
       "4    805250.0\n",
       "Name: Renta, dtype: float64"
      ]
     },
     "execution_count": 36,
     "metadata": {},
     "output_type": "execute_result"
    }
   ],
   "source": [
    "y = monopoly['Renta']\n",
    "y.head()"
   ]
  },
  {
   "cell_type": "markdown",
   "metadata": {},
   "source": [
    "#### **Modelo N°1.1***"
   ]
  },
  {
   "cell_type": "markdown",
   "metadata": {},
   "source": [
    "*Debido a la pequeña diferencia entre librerias usadas (CUDA y SciKit) se crearán dos modelos que servirán como base para cada una, respectivamente. Los modelos marcados como \".1\" son creados con las librerías de Nvidia, mientras que los modelos marcados como \".2\" son creados con las librerías de SciKit."
   ]
  },
  {
   "cell_type": "code",
   "execution_count": 37,
   "metadata": {},
   "outputs": [],
   "source": [
    "from cuml.neighbors import KNeighborsRegressor\n",
    "\n",
    "# Creación del modelo\n",
    "knn_1 = KNeighborsRegressor(n_neighbors=5)"
   ]
  },
  {
   "cell_type": "code",
   "execution_count": 38,
   "metadata": {},
   "outputs": [],
   "source": [
    "knn_1 = knn_1.fit(X, y)"
   ]
  },
  {
   "cell_type": "code",
   "execution_count": 39,
   "metadata": {},
   "outputs": [],
   "source": [
    "Y_hat = knn_1.predict(X)"
   ]
  },
  {
   "cell_type": "code",
   "execution_count": 40,
   "metadata": {},
   "outputs": [
    {
     "name": "stdout",
     "output_type": "stream",
     "text": [
      "MAE: 168665.58\n",
      "MSE: 79441744940.96\n",
      "RMSE: 281854.12\n",
      "r2: 0.45\n"
     ]
    }
   ],
   "source": [
    "# Evaluación del modelo\n",
    "from cuml.metrics import mean_squared_error\n",
    "from cuml.metrics import r2_score\n",
    "from cuml.metrics import mean_absolute_error\n",
    "from math import sqrt\n",
    "\n",
    "\n",
    "MAE_1 = mean_absolute_error(y, Y_hat)\n",
    "MSE_1 = mean_squared_error(y, Y_hat)\n",
    "RMSE_1 = sqrt(MSE_1)\n",
    "r2_1 = r2_score(y, Y_hat)\n",
    "\n",
    "print(\"MAE: %.2f\" % MAE_1 )\n",
    "print(\"MSE: %.2f\" % MSE_1)\n",
    "print(\"RMSE: %.2f\" % RMSE_1)\n",
    "print('r2: %.2f' % r2_1)"
   ]
  },
  {
   "cell_type": "markdown",
   "metadata": {},
   "source": [
    "#### **Modelo N°1.2** "
   ]
  },
  {
   "cell_type": "code",
   "execution_count": 19,
   "metadata": {},
   "outputs": [],
   "source": [
    "from sklearn.neighbors import KNeighborsRegressor as skKNN\n",
    "\n",
    "# Creación del modelo\n",
    "knn_1_1 = skKNN(n_neighbors=5)"
   ]
  },
  {
   "cell_type": "code",
   "execution_count": 20,
   "metadata": {},
   "outputs": [],
   "source": [
    "knn_1_1 = knn_1_1.fit(X, y)"
   ]
  },
  {
   "cell_type": "code",
   "execution_count": 21,
   "metadata": {},
   "outputs": [],
   "source": [
    "#Ŷ (Y gorro) = Y_hat\n",
    "Y_hat = knn_1_1.predict(X)"
   ]
  },
  {
   "cell_type": "code",
   "execution_count": 22,
   "metadata": {},
   "outputs": [
    {
     "name": "stdout",
     "output_type": "stream",
     "text": [
      "MAE: 168668.59\n",
      "MSE: 79442545064.15\n",
      "RMSE: 281855.54\n",
      "r2: 0.45\n"
     ]
    }
   ],
   "source": [
    "from sklearn.metrics import mean_squared_error, mean_absolute_error, r2_score\n",
    "from math import sqrt\n",
    "\n",
    "MAE_1_1 = mean_absolute_error(y, Y_hat)\n",
    "MSE_1_1 = mean_squared_error(y, Y_hat)\n",
    "RMSE_1_1 = sqrt(MSE_1_1)\n",
    "r2_1_1 = r2_score(y, Y_hat)\n",
    "\n",
    "print(\"MAE: %.2f\" % MAE_1_1 )\n",
    "print(\"MSE: %.2f\" % MSE_1_1)\n",
    "print(\"RMSE: %.2f\" % RMSE_1_1)\n",
    "print('r2: %.2f' % r2_1_1)"
   ]
  },
  {
   "cell_type": "markdown",
   "metadata": {},
   "source": [
    "#### **Modelo N°2.1**"
   ]
  },
  {
   "cell_type": "code",
   "execution_count": 41,
   "metadata": {},
   "outputs": [],
   "source": [
    "from cuml.model_selection import train_test_split\n",
    "\n",
    "# Dividir en train y test\n",
    "X_train, X_test, y_train, y_test = train_test_split(X, y, train_size=0.8, random_state=52)"
   ]
  },
  {
   "cell_type": "code",
   "execution_count": 42,
   "metadata": {},
   "outputs": [],
   "source": [
    "knn_2 = KNeighborsRegressor(n_neighbors=7, metric='euclidean', weights='uniform')"
   ]
  },
  {
   "cell_type": "code",
   "execution_count": 43,
   "metadata": {},
   "outputs": [],
   "source": [
    "knn_2 = knn_2.fit(X_train, y_train)"
   ]
  },
  {
   "cell_type": "code",
   "execution_count": 44,
   "metadata": {},
   "outputs": [],
   "source": [
    "Y_hat = knn_2.predict(X_test)"
   ]
  },
  {
   "cell_type": "code",
   "execution_count": 45,
   "metadata": {},
   "outputs": [
    {
     "name": "stdout",
     "output_type": "stream",
     "text": [
      "MAE: 201465.16\n",
      "MSE: 104804196651.52\n",
      "RMSE: 323734.76\n",
      "r2: 0.21\n"
     ]
    }
   ],
   "source": [
    "MAE_2 = mean_absolute_error(y_test, Y_hat)\n",
    "MSE_2 = mean_squared_error(y_test, Y_hat)\n",
    "RMSE_2 = sqrt(MSE_2)\n",
    "r2_2 = r2_score(y_test, Y_hat)\n",
    "\n",
    "print(\"MAE: %.2f\" % MAE_2 )\n",
    "print(\"MSE: %.2f\" % MSE_2)\n",
    "print(\"RMSE: %.2f\" % RMSE_2)\n",
    "print('r2: %.2f' % r2_2)"
   ]
  },
  {
   "cell_type": "markdown",
   "metadata": {},
   "source": [
    "#### **Modelo N°2.2**"
   ]
  },
  {
   "cell_type": "code",
   "execution_count": 23,
   "metadata": {},
   "outputs": [],
   "source": [
    "from sklearn.model_selection import train_test_split\n",
    "\n",
    "# Dividir en train y test\n",
    "X_train, X_test, y_train, y_test = train_test_split(X, y, train_size=0.8, random_state=52)"
   ]
  },
  {
   "cell_type": "code",
   "execution_count": 24,
   "metadata": {},
   "outputs": [],
   "source": [
    "knn_2_2 = skKNN(n_neighbors=7, metric='euclidean', weights='distance')"
   ]
  },
  {
   "cell_type": "code",
   "execution_count": 25,
   "metadata": {},
   "outputs": [],
   "source": [
    "knn_2_2 = knn_2_2.fit(X_train, y_train)"
   ]
  },
  {
   "cell_type": "code",
   "execution_count": 26,
   "metadata": {},
   "outputs": [],
   "source": [
    "Y_hat = knn_2_2.predict(X_test)"
   ]
  },
  {
   "cell_type": "code",
   "execution_count": 27,
   "metadata": {},
   "outputs": [
    {
     "name": "stdout",
     "output_type": "stream",
     "text": [
      "MAE: 199589.17\n",
      "MSE: 104269525289.61\n",
      "RMSE: 322907.92\n",
      "r2: 0.21\n"
     ]
    }
   ],
   "source": [
    "MAE_2_2 = mean_absolute_error(y_test, Y_hat)\n",
    "MSE_2_2 = mean_squared_error(y_test, Y_hat)\n",
    "RMSE_2_2 = sqrt(MSE_2_2)\n",
    "r2_2_2 = r2_score(y_test, Y_hat)\n",
    "\n",
    "print(\"MAE: %.2f\" % MAE_2_2 )\n",
    "print(\"MSE: %.2f\" % MSE_2_2)\n",
    "print(\"RMSE: %.2f\" % RMSE_2_2)\n",
    "print('r2: %.2f' % r2_2_2)"
   ]
  },
  {
   "cell_type": "markdown",
   "metadata": {},
   "source": [
    "#### **Modelo N°3**"
   ]
  },
  {
   "cell_type": "code",
   "execution_count": 46,
   "metadata": {},
   "outputs": [],
   "source": [
    "knn_3 = KNeighborsRegressor(n_neighbors=12, metric='minkowski', p=5)"
   ]
  },
  {
   "cell_type": "code",
   "execution_count": 47,
   "metadata": {},
   "outputs": [],
   "source": [
    "knn_3 = knn_3.fit(X_train, y_train)\n",
    "Y_hat = knn_3.predict(X_test)"
   ]
  },
  {
   "cell_type": "code",
   "execution_count": 48,
   "metadata": {},
   "outputs": [
    {
     "name": "stdout",
     "output_type": "stream",
     "text": [
      "MAE: 202024.48\n",
      "MSE: 102324658332.41\n",
      "RMSE: 319882.26\n",
      "r2: 0.22\n"
     ]
    }
   ],
   "source": [
    "MAE_3 = mean_absolute_error(y_test, Y_hat)\n",
    "MSE_3 = mean_squared_error(y_test, Y_hat)\n",
    "RMSE_3 = sqrt(MSE_3)\n",
    "r2_3 = r2_score(y_test, Y_hat)\n",
    "\n",
    "print(\"MAE: %.2f\" % MAE_3)\n",
    "print(\"MSE: %.2f\" % MSE_3)\n",
    "print(\"RMSE: %.2f\" % RMSE_3)\n",
    "print('r2: %.2f' % r2_3)"
   ]
  },
  {
   "cell_type": "markdown",
   "metadata": {},
   "source": [
    "#### **Modelo N°4**"
   ]
  },
  {
   "cell_type": "code",
   "execution_count": 49,
   "metadata": {},
   "outputs": [],
   "source": [
    "knn_4 = KNeighborsRegressor(n_neighbors=9, metric='manhattan', weights='uniform')"
   ]
  },
  {
   "cell_type": "code",
   "execution_count": 50,
   "metadata": {},
   "outputs": [],
   "source": [
    "knn_4 = knn_4.fit(X_train, y_train)\n",
    "Y_hat = knn_4.predict(X_test)"
   ]
  },
  {
   "cell_type": "code",
   "execution_count": 51,
   "metadata": {},
   "outputs": [
    {
     "name": "stdout",
     "output_type": "stream",
     "text": [
      "MAE: 202774.46\n",
      "MSE: 104004751681.07\n",
      "RMSE: 322497.68\n",
      "r2: 0.21\n"
     ]
    }
   ],
   "source": [
    "MAE_4 = mean_absolute_error(y_test, Y_hat)\n",
    "MSE_4 = mean_squared_error(y_test, Y_hat)\n",
    "RMSE_4 = sqrt(MSE_4)\n",
    "r2_4 = r2_score(y_test, Y_hat)\n",
    "\n",
    "print(\"MAE: %.2f\" % MAE_4)\n",
    "print(\"MSE: %.2f\" % MSE_4)\n",
    "print(\"RMSE: %.2f\" % RMSE_4)\n",
    "print('r2: %.2f' % r2_4)"
   ]
  },
  {
   "cell_type": "markdown",
   "metadata": {},
   "source": [
    "#### **Modelo N°5**"
   ]
  },
  {
   "cell_type": "code",
   "execution_count": 29,
   "metadata": {},
   "outputs": [
    {
     "data": {
      "text/plain": [
       "{'metric': 'euclidean', 'n_neighbors': 12}"
      ]
     },
     "execution_count": 29,
     "metadata": {},
     "output_type": "execute_result"
    }
   ],
   "source": [
    "from sklearn.model_selection import GridSearchCV\n",
    "\n",
    "# Definir la lista de hiperparámetros a probar\n",
    "param_grid = {\n",
    "    'n_neighbors': [3, 5, 7, 9, 12],  # Valores de K\n",
    "    'metric': ['euclidean', 'manhattan', 'minkowski']  # Métricas de distancia\n",
    "}\n",
    "\n",
    "# Crear el modelo KNN Regressor\n",
    "knn = skKNN()\n",
    "\n",
    "# Realizar la búsqueda en cuadrícula\n",
    "grid_search = GridSearchCV(estimator=knn, param_grid=param_grid, scoring='neg_mean_squared_error', cv=5)\n",
    "grid_search.fit(X_train, y_train)  # X_train y y_train son tus datos de entrenamiento\n",
    "\n",
    "# Obtener los mejores hiperparámetros\n",
    "best_params = grid_search.best_params_\n",
    "best_params"
   ]
  },
  {
   "cell_type": "markdown",
   "metadata": {},
   "source": [
    "A partir del GridSearch anterior, se crea un modelo con los hiperparámetros dados. 'euclidean' y 'n_neighbors: 12'\""
   ]
  },
  {
   "cell_type": "code",
   "execution_count": 30,
   "metadata": {},
   "outputs": [],
   "source": [
    "# Crear un nuevo modelo KNN Regressor con los mejores parámetros\n",
    "best_k = best_params['n_neighbors']  # Mejor valor de K\n",
    "best_metric = best_params['metric']  # Mejor métrica de distancia\n",
    "\n",
    "knn_5 = skKNN(n_neighbors=best_k, metric=best_metric, weights='distance')"
   ]
  },
  {
   "cell_type": "code",
   "execution_count": 31,
   "metadata": {},
   "outputs": [],
   "source": [
    "knn_5 = knn_5.fit(X_train, y_train)\n",
    "Y_hat = knn_5.predict(X_test)"
   ]
  },
  {
   "cell_type": "code",
   "execution_count": 70,
   "metadata": {},
   "outputs": [
    {
     "name": "stdout",
     "output_type": "stream",
     "text": [
      "MAE: 202774.46\n",
      "MSE: 104004751681.07\n",
      "RMSE: 322497.68\n",
      "r2: 0.21\n"
     ]
    }
   ],
   "source": [
    "MAE_5 = mean_absolute_error(y_test, Y_hat)\n",
    "MSE_5 = mean_squared_error(y_test, Y_hat)\n",
    "RMSE_5 = sqrt(MSE_5)\n",
    "r2_5 = r2_score(y_test, Y_hat)\n",
    "\n",
    "print(\"MAE: %.2f\" % MAE_5)\n",
    "print(\"MSE: %.2f\" % MSE_5)\n",
    "print(\"RMSE: %.2f\" % RMSE_5)\n",
    "print('r2: %.2f' % r2_5)"
   ]
  },
  {
   "cell_type": "markdown",
   "metadata": {},
   "source": [
    "**Comparación de modelos**"
   ]
  },
  {
   "cell_type": "code",
   "execution_count": 86,
   "metadata": {},
   "outputs": [
    {
     "data": {
      "text/html": [
       "<div>\n",
       "<style scoped>\n",
       "    .dataframe tbody tr th:only-of-type {\n",
       "        vertical-align: middle;\n",
       "    }\n",
       "\n",
       "    .dataframe tbody tr th {\n",
       "        vertical-align: top;\n",
       "    }\n",
       "\n",
       "    .dataframe thead th {\n",
       "        text-align: right;\n",
       "    }\n",
       "</style>\n",
       "<table border=\"1\" class=\"dataframe\">\n",
       "  <thead>\n",
       "    <tr style=\"text-align: right;\">\n",
       "      <th></th>\n",
       "      <th>Modelo</th>\n",
       "      <th>MAE</th>\n",
       "      <th>MSE</th>\n",
       "      <th>RMSE</th>\n",
       "      <th>r2</th>\n",
       "    </tr>\n",
       "  </thead>\n",
       "  <tbody>\n",
       "    <tr>\n",
       "      <th>0</th>\n",
       "      <td>KNN_1</td>\n",
       "      <td>168665.57552030723</td>\n",
       "      <td>79441744940.95837</td>\n",
       "      <td>281854.119964</td>\n",
       "      <td>0.446528</td>\n",
       "    </tr>\n",
       "    <tr>\n",
       "      <th>1</th>\n",
       "      <td>KNN_1_1</td>\n",
       "      <td>168668.587339</td>\n",
       "      <td>79442545064.147537</td>\n",
       "      <td>281855.539353</td>\n",
       "      <td>0.446522</td>\n",
       "    </tr>\n",
       "    <tr>\n",
       "      <th>2</th>\n",
       "      <td>KNN_2</td>\n",
       "      <td>201465.16447736553</td>\n",
       "      <td>104804196651.51784</td>\n",
       "      <td>323734.762810</td>\n",
       "      <td>0.206001</td>\n",
       "    </tr>\n",
       "    <tr>\n",
       "      <th>3</th>\n",
       "      <td>KNN_2_2</td>\n",
       "      <td>199589.174232</td>\n",
       "      <td>104269525289.612473</td>\n",
       "      <td>322907.920760</td>\n",
       "      <td>0.211539</td>\n",
       "    </tr>\n",
       "    <tr>\n",
       "      <th>4</th>\n",
       "      <td>KNN_3</td>\n",
       "      <td>202024.47722751836</td>\n",
       "      <td>102324658332.41467</td>\n",
       "      <td>319882.256983</td>\n",
       "      <td>0.224786</td>\n",
       "    </tr>\n",
       "    <tr>\n",
       "      <th>5</th>\n",
       "      <td>KNN_4</td>\n",
       "      <td>202774.46379154647</td>\n",
       "      <td>104004751681.06624</td>\n",
       "      <td>322497.677017</td>\n",
       "      <td>0.212058</td>\n",
       "    </tr>\n",
       "    <tr>\n",
       "      <th>6</th>\n",
       "      <td>KNN_5</td>\n",
       "      <td>202774.46379154647</td>\n",
       "      <td>104004751681.06624</td>\n",
       "      <td>322497.677017</td>\n",
       "      <td>0.212058</td>\n",
       "    </tr>\n",
       "  </tbody>\n",
       "</table>\n",
       "</div>"
      ],
      "text/plain": [
       "    Modelo                 MAE                  MSE           RMSE        r2\n",
       "0    KNN_1  168665.57552030723    79441744940.95837  281854.119964  0.446528\n",
       "1  KNN_1_1       168668.587339   79442545064.147537  281855.539353  0.446522\n",
       "2    KNN_2  201465.16447736553   104804196651.51784  323734.762810  0.206001\n",
       "3  KNN_2_2       199589.174232  104269525289.612473  322907.920760  0.211539\n",
       "4    KNN_3  202024.47722751836   102324658332.41467  319882.256983  0.224786\n",
       "5    KNN_4  202774.46379154647   104004751681.06624  322497.677017  0.212058\n",
       "6    KNN_5  202774.46379154647   104004751681.06624  322497.677017  0.212058"
      ]
     },
     "execution_count": 86,
     "metadata": {},
     "output_type": "execute_result"
    }
   ],
   "source": [
    "# Comparamos todos los modelos y elegimos el mejor\n",
    "\n",
    "knn_best = pd.DataFrame({\n",
    "    'Modelo': ['KNN_1', 'KNN_1_1', 'KNN_2', 'KNN_2_2', 'KNN_3', 'KNN_4', 'KNN_5'],\n",
    "    'MAE': [MAE_1.get(), MAE_1_1, MAE_2.get(), MAE_2_2, MAE_3.get(), MAE_4.get(), MAE_5.get()],\n",
    "    'MSE': [MSE_1.get(), MSE_1_1, MSE_2.get(), MSE_2_2, MSE_3.get(), MSE_4.get(), MSE_5.get()],\n",
    "    'RMSE': [RMSE_1, RMSE_1_1, RMSE_2, RMSE_2_2, RMSE_3, RMSE_4, RMSE_5],\n",
    "    'r2': [r2_1, r2_1_1, r2_2, r2_2_2, r2_3, r2_4, r2_5],\n",
    "    })\n",
    "\n",
    "knn_best"
   ]
  },
  {
   "cell_type": "markdown",
   "metadata": {},
   "source": [
    "El modelo que más ajuste y menor error tiene, es el modelo N°4, que se considerará como el \"modelo ganador\"."
   ]
  },
  {
   "cell_type": "code",
   "execution_count": 89,
   "metadata": {},
   "outputs": [
    {
     "data": {
      "text/plain": [
       "['../MachineLearning-003D/models/knn3_regress.pkl']"
      ]
     },
     "execution_count": 89,
     "metadata": {},
     "output_type": "execute_result"
    }
   ],
   "source": [
    "import joblib as jb\n",
    "\n",
    "# Guardar el modelo\n",
    "jb.dump(knn_3, \"../MachineLearning-003D/models/knn3_regress.pkl\")"
   ]
  },
  {
   "cell_type": "markdown",
   "metadata": {},
   "source": [
    "### **KNN (K-Nearest Neighbors, Clasificación)**"
   ]
  },
  {
   "cell_type": "markdown",
   "metadata": {},
   "source": [
    "*Debido a la pequeña diferencia entre librerias usadas (CUDA y SciKit) se crearán dos modelos que servirán como base para cada una, respectivamente. Los modelos marcados como \".1\" son creados con las librerías de Nvidia, mientras que los modelos marcados como \".2\" son creados con las librerías de SciKit."
   ]
  },
  {
   "cell_type": "markdown",
   "metadata": {},
   "source": [
    "----"
   ]
  },
  {
   "cell_type": "code",
   "execution_count": 1,
   "metadata": {},
   "outputs": [],
   "source": [
    "# Librerías de SciKit para procesamiento con CPU\n",
    "\n",
    "import pandas as pd\n",
    "from sklearn.model_selection import train_test_split\n",
    "\n",
    "# Carga de parquet preprocesado\n",
    "path = 'monopoly_cleaned_parquet'\n",
    "monopoly = pd.read_parquet(path)\n",
    "\n",
    "import warnings\n",
    "warnings.filterwarnings('ignore')"
   ]
  },
  {
   "cell_type": "markdown",
   "metadata": {},
   "source": [
    "**Definición de variables objetivo (SciKit)**"
   ]
  },
  {
   "cell_type": "code",
   "execution_count": 2,
   "metadata": {},
   "outputs": [
    {
     "data": {
      "text/html": [
       "<div>\n",
       "<style scoped>\n",
       "    .dataframe tbody tr th:only-of-type {\n",
       "        vertical-align: middle;\n",
       "    }\n",
       "\n",
       "    .dataframe tbody tr th {\n",
       "        vertical-align: top;\n",
       "    }\n",
       "\n",
       "    .dataframe thead th {\n",
       "        text-align: right;\n",
       "    }\n",
       "</style>\n",
       "<table border=\"1\" class=\"dataframe\">\n",
       "  <thead>\n",
       "    <tr style=\"text-align: right;\">\n",
       "      <th></th>\n",
       "      <th>Subsegmento</th>\n",
       "      <th>Sexo</th>\n",
       "      <th>Region</th>\n",
       "      <th>Edad</th>\n",
       "      <th>Renta</th>\n",
       "      <th>Antiguedad</th>\n",
       "      <th>Adicional</th>\n",
       "      <th>Dualidad</th>\n",
       "      <th>Monoproducto</th>\n",
       "      <th>Ctacte</th>\n",
       "      <th>...</th>\n",
       "      <th>ColL2AC_avg</th>\n",
       "      <th>ColL2CC_avg</th>\n",
       "      <th>ColMx_avg</th>\n",
       "      <th>PagoNac_avg</th>\n",
       "      <th>PagoInt_avg</th>\n",
       "      <th>EeccNac_avg</th>\n",
       "      <th>EeccInt_avg</th>\n",
       "      <th>UsoL1_avg</th>\n",
       "      <th>UsoL2_avg</th>\n",
       "      <th>UsoLI_avg</th>\n",
       "    </tr>\n",
       "  </thead>\n",
       "  <tbody>\n",
       "    <tr>\n",
       "      <th>0</th>\n",
       "      <td>160.0</td>\n",
       "      <td>1.0</td>\n",
       "      <td>13.0</td>\n",
       "      <td>43.0</td>\n",
       "      <td>601932.8</td>\n",
       "      <td>130.0</td>\n",
       "      <td>1.0</td>\n",
       "      <td>0.0</td>\n",
       "      <td>0.0</td>\n",
       "      <td>1.0</td>\n",
       "      <td>...</td>\n",
       "      <td>0.0</td>\n",
       "      <td>34699.666667</td>\n",
       "      <td>0.0000</td>\n",
       "      <td>29333.333333</td>\n",
       "      <td>0.0</td>\n",
       "      <td>908079.416667</td>\n",
       "      <td>0.000000</td>\n",
       "      <td>913045.583333</td>\n",
       "      <td>53874.250000</td>\n",
       "      <td>0.000000</td>\n",
       "    </tr>\n",
       "    <tr>\n",
       "      <th>1</th>\n",
       "      <td>160.0</td>\n",
       "      <td>0.0</td>\n",
       "      <td>13.0</td>\n",
       "      <td>46.0</td>\n",
       "      <td>143640.0</td>\n",
       "      <td>69.0</td>\n",
       "      <td>0.0</td>\n",
       "      <td>0.0</td>\n",
       "      <td>0.0</td>\n",
       "      <td>1.0</td>\n",
       "      <td>...</td>\n",
       "      <td>0.0</td>\n",
       "      <td>17597.250000</td>\n",
       "      <td>45699.2125</td>\n",
       "      <td>167416.666667</td>\n",
       "      <td>0.0</td>\n",
       "      <td>460136.500000</td>\n",
       "      <td>58.904167</td>\n",
       "      <td>428734.833333</td>\n",
       "      <td>119963.916667</td>\n",
       "      <td>84.508333</td>\n",
       "    </tr>\n",
       "    <tr>\n",
       "      <th>2</th>\n",
       "      <td>170.0</td>\n",
       "      <td>0.0</td>\n",
       "      <td>13.0</td>\n",
       "      <td>45.0</td>\n",
       "      <td>929106.0</td>\n",
       "      <td>24.0</td>\n",
       "      <td>1.0</td>\n",
       "      <td>0.0</td>\n",
       "      <td>0.0</td>\n",
       "      <td>1.0</td>\n",
       "      <td>...</td>\n",
       "      <td>0.0</td>\n",
       "      <td>0.000000</td>\n",
       "      <td>0.0000</td>\n",
       "      <td>68325.750000</td>\n",
       "      <td>0.0</td>\n",
       "      <td>8510.750000</td>\n",
       "      <td>0.000000</td>\n",
       "      <td>25294.500000</td>\n",
       "      <td>0.000000</td>\n",
       "      <td>0.000000</td>\n",
       "    </tr>\n",
       "    <tr>\n",
       "      <th>3</th>\n",
       "      <td>151.0</td>\n",
       "      <td>0.0</td>\n",
       "      <td>13.0</td>\n",
       "      <td>46.0</td>\n",
       "      <td>172447.0</td>\n",
       "      <td>134.0</td>\n",
       "      <td>1.0</td>\n",
       "      <td>0.0</td>\n",
       "      <td>1.0</td>\n",
       "      <td>0.0</td>\n",
       "      <td>...</td>\n",
       "      <td>0.0</td>\n",
       "      <td>2706.500000</td>\n",
       "      <td>0.0000</td>\n",
       "      <td>57083.333333</td>\n",
       "      <td>0.0</td>\n",
       "      <td>341916.833333</td>\n",
       "      <td>0.000000</td>\n",
       "      <td>344417.500000</td>\n",
       "      <td>31825.250000</td>\n",
       "      <td>0.000000</td>\n",
       "    </tr>\n",
       "    <tr>\n",
       "      <th>4</th>\n",
       "      <td>170.0</td>\n",
       "      <td>0.0</td>\n",
       "      <td>13.0</td>\n",
       "      <td>46.0</td>\n",
       "      <td>805250.0</td>\n",
       "      <td>116.0</td>\n",
       "      <td>1.0</td>\n",
       "      <td>1.0</td>\n",
       "      <td>0.0</td>\n",
       "      <td>1.0</td>\n",
       "      <td>...</td>\n",
       "      <td>0.0</td>\n",
       "      <td>6227.666667</td>\n",
       "      <td>0.0000</td>\n",
       "      <td>291317.166667</td>\n",
       "      <td>0.0</td>\n",
       "      <td>291684.500000</td>\n",
       "      <td>0.000000</td>\n",
       "      <td>83849.250000</td>\n",
       "      <td>402597.666667</td>\n",
       "      <td>0.000000</td>\n",
       "    </tr>\n",
       "  </tbody>\n",
       "</table>\n",
       "<p>5 rows × 65 columns</p>\n",
       "</div>"
      ],
      "text/plain": [
       "   Subsegmento  Sexo  Region  Edad     Renta  Antiguedad  Adicional  Dualidad  \\\n",
       "0        160.0   1.0    13.0  43.0  601932.8       130.0        1.0       0.0   \n",
       "1        160.0   0.0    13.0  46.0  143640.0        69.0        0.0       0.0   \n",
       "2        170.0   0.0    13.0  45.0  929106.0        24.0        1.0       0.0   \n",
       "3        151.0   0.0    13.0  46.0  172447.0       134.0        1.0       0.0   \n",
       "4        170.0   0.0    13.0  46.0  805250.0       116.0        1.0       1.0   \n",
       "\n",
       "   Monoproducto  Ctacte  ...  ColL2AC_avg   ColL2CC_avg   ColMx_avg  \\\n",
       "0           0.0     1.0  ...          0.0  34699.666667      0.0000   \n",
       "1           0.0     1.0  ...          0.0  17597.250000  45699.2125   \n",
       "2           0.0     1.0  ...          0.0      0.000000      0.0000   \n",
       "3           1.0     0.0  ...          0.0   2706.500000      0.0000   \n",
       "4           0.0     1.0  ...          0.0   6227.666667      0.0000   \n",
       "\n",
       "     PagoNac_avg  PagoInt_avg    EeccNac_avg  EeccInt_avg      UsoL1_avg  \\\n",
       "0   29333.333333          0.0  908079.416667     0.000000  913045.583333   \n",
       "1  167416.666667          0.0  460136.500000    58.904167  428734.833333   \n",
       "2   68325.750000          0.0    8510.750000     0.000000   25294.500000   \n",
       "3   57083.333333          0.0  341916.833333     0.000000  344417.500000   \n",
       "4  291317.166667          0.0  291684.500000     0.000000   83849.250000   \n",
       "\n",
       "       UsoL2_avg  UsoLI_avg  \n",
       "0   53874.250000   0.000000  \n",
       "1  119963.916667  84.508333  \n",
       "2       0.000000   0.000000  \n",
       "3   31825.250000   0.000000  \n",
       "4  402597.666667   0.000000  \n",
       "\n",
       "[5 rows x 65 columns]"
      ]
     },
     "execution_count": 2,
     "metadata": {},
     "output_type": "execute_result"
    }
   ],
   "source": [
    "X = pd.DataFrame(monopoly.drop(columns=['Internauta']))\n",
    "X.head()"
   ]
  },
  {
   "cell_type": "code",
   "execution_count": 3,
   "metadata": {},
   "outputs": [
    {
     "data": {
      "text/html": [
       "<div>\n",
       "<style scoped>\n",
       "    .dataframe tbody tr th:only-of-type {\n",
       "        vertical-align: middle;\n",
       "    }\n",
       "\n",
       "    .dataframe tbody tr th {\n",
       "        vertical-align: top;\n",
       "    }\n",
       "\n",
       "    .dataframe thead th {\n",
       "        text-align: right;\n",
       "    }\n",
       "</style>\n",
       "<table border=\"1\" class=\"dataframe\">\n",
       "  <thead>\n",
       "    <tr style=\"text-align: right;\">\n",
       "      <th></th>\n",
       "      <th>Internauta</th>\n",
       "    </tr>\n",
       "  </thead>\n",
       "  <tbody>\n",
       "    <tr>\n",
       "      <th>0</th>\n",
       "      <td>1.0</td>\n",
       "    </tr>\n",
       "    <tr>\n",
       "      <th>1</th>\n",
       "      <td>1.0</td>\n",
       "    </tr>\n",
       "    <tr>\n",
       "      <th>2</th>\n",
       "      <td>1.0</td>\n",
       "    </tr>\n",
       "    <tr>\n",
       "      <th>3</th>\n",
       "      <td>0.0</td>\n",
       "    </tr>\n",
       "    <tr>\n",
       "      <th>4</th>\n",
       "      <td>0.0</td>\n",
       "    </tr>\n",
       "  </tbody>\n",
       "</table>\n",
       "</div>"
      ],
      "text/plain": [
       "   Internauta\n",
       "0         1.0\n",
       "1         1.0\n",
       "2         1.0\n",
       "3         0.0\n",
       "4         0.0"
      ]
     },
     "execution_count": 3,
     "metadata": {},
     "output_type": "execute_result"
    }
   ],
   "source": [
    "y = pd.DataFrame(monopoly['Internauta'])\n",
    "y.head()"
   ]
  },
  {
   "cell_type": "code",
   "execution_count": 4,
   "metadata": {},
   "outputs": [
    {
     "data": {
      "text/plain": [
       "Internauta\n",
       "0.0    16142\n",
       "1.0    34979\n",
       "dtype: int64"
      ]
     },
     "execution_count": 4,
     "metadata": {},
     "output_type": "execute_result"
    }
   ],
   "source": [
    "y.groupby('Internauta').size()"
   ]
  },
  {
   "cell_type": "markdown",
   "metadata": {},
   "source": [
    "----"
   ]
  },
  {
   "cell_type": "code",
   "execution_count": 1,
   "metadata": {},
   "outputs": [],
   "source": [
    "# Librerías de Nvidia para procesamiento con GPU\n",
    "import cudf\n",
    "\n",
    "# Carga de parquet preprocesado\n",
    "path = 'monopoly_cleaned_parquet'\n",
    "monopoly = cudf.read_parquet(path)\n",
    "\n",
    "import warnings\n",
    "warnings.filterwarnings('ignore')"
   ]
  },
  {
   "cell_type": "markdown",
   "metadata": {},
   "source": [
    "**Definición de variables objetivo (CUDA)**"
   ]
  },
  {
   "cell_type": "code",
   "execution_count": 2,
   "metadata": {},
   "outputs": [
    {
     "data": {
      "text/html": [
       "<div>\n",
       "<style scoped>\n",
       "    .dataframe tbody tr th:only-of-type {\n",
       "        vertical-align: middle;\n",
       "    }\n",
       "\n",
       "    .dataframe tbody tr th {\n",
       "        vertical-align: top;\n",
       "    }\n",
       "\n",
       "    .dataframe thead th {\n",
       "        text-align: right;\n",
       "    }\n",
       "</style>\n",
       "<table border=\"1\" class=\"dataframe\">\n",
       "  <thead>\n",
       "    <tr style=\"text-align: right;\">\n",
       "      <th></th>\n",
       "      <th>Subsegmento</th>\n",
       "      <th>Sexo</th>\n",
       "      <th>Region</th>\n",
       "      <th>Edad</th>\n",
       "      <th>Renta</th>\n",
       "      <th>Antiguedad</th>\n",
       "      <th>Adicional</th>\n",
       "      <th>Dualidad</th>\n",
       "      <th>Monoproducto</th>\n",
       "      <th>Ctacte</th>\n",
       "      <th>...</th>\n",
       "      <th>ColL2AC_avg</th>\n",
       "      <th>ColL2CC_avg</th>\n",
       "      <th>ColMx_avg</th>\n",
       "      <th>PagoNac_avg</th>\n",
       "      <th>PagoInt_avg</th>\n",
       "      <th>EeccNac_avg</th>\n",
       "      <th>EeccInt_avg</th>\n",
       "      <th>UsoL1_avg</th>\n",
       "      <th>UsoL2_avg</th>\n",
       "      <th>UsoLI_avg</th>\n",
       "    </tr>\n",
       "  </thead>\n",
       "  <tbody>\n",
       "    <tr>\n",
       "      <th>0</th>\n",
       "      <td>160.0</td>\n",
       "      <td>1.0</td>\n",
       "      <td>13.0</td>\n",
       "      <td>43.0</td>\n",
       "      <td>601932.8</td>\n",
       "      <td>130.0</td>\n",
       "      <td>1.0</td>\n",
       "      <td>0.0</td>\n",
       "      <td>0.0</td>\n",
       "      <td>1.0</td>\n",
       "      <td>...</td>\n",
       "      <td>0.0</td>\n",
       "      <td>34699.666667</td>\n",
       "      <td>0.0000</td>\n",
       "      <td>29333.333333</td>\n",
       "      <td>0.0</td>\n",
       "      <td>908079.416667</td>\n",
       "      <td>0.000000</td>\n",
       "      <td>913045.583333</td>\n",
       "      <td>53874.250000</td>\n",
       "      <td>0.000000</td>\n",
       "    </tr>\n",
       "    <tr>\n",
       "      <th>1</th>\n",
       "      <td>160.0</td>\n",
       "      <td>0.0</td>\n",
       "      <td>13.0</td>\n",
       "      <td>46.0</td>\n",
       "      <td>143640.0</td>\n",
       "      <td>69.0</td>\n",
       "      <td>0.0</td>\n",
       "      <td>0.0</td>\n",
       "      <td>0.0</td>\n",
       "      <td>1.0</td>\n",
       "      <td>...</td>\n",
       "      <td>0.0</td>\n",
       "      <td>17597.250000</td>\n",
       "      <td>45699.2125</td>\n",
       "      <td>167416.666667</td>\n",
       "      <td>0.0</td>\n",
       "      <td>460136.500000</td>\n",
       "      <td>58.904167</td>\n",
       "      <td>428734.833333</td>\n",
       "      <td>119963.916667</td>\n",
       "      <td>84.508333</td>\n",
       "    </tr>\n",
       "    <tr>\n",
       "      <th>2</th>\n",
       "      <td>170.0</td>\n",
       "      <td>0.0</td>\n",
       "      <td>13.0</td>\n",
       "      <td>45.0</td>\n",
       "      <td>929106.0</td>\n",
       "      <td>24.0</td>\n",
       "      <td>1.0</td>\n",
       "      <td>0.0</td>\n",
       "      <td>0.0</td>\n",
       "      <td>1.0</td>\n",
       "      <td>...</td>\n",
       "      <td>0.0</td>\n",
       "      <td>0.000000</td>\n",
       "      <td>0.0000</td>\n",
       "      <td>68325.750000</td>\n",
       "      <td>0.0</td>\n",
       "      <td>8510.750000</td>\n",
       "      <td>0.000000</td>\n",
       "      <td>25294.500000</td>\n",
       "      <td>0.000000</td>\n",
       "      <td>0.000000</td>\n",
       "    </tr>\n",
       "    <tr>\n",
       "      <th>3</th>\n",
       "      <td>151.0</td>\n",
       "      <td>0.0</td>\n",
       "      <td>13.0</td>\n",
       "      <td>46.0</td>\n",
       "      <td>172447.0</td>\n",
       "      <td>134.0</td>\n",
       "      <td>1.0</td>\n",
       "      <td>0.0</td>\n",
       "      <td>1.0</td>\n",
       "      <td>0.0</td>\n",
       "      <td>...</td>\n",
       "      <td>0.0</td>\n",
       "      <td>2706.500000</td>\n",
       "      <td>0.0000</td>\n",
       "      <td>57083.333333</td>\n",
       "      <td>0.0</td>\n",
       "      <td>341916.833333</td>\n",
       "      <td>0.000000</td>\n",
       "      <td>344417.500000</td>\n",
       "      <td>31825.250000</td>\n",
       "      <td>0.000000</td>\n",
       "    </tr>\n",
       "    <tr>\n",
       "      <th>4</th>\n",
       "      <td>170.0</td>\n",
       "      <td>0.0</td>\n",
       "      <td>13.0</td>\n",
       "      <td>46.0</td>\n",
       "      <td>805250.0</td>\n",
       "      <td>116.0</td>\n",
       "      <td>1.0</td>\n",
       "      <td>1.0</td>\n",
       "      <td>0.0</td>\n",
       "      <td>1.0</td>\n",
       "      <td>...</td>\n",
       "      <td>0.0</td>\n",
       "      <td>6227.666667</td>\n",
       "      <td>0.0000</td>\n",
       "      <td>291317.166667</td>\n",
       "      <td>0.0</td>\n",
       "      <td>291684.500000</td>\n",
       "      <td>0.000000</td>\n",
       "      <td>83849.250000</td>\n",
       "      <td>402597.666667</td>\n",
       "      <td>0.000000</td>\n",
       "    </tr>\n",
       "  </tbody>\n",
       "</table>\n",
       "<p>5 rows × 65 columns</p>\n",
       "</div>"
      ],
      "text/plain": [
       "   Subsegmento  Sexo  Region  Edad     Renta  Antiguedad  Adicional  Dualidad  \\\n",
       "0        160.0   1.0    13.0  43.0  601932.8       130.0        1.0       0.0   \n",
       "1        160.0   0.0    13.0  46.0  143640.0        69.0        0.0       0.0   \n",
       "2        170.0   0.0    13.0  45.0  929106.0        24.0        1.0       0.0   \n",
       "3        151.0   0.0    13.0  46.0  172447.0       134.0        1.0       0.0   \n",
       "4        170.0   0.0    13.0  46.0  805250.0       116.0        1.0       1.0   \n",
       "\n",
       "   Monoproducto  Ctacte  ...  ColL2AC_avg   ColL2CC_avg   ColMx_avg  \\\n",
       "0           0.0     1.0  ...          0.0  34699.666667      0.0000   \n",
       "1           0.0     1.0  ...          0.0  17597.250000  45699.2125   \n",
       "2           0.0     1.0  ...          0.0      0.000000      0.0000   \n",
       "3           1.0     0.0  ...          0.0   2706.500000      0.0000   \n",
       "4           0.0     1.0  ...          0.0   6227.666667      0.0000   \n",
       "\n",
       "     PagoNac_avg  PagoInt_avg    EeccNac_avg  EeccInt_avg      UsoL1_avg  \\\n",
       "0   29333.333333          0.0  908079.416667     0.000000  913045.583333   \n",
       "1  167416.666667          0.0  460136.500000    58.904167  428734.833333   \n",
       "2   68325.750000          0.0    8510.750000     0.000000   25294.500000   \n",
       "3   57083.333333          0.0  341916.833333     0.000000  344417.500000   \n",
       "4  291317.166667          0.0  291684.500000     0.000000   83849.250000   \n",
       "\n",
       "       UsoL2_avg  UsoLI_avg  \n",
       "0   53874.250000   0.000000  \n",
       "1  119963.916667  84.508333  \n",
       "2       0.000000   0.000000  \n",
       "3   31825.250000   0.000000  \n",
       "4  402597.666667   0.000000  \n",
       "\n",
       "[5 rows x 65 columns]"
      ]
     },
     "execution_count": 2,
     "metadata": {},
     "output_type": "execute_result"
    }
   ],
   "source": [
    "# Asignar variables objetivo\n",
    "X = cudf.DataFrame(monopoly.drop(columns=['Internauta']))\n",
    "X.head()"
   ]
  },
  {
   "cell_type": "code",
   "execution_count": 6,
   "metadata": {},
   "outputs": [
    {
     "data": {
      "text/plain": [
       "0    1.0\n",
       "1    1.0\n",
       "2    1.0\n",
       "3    0.0\n",
       "4    0.0\n",
       "Name: Internauta, dtype: float64"
      ]
     },
     "execution_count": 6,
     "metadata": {},
     "output_type": "execute_result"
    }
   ],
   "source": [
    "y = monopoly['Internauta']\n",
    "y.head()"
   ]
  },
  {
   "cell_type": "markdown",
   "metadata": {},
   "source": [
    "#### **Modelo N°1.1**"
   ]
  },
  {
   "cell_type": "code",
   "execution_count": 7,
   "metadata": {},
   "outputs": [],
   "source": [
    "from cuml.neighbors import KNeighborsClassifier\n",
    "from cuml.model_selection import train_test_split\n",
    "\n",
    "# Separación de datos de entrenamiento y prueba\n",
    "X_train, X_test, y_train, y_test = train_test_split(X, y, train_size=0.8, random_state=52)"
   ]
  },
  {
   "cell_type": "code",
   "execution_count": 8,
   "metadata": {},
   "outputs": [],
   "source": [
    "# Creación del modelo\n",
    "knn_1C = KNeighborsClassifier(n_neighbors=3)\n",
    "knn_1C = knn_1C.fit(X_train, y_train)"
   ]
  },
  {
   "cell_type": "code",
   "execution_count": 9,
   "metadata": {},
   "outputs": [],
   "source": [
    "# Estimación de Ŷ\n",
    "Y_hat = knn_1C.predict(X_test)"
   ]
  },
  {
   "cell_type": "code",
   "execution_count": 14,
   "metadata": {},
   "outputs": [
    {
     "name": "stdout",
     "output_type": "stream",
     "text": [
      "Accuracy: 0.67\n"
     ]
    }
   ],
   "source": [
    "# Evaluación del modelo\n",
    "from cuml.metrics import accuracy_score\n",
    "from cuml.metrics import precision_score\n",
    "from cuml.metrics import confusion_matrix\n",
    "\n",
    "accuracy_1C = accuracy_score(y_test, Y_hat)\n",
    "print(\"Accuracy: %.2f\" % accuracy_1C)"
   ]
  },
  {
   "cell_type": "markdown",
   "metadata": {},
   "source": [
    "#### **Modelo N°1.2**"
   ]
  },
  {
   "cell_type": "code",
   "execution_count": 6,
   "metadata": {},
   "outputs": [],
   "source": [
    "from sklearn.neighbors import KNeighborsClassifier as skKNN_C\n",
    "\n",
    "# Separación de datos en train y test\n",
    "X_train, X_test, y_train, y_test = train_test_split(X, y, train_size=0.8, random_state=52)\n",
    "\n",
    "# Creación del modelo\n",
    "knn_1_2C = skKNN_C(n_neighbors=3)\n",
    "knn_1_2C = knn_1_2C.fit(X_train, y_train)"
   ]
  },
  {
   "cell_type": "code",
   "execution_count": 7,
   "metadata": {},
   "outputs": [],
   "source": [
    "# Estimación de Ŷ (Y gorro)\n",
    "Y_hat = knn_1_2C.predict(X_test)"
   ]
  },
  {
   "cell_type": "code",
   "execution_count": 10,
   "metadata": {},
   "outputs": [
    {
     "data": {
      "image/png": "[encoded data removed]",
      "text/plain": [
       "<Figure size 432x288 with 2 Axes>"
      ]
     },
     "metadata": {
      "needs_background": "light"
     },
     "output_type": "display_data"
    }
   ],
   "source": [
    "from sklearn.metrics import confusion_matrix\n",
    "from sklearn.metrics import ConfusionMatrixDisplay\n",
    "from sklearn.metrics import classification_report\n",
    "from sklearn.metrics import f1_score\n",
    "import matplotlib.pyplot as plt\n",
    "\n",
    "#Matriz de Confusion\n",
    "matriz = confusion_matrix(y_test, Y_hat)\n",
    "\n",
    "grafico = ConfusionMatrixDisplay(confusion_matrix=matriz,display_labels=knn_1_2C.classes_)\n",
    "grafico.plot(cmap=plt.cm.Blues,values_format='g')\n",
    "plt.xlabel('Clase estimada (predicción)')\n",
    "plt.ylabel('Clase real (observación)')\n",
    "plt.show()"
   ]
  },
  {
   "cell_type": "code",
   "execution_count": 11,
   "metadata": {},
   "outputs": [
    {
     "name": "stdout",
     "output_type": "stream",
     "text": [
      "METRICAS DE DESEMPEÑO | MDL1_CF\n",
      "--------------------------------------\n",
      "Verdaderos positivos (VP): 5550\n",
      "Falsos positivos (FP): 1905\n",
      "Verdaderos negativos (VN): 1282\n",
      "Falsos negativos (FN): 1488\n",
      "--------------------------------------\n",
      "Error tipo I: 0.60\n",
      "Error tipo II: 0.21\n"
     ]
    }
   ],
   "source": [
    "VN, FP, FN, VP = matriz.ravel()\n",
    "Tasa_FP_1 = FP/(FP+VN)\n",
    "Tasa_FN_1 = FN/(FN+VP)\n",
    "\n",
    "print('METRICAS DE DESEMPEÑO | MDL1_CF')\n",
    "print(\"--------------------------------------\")\n",
    "print(f'Verdaderos positivos (VP): {VP}')\n",
    "print(f'Falsos positivos (FP): {FP}')\n",
    "print(f'Verdaderos negativos (VN): {VN}')\n",
    "print(f'Falsos negativos (FN): {FN}')\n",
    "print(\"--------------------------------------\")\n",
    "print(\"Error tipo I: %.2f\" % Tasa_FP_1)\n",
    "print(\"Error tipo II: %.2f\" % Tasa_FN_1)"
   ]
  },
  {
   "cell_type": "code",
   "execution_count": 31,
   "metadata": {},
   "outputs": [
    {
     "name": "stdout",
     "output_type": "stream",
     "text": [
      "ACCURACY: 0.67\n",
      "F1-Score: 0.80\n"
     ]
    }
   ],
   "source": [
    "#Accuracy\n",
    "SCORE_1_2 = knn_1_2C.score(X_test, y_test)\n",
    "print(\"ACCURACY: %.2f\" % SCORE_1_2)\n",
    "\n",
    "#F1-Score\n",
    "f1_1_2 = f1_score(y_test, Y_hat)\n",
    "print(\"F1-Score: %.2f\" % f1_1_2)"
   ]
  },
  {
   "cell_type": "code",
   "execution_count": 13,
   "metadata": {},
   "outputs": [
    {
     "name": "stdout",
     "output_type": "stream",
     "text": [
      "              precision    recall  f1-score   support\n",
      "\n",
      "         0.0       0.46      0.40      0.43      3187\n",
      "         1.0       0.74      0.79      0.77      7038\n",
      "\n",
      "    accuracy                           0.67     10225\n",
      "   macro avg       0.60      0.60      0.60     10225\n",
      "weighted avg       0.66      0.67      0.66     10225\n",
      "\n"
     ]
    }
   ],
   "source": [
    "#Metricas\n",
    "print(classification_report(y_test, Y_hat))"
   ]
  },
  {
   "cell_type": "markdown",
   "metadata": {},
   "source": [
    "#### **Modelo N°2.1**"
   ]
  },
  {
   "cell_type": "markdown",
   "metadata": {},
   "source": [
    "#### **Modelo N°2.2**"
   ]
  },
  {
   "cell_type": "code",
   "execution_count": 14,
   "metadata": {},
   "outputs": [],
   "source": [
    "knn_2_2C = skKNN_C(n_neighbors=9, p=1, weights='distance')\n",
    "knn_2_2C = knn_2_2C.fit(X_train, y_train)"
   ]
  },
  {
   "cell_type": "code",
   "execution_count": 15,
   "metadata": {},
   "outputs": [],
   "source": [
    "Y_hat = knn_2_2C.predict(X_test)"
   ]
  },
  {
   "cell_type": "code",
   "execution_count": 16,
   "metadata": {},
   "outputs": [
    {
     "data": {
      "image/png": "[encoded data removed]",
      "text/plain": [
       "<Figure size 432x288 with 2 Axes>"
      ]
     },
     "metadata": {
      "needs_background": "light"
     },
     "output_type": "display_data"
    }
   ],
   "source": [
    "#Matriz de Confusion\n",
    "matriz = confusion_matrix(y_test, Y_hat)\n",
    "\n",
    "grafico = ConfusionMatrixDisplay(confusion_matrix=matriz,display_labels=knn_2_2C.classes_)\n",
    "grafico.plot(cmap=plt.cm.Blues,values_format='g')\n",
    "plt.xlabel('Clase estimada (predicción)')\n",
    "plt.ylabel('Clase real (observación)')\n",
    "plt.show()"
   ]
  },
  {
   "cell_type": "code",
   "execution_count": 18,
   "metadata": {},
   "outputs": [
    {
     "name": "stdout",
     "output_type": "stream",
     "text": [
      "METRICAS DE DESEMPEÑO | MDL1_CF\n",
      "--------------------------------------\n",
      "Verdaderos positivos (VP): 5846\n",
      "Falsos positivos (FP): 1906\n",
      "Verdaderos negativos (VN): 1281\n",
      "Falsos negativos (FN): 1192\n",
      "--------------------------------------\n",
      "Error tipo I: 0.60\n",
      "Error tipo II: 0.17\n"
     ]
    }
   ],
   "source": [
    "VN, FP, FN, VP = matriz.ravel()\n",
    "Tasa_FP_2 = FP/(FP+VN)\n",
    "Tasa_FN_2 = FN/(FN+VP)\n",
    "\n",
    "print('METRICAS DE DESEMPEÑO | MDL1_CF')\n",
    "print(\"--------------------------------------\")\n",
    "print(f'Verdaderos positivos (VP): {VP}')\n",
    "print(f'Falsos positivos (FP): {FP}')\n",
    "print(f'Verdaderos negativos (VN): {VN}')\n",
    "print(f'Falsos negativos (FN): {FN}')\n",
    "print(\"--------------------------------------\")\n",
    "print(\"Error tipo I: %.2f\" % Tasa_FP_2)\n",
    "print(\"Error tipo II: %.2f\" % Tasa_FN_2)"
   ]
  },
  {
   "cell_type": "code",
   "execution_count": 32,
   "metadata": {},
   "outputs": [
    {
     "name": "stdout",
     "output_type": "stream",
     "text": [
      "ACCURACY: 0.70\n",
      "F1-Score: 0.80\n"
     ]
    }
   ],
   "source": [
    "#Accuracy\n",
    "SCORE_2_2 = knn_2_2C.score(X_test, y_test)\n",
    "print(\"ACCURACY: %.2f\" % SCORE_2_2)\n",
    "\n",
    "#F1-Score\n",
    "f1_2_2 = f1_score(y_test, Y_hat)\n",
    "print(\"F1-Score: %.2f\" % f1_2_2)"
   ]
  },
  {
   "cell_type": "code",
   "execution_count": 19,
   "metadata": {},
   "outputs": [
    {
     "name": "stdout",
     "output_type": "stream",
     "text": [
      "              precision    recall  f1-score   support\n",
      "\n",
      "         0.0       0.52      0.40      0.45      3187\n",
      "         1.0       0.75      0.83      0.79      7038\n",
      "\n",
      "    accuracy                           0.70     10225\n",
      "   macro avg       0.64      0.62      0.62     10225\n",
      "weighted avg       0.68      0.70      0.69     10225\n",
      "\n"
     ]
    }
   ],
   "source": [
    "print(classification_report(y_test, Y_hat))"
   ]
  },
  {
   "cell_type": "markdown",
   "metadata": {},
   "source": [
    "#### **Modelo N°3**"
   ]
  },
  {
   "cell_type": "code",
   "execution_count": 20,
   "metadata": {},
   "outputs": [],
   "source": [
    "knn_3C = skKNN_C(n_neighbors=12, p=3, weights='distance', algorithm='brute')\n",
    "knn_3C = knn_3C.fit(X_train, y_train)"
   ]
  },
  {
   "cell_type": "code",
   "execution_count": 21,
   "metadata": {},
   "outputs": [],
   "source": [
    "Y_hat = knn_3C.predict(X_test)"
   ]
  },
  {
   "cell_type": "code",
   "execution_count": 22,
   "metadata": {},
   "outputs": [
    {
     "data": {
      "image/png": "[encoded data removed]",
      "text/plain": [
       "<Figure size 432x288 with 2 Axes>"
      ]
     },
     "metadata": {
      "needs_background": "light"
     },
     "output_type": "display_data"
    }
   ],
   "source": [
    "#Matriz de Confusion\n",
    "matriz = confusion_matrix(y_test, Y_hat)\n",
    "\n",
    "grafico = ConfusionMatrixDisplay(confusion_matrix=matriz,display_labels=knn_3C.classes_)\n",
    "grafico.plot(cmap=plt.cm.Blues,values_format='g')\n",
    "plt.xlabel('Clase estimada (predicción)')\n",
    "plt.ylabel('Clase real (observación)')\n",
    "plt.show()"
   ]
  },
  {
   "cell_type": "code",
   "execution_count": 23,
   "metadata": {},
   "outputs": [
    {
     "name": "stdout",
     "output_type": "stream",
     "text": [
      "Verdaderos positivos (VP): 6083\n",
      "Falsos positivos (FP): 2086\n",
      "Verdaderos negativos (VN): 1101\n",
      "Falsos negativos (FN): 955\n"
     ]
    }
   ],
   "source": [
    "VN, FP, FN, VP = matriz.ravel()\n",
    "print(f'Verdaderos positivos (VP): {VP}')\n",
    "print(f'Falsos positivos (FP): {FP}')\n",
    "print(f'Verdaderos negativos (VN): {VN}')\n",
    "print(f'Falsos negativos (FN): {FN}')"
   ]
  },
  {
   "cell_type": "code",
   "execution_count": 24,
   "metadata": {},
   "outputs": [
    {
     "name": "stdout",
     "output_type": "stream",
     "text": [
      "Error tipo I: 0.65\n",
      "Error tipo II: 0.14\n"
     ]
    }
   ],
   "source": [
    "#Tasa de error\n",
    "Tasa_FP_3 = FP/(FP+VN)\n",
    "Tasa_FN_3 = FN/(FN+VP)\n",
    "\n",
    "print(\"Error tipo I: %.2f\" % Tasa_FP_3)\n",
    "print(\"Error tipo II: %.2f\" % Tasa_FN_3)"
   ]
  },
  {
   "cell_type": "code",
   "execution_count": 34,
   "metadata": {},
   "outputs": [],
   "source": [
    "#Accuracy\n",
    "SCORE_3 = knn_3C.score(X_test, y_test)\n",
    "print(\"ACCURACY: %.2f\" % SCORE_3)\n",
    "\n",
    "#F1-Score\n",
    "f1_3 = f1_score(y_test, Y_hat)\n",
    "print(\"F1-Score: %.2f\" % f1_3)"
   ]
  },
  {
   "cell_type": "code",
   "execution_count": 26,
   "metadata": {},
   "outputs": [
    {
     "name": "stdout",
     "output_type": "stream",
     "text": [
      "              precision    recall  f1-score   support\n",
      "\n",
      "         0.0       0.54      0.35      0.42      3187\n",
      "         1.0       0.74      0.86      0.80      7038\n",
      "\n",
      "    accuracy                           0.70     10225\n",
      "   macro avg       0.64      0.60      0.61     10225\n",
      "weighted avg       0.68      0.70      0.68     10225\n",
      "\n"
     ]
    }
   ],
   "source": [
    "#Metricas\n",
    "print(classification_report(y_test, Y_hat))"
   ]
  },
  {
   "cell_type": "markdown",
   "metadata": {},
   "source": [
    "#### **Modelo N°4**"
   ]
  },
  {
   "cell_type": "code",
   "execution_count": 30,
   "metadata": {},
   "outputs": [
    {
     "ename": "KeyboardInterrupt",
     "evalue": "",
     "output_type": "error",
     "traceback": [
      "\u001b[0;31m---------------------------------------------------------------------------\u001b[0m",
      "\u001b[0;31mKeyboardInterrupt\u001b[0m                         Traceback (most recent call last)",
      "\u001b[1;32m/home/dash/Documents/Code/MachineLearning-003D/modelling.ipynb Cell 90\u001b[0m line \u001b[0;36m1\n\u001b[1;32m     <a href='vscode-notebook-cell:/home/dash/Documents/Code/MachineLearning-003D/modelling.ipynb#Y251sZmlsZQ%3D%3D?line=12'>13</a>\u001b[0m \u001b[39m# Realizar la búsqueda en cuadrícula\u001b[39;00m\n\u001b[1;32m     <a href='vscode-notebook-cell:/home/dash/Documents/Code/MachineLearning-003D/modelling.ipynb#Y251sZmlsZQ%3D%3D?line=13'>14</a>\u001b[0m grid_search \u001b[39m=\u001b[39m GridSearchCV(estimator\u001b[39m=\u001b[39mknn_C, param_grid\u001b[39m=\u001b[39mparam_grid, scoring\u001b[39m=\u001b[39m\u001b[39m'\u001b[39m\u001b[39mf1\u001b[39m\u001b[39m'\u001b[39m, cv\u001b[39m=\u001b[39m\u001b[39m3\u001b[39m, n_jobs\u001b[39m=\u001b[39m\u001b[39m-\u001b[39m\u001b[39m1\u001b[39m)\n\u001b[0;32m---> <a href='vscode-notebook-cell:/home/dash/Documents/Code/MachineLearning-003D/modelling.ipynb#Y251sZmlsZQ%3D%3D?line=14'>15</a>\u001b[0m grid_search\u001b[39m.\u001b[39;49mfit(X_train, y_train)\n\u001b[1;32m     <a href='vscode-notebook-cell:/home/dash/Documents/Code/MachineLearning-003D/modelling.ipynb#Y251sZmlsZQ%3D%3D?line=16'>17</a>\u001b[0m \u001b[39m# Obtener los mejores hiperparámetros\u001b[39;00m\n\u001b[1;32m     <a href='vscode-notebook-cell:/home/dash/Documents/Code/MachineLearning-003D/modelling.ipynb#Y251sZmlsZQ%3D%3D?line=17'>18</a>\u001b[0m best_params \u001b[39m=\u001b[39m grid_search\u001b[39m.\u001b[39mbest_params_\n",
      "File \u001b[0;32m~/Documents/Code/MachineLearning-003D/env/lib64/python3.11/site-packages/sklearn/base.py:1152\u001b[0m, in \u001b[0;36m_fit_context.<locals>.decorator.<locals>.wrapper\u001b[0;34m(estimator, *args, **kwargs)\u001b[0m\n\u001b[1;32m   1145\u001b[0m     estimator\u001b[39m.\u001b[39m_validate_params()\n\u001b[1;32m   1147\u001b[0m \u001b[39mwith\u001b[39;00m config_context(\n\u001b[1;32m   1148\u001b[0m     skip_parameter_validation\u001b[39m=\u001b[39m(\n\u001b[1;32m   1149\u001b[0m         prefer_skip_nested_validation \u001b[39mor\u001b[39;00m global_skip_validation\n\u001b[1;32m   1150\u001b[0m     )\n\u001b[1;32m   1151\u001b[0m ):\n\u001b[0;32m-> 1152\u001b[0m     \u001b[39mreturn\u001b[39;00m fit_method(estimator, \u001b[39m*\u001b[39;49margs, \u001b[39m*\u001b[39;49m\u001b[39m*\u001b[39;49mkwargs)\n",
      "File \u001b[0;32m~/Documents/Code/MachineLearning-003D/env/lib64/python3.11/site-packages/sklearn/model_selection/_search.py:898\u001b[0m, in \u001b[0;36mBaseSearchCV.fit\u001b[0;34m(self, X, y, groups, **fit_params)\u001b[0m\n\u001b[1;32m    892\u001b[0m     results \u001b[39m=\u001b[39m \u001b[39mself\u001b[39m\u001b[39m.\u001b[39m_format_results(\n\u001b[1;32m    893\u001b[0m         all_candidate_params, n_splits, all_out, all_more_results\n\u001b[1;32m    894\u001b[0m     )\n\u001b[1;32m    896\u001b[0m     \u001b[39mreturn\u001b[39;00m results\n\u001b[0;32m--> 898\u001b[0m \u001b[39mself\u001b[39;49m\u001b[39m.\u001b[39;49m_run_search(evaluate_candidates)\n\u001b[1;32m    900\u001b[0m \u001b[39m# multimetric is determined here because in the case of a callable\u001b[39;00m\n\u001b[1;32m    901\u001b[0m \u001b[39m# self.scoring the return type is only known after calling\u001b[39;00m\n\u001b[1;32m    902\u001b[0m first_test_score \u001b[39m=\u001b[39m all_out[\u001b[39m0\u001b[39m][\u001b[39m\"\u001b[39m\u001b[39mtest_scores\u001b[39m\u001b[39m\"\u001b[39m]\n",
      "File \u001b[0;32m~/Documents/Code/MachineLearning-003D/env/lib64/python3.11/site-packages/sklearn/model_selection/_search.py:1422\u001b[0m, in \u001b[0;36mGridSearchCV._run_search\u001b[0;34m(self, evaluate_candidates)\u001b[0m\n\u001b[1;32m   1420\u001b[0m \u001b[39mdef\u001b[39;00m \u001b[39m_run_search\u001b[39m(\u001b[39mself\u001b[39m, evaluate_candidates):\n\u001b[1;32m   1421\u001b[0m \u001b[39m    \u001b[39m\u001b[39m\"\"\"Search all candidates in param_grid\"\"\"\u001b[39;00m\n\u001b[0;32m-> 1422\u001b[0m     evaluate_candidates(ParameterGrid(\u001b[39mself\u001b[39;49m\u001b[39m.\u001b[39;49mparam_grid))\n",
      "File \u001b[0;32m~/Documents/Code/MachineLearning-003D/env/lib64/python3.11/site-packages/sklearn/model_selection/_search.py:845\u001b[0m, in \u001b[0;36mBaseSearchCV.fit.<locals>.evaluate_candidates\u001b[0;34m(candidate_params, cv, more_results)\u001b[0m\n\u001b[1;32m    837\u001b[0m \u001b[39mif\u001b[39;00m \u001b[39mself\u001b[39m\u001b[39m.\u001b[39mverbose \u001b[39m>\u001b[39m \u001b[39m0\u001b[39m:\n\u001b[1;32m    838\u001b[0m     \u001b[39mprint\u001b[39m(\n\u001b[1;32m    839\u001b[0m         \u001b[39m\"\u001b[39m\u001b[39mFitting \u001b[39m\u001b[39m{0}\u001b[39;00m\u001b[39m folds for each of \u001b[39m\u001b[39m{1}\u001b[39;00m\u001b[39m candidates,\u001b[39m\u001b[39m\"\u001b[39m\n\u001b[1;32m    840\u001b[0m         \u001b[39m\"\u001b[39m\u001b[39m totalling \u001b[39m\u001b[39m{2}\u001b[39;00m\u001b[39m fits\u001b[39m\u001b[39m\"\u001b[39m\u001b[39m.\u001b[39mformat(\n\u001b[1;32m    841\u001b[0m             n_splits, n_candidates, n_candidates \u001b[39m*\u001b[39m n_splits\n\u001b[1;32m    842\u001b[0m         )\n\u001b[1;32m    843\u001b[0m     )\n\u001b[0;32m--> 845\u001b[0m out \u001b[39m=\u001b[39m parallel(\n\u001b[1;32m    846\u001b[0m     delayed(_fit_and_score)(\n\u001b[1;32m    847\u001b[0m         clone(base_estimator),\n\u001b[1;32m    848\u001b[0m         X,\n\u001b[1;32m    849\u001b[0m         y,\n\u001b[1;32m    850\u001b[0m         train\u001b[39m=\u001b[39;49mtrain,\n\u001b[1;32m    851\u001b[0m         test\u001b[39m=\u001b[39;49mtest,\n\u001b[1;32m    852\u001b[0m         parameters\u001b[39m=\u001b[39;49mparameters,\n\u001b[1;32m    853\u001b[0m         split_progress\u001b[39m=\u001b[39;49m(split_idx, n_splits),\n\u001b[1;32m    854\u001b[0m         candidate_progress\u001b[39m=\u001b[39;49m(cand_idx, n_candidates),\n\u001b[1;32m    855\u001b[0m         \u001b[39m*\u001b[39;49m\u001b[39m*\u001b[39;49mfit_and_score_kwargs,\n\u001b[1;32m    856\u001b[0m     )\n\u001b[1;32m    857\u001b[0m     \u001b[39mfor\u001b[39;49;00m (cand_idx, parameters), (split_idx, (train, test)) \u001b[39min\u001b[39;49;00m product(\n\u001b[1;32m    858\u001b[0m         \u001b[39menumerate\u001b[39;49m(candidate_params), \u001b[39menumerate\u001b[39;49m(cv\u001b[39m.\u001b[39;49msplit(X, y, groups))\n\u001b[1;32m    859\u001b[0m     )\n\u001b[1;32m    860\u001b[0m )\n\u001b[1;32m    862\u001b[0m \u001b[39mif\u001b[39;00m \u001b[39mlen\u001b[39m(out) \u001b[39m<\u001b[39m \u001b[39m1\u001b[39m:\n\u001b[1;32m    863\u001b[0m     \u001b[39mraise\u001b[39;00m \u001b[39mValueError\u001b[39;00m(\n\u001b[1;32m    864\u001b[0m         \u001b[39m\"\u001b[39m\u001b[39mNo fits were performed. \u001b[39m\u001b[39m\"\u001b[39m\n\u001b[1;32m    865\u001b[0m         \u001b[39m\"\u001b[39m\u001b[39mWas the CV iterator empty? \u001b[39m\u001b[39m\"\u001b[39m\n\u001b[1;32m    866\u001b[0m         \u001b[39m\"\u001b[39m\u001b[39mWere there no candidates?\u001b[39m\u001b[39m\"\u001b[39m\n\u001b[1;32m    867\u001b[0m     )\n",
      "File \u001b[0;32m~/Documents/Code/MachineLearning-003D/env/lib64/python3.11/site-packages/sklearn/utils/parallel.py:65\u001b[0m, in \u001b[0;36mParallel.__call__\u001b[0;34m(self, iterable)\u001b[0m\n\u001b[1;32m     60\u001b[0m config \u001b[39m=\u001b[39m get_config()\n\u001b[1;32m     61\u001b[0m iterable_with_config \u001b[39m=\u001b[39m (\n\u001b[1;32m     62\u001b[0m     (_with_config(delayed_func, config), args, kwargs)\n\u001b[1;32m     63\u001b[0m     \u001b[39mfor\u001b[39;00m delayed_func, args, kwargs \u001b[39min\u001b[39;00m iterable\n\u001b[1;32m     64\u001b[0m )\n\u001b[0;32m---> 65\u001b[0m \u001b[39mreturn\u001b[39;00m \u001b[39msuper\u001b[39;49m()\u001b[39m.\u001b[39;49m\u001b[39m__call__\u001b[39;49m(iterable_with_config)\n",
      "File \u001b[0;32m~/Documents/Code/MachineLearning-003D/env/lib64/python3.11/site-packages/joblib/parallel.py:1952\u001b[0m, in \u001b[0;36mParallel.__call__\u001b[0;34m(self, iterable)\u001b[0m\n\u001b[1;32m   1946\u001b[0m \u001b[39m# The first item from the output is blank, but it makes the interpreter\u001b[39;00m\n\u001b[1;32m   1947\u001b[0m \u001b[39m# progress until it enters the Try/Except block of the generator and\u001b[39;00m\n\u001b[1;32m   1948\u001b[0m \u001b[39m# reach the first `yield` statement. This starts the aynchronous\u001b[39;00m\n\u001b[1;32m   1949\u001b[0m \u001b[39m# dispatch of the tasks to the workers.\u001b[39;00m\n\u001b[1;32m   1950\u001b[0m \u001b[39mnext\u001b[39m(output)\n\u001b[0;32m-> 1952\u001b[0m \u001b[39mreturn\u001b[39;00m output \u001b[39mif\u001b[39;00m \u001b[39mself\u001b[39m\u001b[39m.\u001b[39mreturn_generator \u001b[39melse\u001b[39;00m \u001b[39mlist\u001b[39;49m(output)\n",
      "File \u001b[0;32m~/Documents/Code/MachineLearning-003D/env/lib64/python3.11/site-packages/joblib/parallel.py:1595\u001b[0m, in \u001b[0;36mParallel._get_outputs\u001b[0;34m(self, iterator, pre_dispatch)\u001b[0m\n\u001b[1;32m   1592\u001b[0m     \u001b[39myield\u001b[39;00m\n\u001b[1;32m   1594\u001b[0m     \u001b[39mwith\u001b[39;00m \u001b[39mself\u001b[39m\u001b[39m.\u001b[39m_backend\u001b[39m.\u001b[39mretrieval_context():\n\u001b[0;32m-> 1595\u001b[0m         \u001b[39myield from\u001b[39;00m \u001b[39mself\u001b[39m\u001b[39m.\u001b[39m_retrieve()\n\u001b[1;32m   1597\u001b[0m \u001b[39mexcept\u001b[39;00m \u001b[39mGeneratorExit\u001b[39;00m:\n\u001b[1;32m   1598\u001b[0m     \u001b[39m# The generator has been garbage collected before being fully\u001b[39;00m\n\u001b[1;32m   1599\u001b[0m     \u001b[39m# consumed. This aborts the remaining tasks if possible and warn\u001b[39;00m\n\u001b[1;32m   1600\u001b[0m     \u001b[39m# the user if necessary.\u001b[39;00m\n\u001b[1;32m   1601\u001b[0m     \u001b[39mself\u001b[39m\u001b[39m.\u001b[39m_exception \u001b[39m=\u001b[39m \u001b[39mTrue\u001b[39;00m\n",
      "File \u001b[0;32m~/Documents/Code/MachineLearning-003D/env/lib64/python3.11/site-packages/joblib/parallel.py:1707\u001b[0m, in \u001b[0;36mParallel._retrieve\u001b[0;34m(self)\u001b[0m\n\u001b[1;32m   1702\u001b[0m \u001b[39m# If the next job is not ready for retrieval yet, we just wait for\u001b[39;00m\n\u001b[1;32m   1703\u001b[0m \u001b[39m# async callbacks to progress.\u001b[39;00m\n\u001b[1;32m   1704\u001b[0m \u001b[39mif\u001b[39;00m ((\u001b[39mlen\u001b[39m(\u001b[39mself\u001b[39m\u001b[39m.\u001b[39m_jobs) \u001b[39m==\u001b[39m \u001b[39m0\u001b[39m) \u001b[39mor\u001b[39;00m\n\u001b[1;32m   1705\u001b[0m     (\u001b[39mself\u001b[39m\u001b[39m.\u001b[39m_jobs[\u001b[39m0\u001b[39m]\u001b[39m.\u001b[39mget_status(\n\u001b[1;32m   1706\u001b[0m         timeout\u001b[39m=\u001b[39m\u001b[39mself\u001b[39m\u001b[39m.\u001b[39mtimeout) \u001b[39m==\u001b[39m TASK_PENDING)):\n\u001b[0;32m-> 1707\u001b[0m     time\u001b[39m.\u001b[39msleep(\u001b[39m0.01\u001b[39m)\n\u001b[1;32m   1708\u001b[0m     \u001b[39mcontinue\u001b[39;00m\n\u001b[1;32m   1710\u001b[0m \u001b[39m# We need to be careful: the job list can be filling up as\u001b[39;00m\n\u001b[1;32m   1711\u001b[0m \u001b[39m# we empty it and Python list are not thread-safe by\u001b[39;00m\n\u001b[1;32m   1712\u001b[0m \u001b[39m# default hence the use of the lock\u001b[39;00m\n",
      "\u001b[0;31mKeyboardInterrupt\u001b[0m: "
     ]
    }
   ],
   "source": [
    "from sklearn.model_selection import GridSearchCV\n",
    "\n",
    "# Definir la lista de hiperparámetros a probar\n",
    "param_grid = {\n",
    "    'n_neighbors': [2, 3, 5],  # Valores de K\n",
    "    'p': [1,2,3],\n",
    "    'algorithm':['auto']\n",
    "}\n",
    "\n",
    "# Crear el modelo KNN\n",
    "knn_C = skKNN_C(weights='distance')\n",
    "\n",
    "# Realizar la búsqueda en cuadrícula\n",
    "grid_search = GridSearchCV(estimator=knn_C, param_grid=param_grid, scoring='f1', cv=3, n_jobs=-1)\n",
    "grid_search.fit(X_train, y_train)\n",
    "\n",
    "# Obtener los mejores hiperparámetros\n",
    "best_params = grid_search.best_params_\n",
    "best_params"
   ]
  },
  {
   "cell_type": "code",
   "execution_count": null,
   "metadata": {},
   "outputs": [],
   "source": [
    "knn_C.fit(X_train)"
   ]
  },
  {
   "cell_type": "code",
   "execution_count": null,
   "metadata": {},
   "outputs": [],
   "source": [
    "tabla = pd.DataFrame({'Métrica':['Error Tipo I:','Error Tipo II:','Accuracy:','F1-Score'],\n",
    "                      'Modelo 1':[Tasa_FP_1,Tasa_FN_1,SCORE_1_2,f1_1_2],\n",
    "                      'Modelo 2':[Tasa_FP_2,Tasa_FN_2,SCORE_2_2,f1_2_2],\n",
    "                      'Modelo 3':[Tasa_FP_3,Tasa_FN_3,SCORE_3,f1_3],\n",
    "                    })\n",
    "# Tabla resultante\n",
    "tabla"
   ]
  }
 ],
 "metadata": {
  "kernelspec": {
   "display_name": "env",
   "language": "python",
   "name": "python3"
  },
  "language_info": {
   "codemirror_mode": {
    "name": "ipython",
    "version": 3
   },
   "file_extension": ".py",
   "mimetype": "text/x-python",
   "name": "python",
   "nbconvert_exporter": "python",
   "pygments_lexer": "ipython3",
   "version": "3.10.13"
  }
 },
 "nbformat": 4,
 "nbformat_minor": 2
}

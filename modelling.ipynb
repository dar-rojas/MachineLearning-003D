{
 "cells": [
  {
   "cell_type": "markdown",
   "metadata": {},
   "source": [
    "## **FASE IV: MODELADO**"
   ]
  },
  {
   "cell_type": "markdown",
   "metadata": {},
   "source": [
    "### **KNN (K-Nearest Neighbors, Regresión)**"
   ]
  },
  {
   "cell_type": "code",
   "execution_count": 26,
   "metadata": {},
   "outputs": [],
   "source": [
    "# Librerías de Nvidia para procesamiento con GPU\n",
    "import cudf\n",
    "\n",
    "# Carga de parquet preprocesado\n",
    "path = 'monopoly_cleaned_parquet'\n",
    "monopoly = cudf.read_parquet(path)"
   ]
  },
  {
   "cell_type": "code",
   "execution_count": 27,
   "metadata": {},
   "outputs": [
    {
     "data": {
      "text/html": [
       "<div>\n",
       "<style scoped>\n",
       "    .dataframe tbody tr th:only-of-type {\n",
       "        vertical-align: middle;\n",
       "    }\n",
       "\n",
       "    .dataframe tbody tr th {\n",
       "        vertical-align: top;\n",
       "    }\n",
       "\n",
       "    .dataframe thead th {\n",
       "        text-align: right;\n",
       "    }\n",
       "</style>\n",
       "<table border=\"1\" class=\"dataframe\">\n",
       "  <thead>\n",
       "    <tr style=\"text-align: right;\">\n",
       "      <th></th>\n",
       "      <th>Subsegmento</th>\n",
       "      <th>Sexo</th>\n",
       "      <th>Region</th>\n",
       "      <th>Edad</th>\n",
       "      <th>Renta</th>\n",
       "      <th>Antiguedad</th>\n",
       "      <th>Internauta</th>\n",
       "      <th>Adicional</th>\n",
       "      <th>Dualidad</th>\n",
       "      <th>Monoproducto</th>\n",
       "      <th>...</th>\n",
       "      <th>ColL2AC_avg</th>\n",
       "      <th>ColL2CC_avg</th>\n",
       "      <th>ColMx_avg</th>\n",
       "      <th>PagoNac_avg</th>\n",
       "      <th>PagoInt_avg</th>\n",
       "      <th>EeccNac_avg</th>\n",
       "      <th>EeccInt_avg</th>\n",
       "      <th>UsoL1_avg</th>\n",
       "      <th>UsoL2_avg</th>\n",
       "      <th>UsoLI_avg</th>\n",
       "    </tr>\n",
       "  </thead>\n",
       "  <tbody>\n",
       "    <tr>\n",
       "      <th>0</th>\n",
       "      <td>160.0</td>\n",
       "      <td>1.0</td>\n",
       "      <td>13.0</td>\n",
       "      <td>43.0</td>\n",
       "      <td>601932.8</td>\n",
       "      <td>130.0</td>\n",
       "      <td>1.0</td>\n",
       "      <td>1.0</td>\n",
       "      <td>0.0</td>\n",
       "      <td>0.0</td>\n",
       "      <td>...</td>\n",
       "      <td>0.0</td>\n",
       "      <td>34699.666667</td>\n",
       "      <td>0.0000</td>\n",
       "      <td>29333.333333</td>\n",
       "      <td>0.0</td>\n",
       "      <td>908079.416667</td>\n",
       "      <td>0.000000</td>\n",
       "      <td>913045.583333</td>\n",
       "      <td>53874.250000</td>\n",
       "      <td>0.000000</td>\n",
       "    </tr>\n",
       "    <tr>\n",
       "      <th>1</th>\n",
       "      <td>160.0</td>\n",
       "      <td>0.0</td>\n",
       "      <td>13.0</td>\n",
       "      <td>46.0</td>\n",
       "      <td>143640.0</td>\n",
       "      <td>69.0</td>\n",
       "      <td>1.0</td>\n",
       "      <td>0.0</td>\n",
       "      <td>0.0</td>\n",
       "      <td>0.0</td>\n",
       "      <td>...</td>\n",
       "      <td>0.0</td>\n",
       "      <td>17597.250000</td>\n",
       "      <td>45699.2125</td>\n",
       "      <td>167416.666667</td>\n",
       "      <td>0.0</td>\n",
       "      <td>460136.500000</td>\n",
       "      <td>58.904167</td>\n",
       "      <td>428734.833333</td>\n",
       "      <td>119963.916667</td>\n",
       "      <td>84.508333</td>\n",
       "    </tr>\n",
       "    <tr>\n",
       "      <th>2</th>\n",
       "      <td>170.0</td>\n",
       "      <td>0.0</td>\n",
       "      <td>13.0</td>\n",
       "      <td>45.0</td>\n",
       "      <td>929106.0</td>\n",
       "      <td>24.0</td>\n",
       "      <td>1.0</td>\n",
       "      <td>1.0</td>\n",
       "      <td>0.0</td>\n",
       "      <td>0.0</td>\n",
       "      <td>...</td>\n",
       "      <td>0.0</td>\n",
       "      <td>0.000000</td>\n",
       "      <td>0.0000</td>\n",
       "      <td>68325.750000</td>\n",
       "      <td>0.0</td>\n",
       "      <td>8510.750000</td>\n",
       "      <td>0.000000</td>\n",
       "      <td>25294.500000</td>\n",
       "      <td>0.000000</td>\n",
       "      <td>0.000000</td>\n",
       "    </tr>\n",
       "    <tr>\n",
       "      <th>3</th>\n",
       "      <td>151.0</td>\n",
       "      <td>0.0</td>\n",
       "      <td>13.0</td>\n",
       "      <td>46.0</td>\n",
       "      <td>172447.0</td>\n",
       "      <td>134.0</td>\n",
       "      <td>0.0</td>\n",
       "      <td>1.0</td>\n",
       "      <td>0.0</td>\n",
       "      <td>1.0</td>\n",
       "      <td>...</td>\n",
       "      <td>0.0</td>\n",
       "      <td>2706.500000</td>\n",
       "      <td>0.0000</td>\n",
       "      <td>57083.333333</td>\n",
       "      <td>0.0</td>\n",
       "      <td>341916.833333</td>\n",
       "      <td>0.000000</td>\n",
       "      <td>344417.500000</td>\n",
       "      <td>31825.250000</td>\n",
       "      <td>0.000000</td>\n",
       "    </tr>\n",
       "    <tr>\n",
       "      <th>4</th>\n",
       "      <td>170.0</td>\n",
       "      <td>0.0</td>\n",
       "      <td>13.0</td>\n",
       "      <td>46.0</td>\n",
       "      <td>805250.0</td>\n",
       "      <td>116.0</td>\n",
       "      <td>0.0</td>\n",
       "      <td>1.0</td>\n",
       "      <td>1.0</td>\n",
       "      <td>0.0</td>\n",
       "      <td>...</td>\n",
       "      <td>0.0</td>\n",
       "      <td>6227.666667</td>\n",
       "      <td>0.0000</td>\n",
       "      <td>291317.166667</td>\n",
       "      <td>0.0</td>\n",
       "      <td>291684.500000</td>\n",
       "      <td>0.000000</td>\n",
       "      <td>83849.250000</td>\n",
       "      <td>402597.666667</td>\n",
       "      <td>0.000000</td>\n",
       "    </tr>\n",
       "  </tbody>\n",
       "</table>\n",
       "<p>5 rows × 66 columns</p>\n",
       "</div>"
      ],
      "text/plain": [
       "   Subsegmento  Sexo  Region  Edad     Renta  Antiguedad  Internauta  \\\n",
       "0        160.0   1.0    13.0  43.0  601932.8       130.0         1.0   \n",
       "1        160.0   0.0    13.0  46.0  143640.0        69.0         1.0   \n",
       "2        170.0   0.0    13.0  45.0  929106.0        24.0         1.0   \n",
       "3        151.0   0.0    13.0  46.0  172447.0       134.0         0.0   \n",
       "4        170.0   0.0    13.0  46.0  805250.0       116.0         0.0   \n",
       "\n",
       "   Adicional  Dualidad  Monoproducto  ...  ColL2AC_avg   ColL2CC_avg  \\\n",
       "0        1.0       0.0           0.0  ...          0.0  34699.666667   \n",
       "1        0.0       0.0           0.0  ...          0.0  17597.250000   \n",
       "2        1.0       0.0           0.0  ...          0.0      0.000000   \n",
       "3        1.0       0.0           1.0  ...          0.0   2706.500000   \n",
       "4        1.0       1.0           0.0  ...          0.0   6227.666667   \n",
       "\n",
       "    ColMx_avg    PagoNac_avg  PagoInt_avg    EeccNac_avg  EeccInt_avg  \\\n",
       "0      0.0000   29333.333333          0.0  908079.416667     0.000000   \n",
       "1  45699.2125  167416.666667          0.0  460136.500000    58.904167   \n",
       "2      0.0000   68325.750000          0.0    8510.750000     0.000000   \n",
       "3      0.0000   57083.333333          0.0  341916.833333     0.000000   \n",
       "4      0.0000  291317.166667          0.0  291684.500000     0.000000   \n",
       "\n",
       "       UsoL1_avg      UsoL2_avg  UsoLI_avg  \n",
       "0  913045.583333   53874.250000   0.000000  \n",
       "1  428734.833333  119963.916667  84.508333  \n",
       "2   25294.500000       0.000000   0.000000  \n",
       "3  344417.500000   31825.250000   0.000000  \n",
       "4   83849.250000  402597.666667   0.000000  \n",
       "\n",
       "[5 rows x 66 columns]"
      ]
     },
     "execution_count": 27,
     "metadata": {},
     "output_type": "execute_result"
    }
   ],
   "source": [
    "monopoly.head()"
   ]
  },
  {
   "cell_type": "code",
   "execution_count": 28,
   "metadata": {},
   "outputs": [
    {
     "data": {
      "text/html": [
       "<div>\n",
       "<style scoped>\n",
       "    .dataframe tbody tr th:only-of-type {\n",
       "        vertical-align: middle;\n",
       "    }\n",
       "\n",
       "    .dataframe tbody tr th {\n",
       "        vertical-align: top;\n",
       "    }\n",
       "\n",
       "    .dataframe thead th {\n",
       "        text-align: right;\n",
       "    }\n",
       "</style>\n",
       "<table border=\"1\" class=\"dataframe\">\n",
       "  <thead>\n",
       "    <tr style=\"text-align: right;\">\n",
       "      <th></th>\n",
       "      <th>Subsegmento</th>\n",
       "      <th>Sexo</th>\n",
       "      <th>Region</th>\n",
       "      <th>Edad</th>\n",
       "      <th>Antiguedad</th>\n",
       "      <th>Internauta</th>\n",
       "      <th>Adicional</th>\n",
       "      <th>Dualidad</th>\n",
       "      <th>Monoproducto</th>\n",
       "      <th>Ctacte</th>\n",
       "      <th>...</th>\n",
       "      <th>ColL2AC_avg</th>\n",
       "      <th>ColL2CC_avg</th>\n",
       "      <th>ColMx_avg</th>\n",
       "      <th>PagoNac_avg</th>\n",
       "      <th>PagoInt_avg</th>\n",
       "      <th>EeccNac_avg</th>\n",
       "      <th>EeccInt_avg</th>\n",
       "      <th>UsoL1_avg</th>\n",
       "      <th>UsoL2_avg</th>\n",
       "      <th>UsoLI_avg</th>\n",
       "    </tr>\n",
       "  </thead>\n",
       "  <tbody>\n",
       "    <tr>\n",
       "      <th>0</th>\n",
       "      <td>160.0</td>\n",
       "      <td>1.0</td>\n",
       "      <td>13.0</td>\n",
       "      <td>43.0</td>\n",
       "      <td>130.0</td>\n",
       "      <td>1.0</td>\n",
       "      <td>1.0</td>\n",
       "      <td>0.0</td>\n",
       "      <td>0.0</td>\n",
       "      <td>1.0</td>\n",
       "      <td>...</td>\n",
       "      <td>0.0</td>\n",
       "      <td>34699.666667</td>\n",
       "      <td>0.0000</td>\n",
       "      <td>29333.333333</td>\n",
       "      <td>0.0</td>\n",
       "      <td>908079.416667</td>\n",
       "      <td>0.000000</td>\n",
       "      <td>913045.583333</td>\n",
       "      <td>53874.250000</td>\n",
       "      <td>0.000000</td>\n",
       "    </tr>\n",
       "    <tr>\n",
       "      <th>1</th>\n",
       "      <td>160.0</td>\n",
       "      <td>0.0</td>\n",
       "      <td>13.0</td>\n",
       "      <td>46.0</td>\n",
       "      <td>69.0</td>\n",
       "      <td>1.0</td>\n",
       "      <td>0.0</td>\n",
       "      <td>0.0</td>\n",
       "      <td>0.0</td>\n",
       "      <td>1.0</td>\n",
       "      <td>...</td>\n",
       "      <td>0.0</td>\n",
       "      <td>17597.250000</td>\n",
       "      <td>45699.2125</td>\n",
       "      <td>167416.666667</td>\n",
       "      <td>0.0</td>\n",
       "      <td>460136.500000</td>\n",
       "      <td>58.904167</td>\n",
       "      <td>428734.833333</td>\n",
       "      <td>119963.916667</td>\n",
       "      <td>84.508333</td>\n",
       "    </tr>\n",
       "    <tr>\n",
       "      <th>2</th>\n",
       "      <td>170.0</td>\n",
       "      <td>0.0</td>\n",
       "      <td>13.0</td>\n",
       "      <td>45.0</td>\n",
       "      <td>24.0</td>\n",
       "      <td>1.0</td>\n",
       "      <td>1.0</td>\n",
       "      <td>0.0</td>\n",
       "      <td>0.0</td>\n",
       "      <td>1.0</td>\n",
       "      <td>...</td>\n",
       "      <td>0.0</td>\n",
       "      <td>0.000000</td>\n",
       "      <td>0.0000</td>\n",
       "      <td>68325.750000</td>\n",
       "      <td>0.0</td>\n",
       "      <td>8510.750000</td>\n",
       "      <td>0.000000</td>\n",
       "      <td>25294.500000</td>\n",
       "      <td>0.000000</td>\n",
       "      <td>0.000000</td>\n",
       "    </tr>\n",
       "    <tr>\n",
       "      <th>3</th>\n",
       "      <td>151.0</td>\n",
       "      <td>0.0</td>\n",
       "      <td>13.0</td>\n",
       "      <td>46.0</td>\n",
       "      <td>134.0</td>\n",
       "      <td>0.0</td>\n",
       "      <td>1.0</td>\n",
       "      <td>0.0</td>\n",
       "      <td>1.0</td>\n",
       "      <td>0.0</td>\n",
       "      <td>...</td>\n",
       "      <td>0.0</td>\n",
       "      <td>2706.500000</td>\n",
       "      <td>0.0000</td>\n",
       "      <td>57083.333333</td>\n",
       "      <td>0.0</td>\n",
       "      <td>341916.833333</td>\n",
       "      <td>0.000000</td>\n",
       "      <td>344417.500000</td>\n",
       "      <td>31825.250000</td>\n",
       "      <td>0.000000</td>\n",
       "    </tr>\n",
       "    <tr>\n",
       "      <th>4</th>\n",
       "      <td>170.0</td>\n",
       "      <td>0.0</td>\n",
       "      <td>13.0</td>\n",
       "      <td>46.0</td>\n",
       "      <td>116.0</td>\n",
       "      <td>0.0</td>\n",
       "      <td>1.0</td>\n",
       "      <td>1.0</td>\n",
       "      <td>0.0</td>\n",
       "      <td>1.0</td>\n",
       "      <td>...</td>\n",
       "      <td>0.0</td>\n",
       "      <td>6227.666667</td>\n",
       "      <td>0.0000</td>\n",
       "      <td>291317.166667</td>\n",
       "      <td>0.0</td>\n",
       "      <td>291684.500000</td>\n",
       "      <td>0.000000</td>\n",
       "      <td>83849.250000</td>\n",
       "      <td>402597.666667</td>\n",
       "      <td>0.000000</td>\n",
       "    </tr>\n",
       "  </tbody>\n",
       "</table>\n",
       "<p>5 rows × 65 columns</p>\n",
       "</div>"
      ],
      "text/plain": [
       "   Subsegmento  Sexo  Region  Edad  Antiguedad  Internauta  Adicional  \\\n",
       "0        160.0   1.0    13.0  43.0       130.0         1.0        1.0   \n",
       "1        160.0   0.0    13.0  46.0        69.0         1.0        0.0   \n",
       "2        170.0   0.0    13.0  45.0        24.0         1.0        1.0   \n",
       "3        151.0   0.0    13.0  46.0       134.0         0.0        1.0   \n",
       "4        170.0   0.0    13.0  46.0       116.0         0.0        1.0   \n",
       "\n",
       "   Dualidad  Monoproducto  Ctacte  ...  ColL2AC_avg   ColL2CC_avg   ColMx_avg  \\\n",
       "0       0.0           0.0     1.0  ...          0.0  34699.666667      0.0000   \n",
       "1       0.0           0.0     1.0  ...          0.0  17597.250000  45699.2125   \n",
       "2       0.0           0.0     1.0  ...          0.0      0.000000      0.0000   \n",
       "3       0.0           1.0     0.0  ...          0.0   2706.500000      0.0000   \n",
       "4       1.0           0.0     1.0  ...          0.0   6227.666667      0.0000   \n",
       "\n",
       "     PagoNac_avg  PagoInt_avg    EeccNac_avg  EeccInt_avg      UsoL1_avg  \\\n",
       "0   29333.333333          0.0  908079.416667     0.000000  913045.583333   \n",
       "1  167416.666667          0.0  460136.500000    58.904167  428734.833333   \n",
       "2   68325.750000          0.0    8510.750000     0.000000   25294.500000   \n",
       "3   57083.333333          0.0  341916.833333     0.000000  344417.500000   \n",
       "4  291317.166667          0.0  291684.500000     0.000000   83849.250000   \n",
       "\n",
       "       UsoL2_avg  UsoLI_avg  \n",
       "0   53874.250000   0.000000  \n",
       "1  119963.916667  84.508333  \n",
       "2       0.000000   0.000000  \n",
       "3   31825.250000   0.000000  \n",
       "4  402597.666667   0.000000  \n",
       "\n",
       "[5 rows x 65 columns]"
      ]
     },
     "execution_count": 28,
     "metadata": {},
     "output_type": "execute_result"
    }
   ],
   "source": [
    "# Asignar variables objetivo\n",
    "X = monopoly.drop(['Renta'], axis=1)\n",
    "X.head()"
   ]
  },
  {
   "cell_type": "code",
   "execution_count": 34,
   "metadata": {},
   "outputs": [
    {
     "data": {
      "text/plain": [
       "0    601932.8\n",
       "1    143640.0\n",
       "2    929106.0\n",
       "3    172447.0\n",
       "4    805250.0\n",
       "Name: Renta, dtype: float64"
      ]
     },
     "execution_count": 34,
     "metadata": {},
     "output_type": "execute_result"
    }
   ],
   "source": [
    "y = monopoly['Renta']\n",
    "y.head()"
   ]
  },
  {
   "cell_type": "markdown",
   "metadata": {},
   "source": [
    "#### **Modelo N°1**"
   ]
  },
  {
   "cell_type": "code",
   "execution_count": 35,
   "metadata": {},
   "outputs": [],
   "source": [
    "from cuml.neighbors import KNeighborsRegressor\n",
    "\n",
    "# Creación del modelo\n",
    "knn_1 = KNeighborsRegressor(n_neighbors=5)"
   ]
  },
  {
   "cell_type": "code",
   "execution_count": 36,
   "metadata": {},
   "outputs": [],
   "source": [
    "knn_1 = knn_1.fit(X, y)"
   ]
  },
  {
   "cell_type": "code",
   "execution_count": 37,
   "metadata": {},
   "outputs": [],
   "source": [
    "Y_hat = knn_1.predict(X)"
   ]
  },
  {
   "cell_type": "code",
   "execution_count": 40,
   "metadata": {},
   "outputs": [
    {
     "name": "stdout",
     "output_type": "stream",
     "text": [
      "MAE: 168665.58\n",
      "MSE: 79441744940.96\n",
      "RMSE: 281854.12\n",
      "r2: 0.45\n"
     ]
    }
   ],
   "source": [
    "# Evaluación del modelo\n",
    "from cuml.metrics import mean_squared_error\n",
    "from cuml.metrics import r2_score\n",
    "from cuml.metrics import mean_absolute_error\n",
    "from math import sqrt\n",
    "\n",
    "\n",
    "MAE_1 = mean_absolute_error(y, Y_hat)\n",
    "MSE_1 = mean_squared_error(y, Y_hat)\n",
    "RMSE_1 = sqrt(MSE_1)\n",
    "r2_1 = r2_score(y, Y_hat)\n",
    "\n",
    "print(\"MAE: %.2f\" % MAE_1 )\n",
    "print(\"MSE: %.2f\" % MSE_1)\n",
    "print(\"RMSE: %.2f\" % RMSE_1)\n",
    "print('r2: %.2f' % r2_1)"
   ]
  },
  {
   "cell_type": "markdown",
   "metadata": {},
   "source": [
    "#### **Modelo N°2**"
   ]
  },
  {
   "cell_type": "code",
   "execution_count": 45,
   "metadata": {},
   "outputs": [],
   "source": [
    "from cuml.model_selection import train_test_split\n",
    "\n",
    "# Dividir en train y test\n",
    "X_train, X_test, y_train, y_test = train_test_split(X, y, train_size=0.8, random_state=52)"
   ]
  },
  {
   "cell_type": "code",
   "execution_count": 63,
   "metadata": {},
   "outputs": [],
   "source": [
    "knn_2 = KNeighborsRegressor(n_neighbors=7, metric='euclidean', weights='uniform')"
   ]
  },
  {
   "cell_type": "code",
   "execution_count": 64,
   "metadata": {},
   "outputs": [],
   "source": [
    "knn_2 = knn_2.fit(X_train, y_train)"
   ]
  },
  {
   "cell_type": "code",
   "execution_count": 65,
   "metadata": {},
   "outputs": [],
   "source": [
    "Y_hat = knn_2.predict(X_test)"
   ]
  },
  {
   "cell_type": "code",
   "execution_count": 66,
   "metadata": {},
   "outputs": [
    {
     "name": "stdout",
     "output_type": "stream",
     "text": [
      "MAE: 201465.16\n",
      "MSE: 104804196651.52\n",
      "RMSE: 323734.76\n",
      "r2: 0.21\n"
     ]
    }
   ],
   "source": [
    "MAE_2 = mean_absolute_error(y_test, Y_hat)\n",
    "MSE_2 = mean_squared_error(y_test, Y_hat)\n",
    "RMSE_2 = sqrt(MSE_2)\n",
    "r2_2 = r2_score(y_test, Y_hat)\n",
    "\n",
    "print(\"MAE: %.2f\" % MAE_2 )\n",
    "print(\"MSE: %.2f\" % MSE_2)\n",
    "print(\"RMSE: %.2f\" % RMSE_2)\n",
    "print('r2: %.2f' % r2_2)"
   ]
  },
  {
   "cell_type": "markdown",
   "metadata": {},
   "source": [
    "#### **Modelo N°3**"
   ]
  },
  {
   "cell_type": "code",
   "execution_count": 67,
   "metadata": {},
   "outputs": [],
   "source": [
    "knn_3 = KNeighborsRegressor(n_neighbors=12, metric='minkowski', p=5)"
   ]
  },
  {
   "cell_type": "code",
   "execution_count": 68,
   "metadata": {},
   "outputs": [],
   "source": [
    "knn_3 = knn_3.fit(X_train, y_train)\n",
    "Y_hat = knn_3.predict(X_test)"
   ]
  },
  {
   "cell_type": "code",
   "execution_count": 69,
   "metadata": {},
   "outputs": [
    {
     "name": "stdout",
     "output_type": "stream",
     "text": [
      "MAE: 202024.48\n",
      "MSE: 102324658332.41\n",
      "RMSE: 319882.26\n",
      "r2: 0.22\n"
     ]
    }
   ],
   "source": [
    "MAE_3 = mean_absolute_error(y_test, Y_hat)\n",
    "MSE_3 = mean_squared_error(y_test, Y_hat)\n",
    "RMSE_3 = sqrt(MSE_3)\n",
    "r2_3 = r2_score(y_test, Y_hat)\n",
    "\n",
    "print(\"MAE: %.2f\" % MAE_3)\n",
    "print(\"MSE: %.2f\" % MSE_3)\n",
    "print(\"RMSE: %.2f\" % RMSE_3)\n",
    "print('r2: %.2f' % r2_3)"
   ]
  },
  {
   "cell_type": "markdown",
   "metadata": {},
   "source": [
    "#### **Modelo N°4**"
   ]
  },
  {
   "cell_type": "code",
   "execution_count": 71,
   "metadata": {},
   "outputs": [],
   "source": [
    "knn_4 = KNeighborsRegressor(n_neighbors=17, metric='manhattan', weights='uniform')"
   ]
  },
  {
   "cell_type": "code",
   "execution_count": 72,
   "metadata": {},
   "outputs": [],
   "source": [
    "knn_4 = knn_4.fit(X_train, y_train)\n",
    "Y_hat = knn_4.predict(X_test)"
   ]
  },
  {
   "cell_type": "code",
   "execution_count": 73,
   "metadata": {},
   "outputs": [
    {
     "name": "stdout",
     "output_type": "stream",
     "text": [
      "MAE: 200080.00\n",
      "MSE: 100557116507.42\n",
      "RMSE: 317107.42\n",
      "r2: 0.24\n"
     ]
    }
   ],
   "source": [
    "MAE_4 = mean_absolute_error(y_test, Y_hat)\n",
    "MSE_4 = mean_squared_error(y_test, Y_hat)\n",
    "RMSE_4 = sqrt(MSE_4)\n",
    "r2_4 = r2_score(y_test, Y_hat)\n",
    "\n",
    "print(\"MAE: %.2f\" % MAE_4)\n",
    "print(\"MSE: %.2f\" % MSE_4)\n",
    "print(\"RMSE: %.2f\" % RMSE_4)\n",
    "print('r2: %.2f' % r2_4)"
   ]
  },
  {
   "cell_type": "markdown",
   "metadata": {},
   "source": [
    "#### **Modelo N°5**"
   ]
  },
  {
   "cell_type": "code",
   "execution_count": null,
   "metadata": {},
   "outputs": [],
   "source": [
    "from cuml.model_selection import GridSearchCV\n",
    "\n",
    "# Definir la lista de hiperparámetros a probar\n",
    "param_grid = {\n",
    "    'n_neighbors': [3, 5, 7, 9, 12],  # Valores de K\n",
    "    'metric': ['euclidean', 'manhattan', 'minkowski']  # Métricas de distancia\n",
    "}\n",
    "\n",
    "# Crear el modelo KNN Regressor\n",
    "knn = KNeighborsRegressor()\n",
    "\n",
    "# Realizar la búsqueda en cuadrícula\n",
    "grid_search = GridSearchCV(estimator=knn, param_grid=param_grid, scoring='neg_mean_squared_error', cv=5)\n",
    "grid_search.fit(X_train, y_train)  # X_train y y_train son tus datos de entrenamiento\n",
    "\n",
    "# Obtener los mejores hiperparámetros\n",
    "best_params = grid_search.best_params_\n",
    "best_params"
   ]
  }
 ],
 "metadata": {
  "kernelspec": {
   "display_name": "env",
   "language": "python",
   "name": "python3"
  },
  "language_info": {
   "codemirror_mode": {
    "name": "ipython",
    "version": 3
   },
   "file_extension": ".py",
   "mimetype": "text/x-python",
   "name": "python",
   "nbconvert_exporter": "python",
   "pygments_lexer": "ipython3",
   "version": "3.10.12"
  }
 },
 "nbformat": 4,
 "nbformat_minor": 2
}
